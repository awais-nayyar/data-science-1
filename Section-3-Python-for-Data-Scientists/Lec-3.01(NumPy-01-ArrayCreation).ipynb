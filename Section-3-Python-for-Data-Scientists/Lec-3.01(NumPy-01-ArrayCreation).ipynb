{
 "cells": [
  {
   "cell_type": "markdown",
   "id": "07d04291",
   "metadata": {},
   "source": [
    "---   \n",
    " <img align=\"left\" width=\"75\" height=\"75\"  src=\"https://upload.wikimedia.org/wikipedia/en/c/c8/University_of_the_Punjab_logo.png\"> \n",
    "\n",
    "<h1 align=\"center\">Department of Data Science</h1>\n",
    "<h1 align=\"center\">Course: Tools and Techniques for Data Science</h1>\n",
    "\n",
    "---\n",
    "<h3><div align=\"right\">Instructor: Muhammad Arif Butt, Ph.D.</div></h3>    "
   ]
  },
  {
   "cell_type": "markdown",
   "id": "f362a88f",
   "metadata": {},
   "source": [
    "<h1 align=\"center\">Lecture 3.1 (NumPy-01)</h1>"
   ]
  },
  {
   "cell_type": "markdown",
   "id": "db61dfd7",
   "metadata": {},
   "source": [
    "<a href=\"https://colab.research.google.com/github/arifpucit/data-science/blob/master/Section-3-Python-for-Data-Scientists/Lec-3.01(NumPy-01-ArrayCreation).ipynb\" target=\"_parent\"><img src=\"https://colab.research.google.com/assets/colab-badge.svg\" alt=\"Open In Colab\"/></a>"
   ]
  },
  {
   "cell_type": "markdown",
   "id": "fa7486dc",
   "metadata": {},
   "source": [
    "# _01-NumPy-ArrayCreation.ipynb_"
   ]
  },
  {
   "cell_type": "markdown",
   "id": "c4837a46",
   "metadata": {},
   "source": [
    "<img align=\"center\" width=\"400\" height=\"400\"  src=\"images/numpyintro.png\" > "
   ]
  },
  {
   "cell_type": "code",
   "execution_count": null,
   "id": "0f890596",
   "metadata": {},
   "outputs": [],
   "source": []
  },
  {
   "cell_type": "markdown",
   "id": "2a5c5e74",
   "metadata": {},
   "source": [
    "# Learning agenda of this notebook\n",
    "1. Introduction to Numpy Library\n",
    "2. Array Creation using `np.array()` constructor\n",
    "3. Miscellaneous Array Creation Functions\n",
    "    - `np.zeros()`\n",
    "    - `np.ones()`\n",
    "    - `np.empty()`\n",
    "    - `np.full()`\n",
    "    - `np.eye()`\n",
    "    - `np.fromstring()`\n",
    "    - `np.arange()`\n",
    "    - `np.linspace()`\n",
    "    - `np.random.rand()`\n",
    "    - `np.random.randint()`\n",
    "    - `np.zeros_like()`"
   ]
  },
  {
   "cell_type": "markdown",
   "id": "307bcc79",
   "metadata": {},
   "source": [
    "## 1. Introduction to Numpy Library\n",
    "<img align=\"right\" width=\"500\" height=\"300\"  src=\"images/ndarrays.png\" > \n",
    "\n",
    "- *A **NumPy array** (https://numpy.org) is a numerically ordered sequence of elements stored contiguously in memory, that can store elements of homogeneous types (usually numbers but can be boolians, strings, or other objects), is iterable, mutable, non-growable/shrinkable and allows duplicate elements.*\n",
    "- Some attributes of NumPy Array:\n",
    ">- **ndim:** The number of dimensions, can be 1, 2, 3, ... N\n",
    ">- **axis:** Each dimension is called an axis: `axis 0` is the vertical axis, goes from top to bottom, represents the number of rows, `axis 1` is the horizontal axis, goes from left to right, represents the number of columns, `axis 2` is the number of columns along z axis\n",
    ">- **rank:** The number of axes is called the rank.\n",
    ">- **shape:** It is a tuple whose length is the rank and elements are dimension of each axis.\n",
    ">- **size:** It is the total number of elements, which is the product of all axis lengths.\n",
    ">- **itemsize:** It gives you the size in bytes of each element of the array (depends on dtype).\n",
    ">- **nbytes:** It gives you the total number of bytes occupied by entire array object in memory (size x itemsize)."
   ]
  },
  {
   "cell_type": "markdown",
   "id": "0fcd7b42",
   "metadata": {},
   "source": [
    "<img align=\"left\" width=\"600\" height=\"400\"  src=\"images/numpymemlayout.png\" > \n",
    "<img align=\"right\" width=\"300\" height=\"300\"  src=\"images/ndarrayobject.png\" > "
   ]
  },
  {
   "cell_type": "markdown",
   "id": "28ac3d07",
   "metadata": {},
   "source": [
    "To understand the internal memory layout of NumPy ndarray object, consider the four additional attributes:\n",
    "- A pointer, to block of data in RAM or in a memory-mapped file\n",
    "- A dtype, that describes fixed-size value cells in the array\n",
    "- A shape, which is a tuple indicating the array’s shape\n",
    "- A strides, which is a tuple of integers indicating the number of bytes to “step” in order to advance one element along a dimension (C-Type/Row-Major vs F-Type/Column-Major)\n",
    "    - Row-Major means that if you have a two-dimensional array of data, the values in each row of the array are stored in adjacent memory locations\n",
    "    - Column-Major means that if you have a two-dimensional array of data, the values in each column of the array are stored in adjacent memory locations\n",
    "    \n",
    "    \n",
    "    \n",
    ">- **data:** A pointer to block of data in RAM or in memory-mapped file. (Returns memory address)\n",
    ">- **dtype:** It gives you the dtype of the numPy array elements (fixed size value cells in memory)\n",
    ">- **shape:** It gives you a tuple indicating the array's shape\n",
    ">- **strides:** The strides attribute is a tuple of the same length as the number of axes (dimensions) of the array. The strides of an array tell us how many bytes we have to skip in memory to move to the next position along a certain axis. For example, in above 2-D array (shown in figure), we have to skip 4 bytes (1 value) to move to the next column, but 12 bytes (3 values) to get to the same position in the next row (for row-major).\n",
    "    - Row-Major means that if you have a two-dimensional array of data, the values in each row of the array are stored in adjacent memory locations\n",
    "    - Column-Major means that if you have a two-dimensional array of data, the values in each column of the array are stored in adjacent memory locations\n",
    ">- **flags:** It gives you information about the memory layout of the array."
   ]
  },
  {
   "cell_type": "code",
   "execution_count": 4,
   "id": "b85cdbbb",
   "metadata": {},
   "outputs": [
    {
     "name": "stderr",
     "output_type": "stream",
     "text": [
      "'C:\\Users\\Awais' is not recognized as an internal or external command,\n",
      "operable program or batch file.\n"
     ]
    }
   ],
   "source": [
    "import sys\n",
    "!{sys.executable} -m pip install --upgrade pip"
   ]
  },
  {
   "cell_type": "code",
   "execution_count": 5,
   "id": "c2831c56",
   "metadata": {},
   "outputs": [
    {
     "name": "stderr",
     "output_type": "stream",
     "text": [
      "'C:\\Users\\Awais' is not recognized as an internal or external command,\n",
      "operable program or batch file.\n"
     ]
    }
   ],
   "source": [
    "# Unlike the other modules, we have been working so far, you have to download and install numPy\n",
    "# To install this library in Jupyter notebook\n",
    "import sys\n",
    "!{sys.executable} -m pip install numpy"
   ]
  },
  {
   "cell_type": "code",
   "execution_count": null,
   "id": "822d275e",
   "metadata": {},
   "outputs": [],
   "source": []
  },
  {
   "cell_type": "code",
   "execution_count": 6,
   "id": "dba905d0",
   "metadata": {},
   "outputs": [
    {
     "data": {
      "text/plain": [
       "('1.23.5',\n",
       " ['C:\\\\Users\\\\Awais Nayyar\\\\AppData\\\\Local\\\\Programs\\\\Python\\\\Python311\\\\Lib\\\\site-packages\\\\numpy'])"
      ]
     },
     "execution_count": 6,
     "metadata": {},
     "output_type": "execute_result"
    }
   ],
   "source": [
    "import numpy as np\n",
    "np.__version__ , np.__path__"
   ]
  },
  {
   "cell_type": "markdown",
   "id": "acd0efbb",
   "metadata": {},
   "source": [
    "## 2.  Array Creation using `np.array()` Constructor\n",
    "<img align=\"right\" width=\"500\" height=\"400\"  src=\"images/numpytypes.png\" > \n",
    "\n",
    "```\n",
    "np.array(seq, dtype)\n",
    "```\n",
    "- The only required argument is a sequence like object like a list from which to create an array\n",
    "- The optional `dtype` argument specifies the data type of the array objects. \n",
    "- For integer values it is normally int64\n",
    "- For float values it is normally float64.\n",
    "- You can mention `dtype` if you want to limit memory usage. "
   ]
  },
  {
   "cell_type": "code",
   "execution_count": 5,
   "id": "8fe6d012",
   "metadata": {},
   "outputs": [
    {
     "data": {
      "text/plain": [
       "{'int': [numpy.int8, numpy.int16, numpy.int32, numpy.int64],\n",
       " 'uint': [numpy.uint8, numpy.uint16, numpy.uint32, numpy.uint64],\n",
       " 'float': [numpy.float16, numpy.float32, numpy.float64],\n",
       " 'complex': [numpy.complex64, numpy.complex128],\n",
       " 'others': [bool, object, bytes, str, numpy.void]}"
      ]
     },
     "execution_count": 5,
     "metadata": {},
     "output_type": "execute_result"
    }
   ],
   "source": [
    "np.sctypes"
   ]
  },
  {
   "cell_type": "code",
   "execution_count": null,
   "id": "757eb216",
   "metadata": {},
   "outputs": [],
   "source": []
  },
  {
   "cell_type": "markdown",
   "id": "b8dbea3f",
   "metadata": {},
   "source": [
    "### a.  Creating an Empty NumPy Array"
   ]
  },
  {
   "cell_type": "code",
   "execution_count": 4,
   "id": "a72abbe2",
   "metadata": {},
   "outputs": [
    {
     "name": "stdout",
     "output_type": "stream",
     "text": [
      "[]\n",
      "<class 'numpy.ndarray'>\n"
     ]
    }
   ],
   "source": [
    "import numpy as np\n",
    "arr = np.array([])\n",
    "print(arr)\n",
    "print(type(arr))"
   ]
  },
  {
   "cell_type": "code",
   "execution_count": 5,
   "id": "006754f4",
   "metadata": {},
   "outputs": [
    {
     "name": "stdout",
     "output_type": "stream",
     "text": [
      "array:  []\n",
      "arr.ndim:  1\n",
      "arr.shape:  (0,)\n",
      "arr.size:  0\n",
      "arr.dtype:  float64\n",
      "arr.itemsize:  8\n",
      "arr.nbytes:  0\n",
      "arr.data:  <memory at 0x000001AE72F6CA00>\n",
      "arr.strides:  (0,)\n",
      "arr.flags: \n",
      "   C_CONTIGUOUS : True\n",
      "  F_CONTIGUOUS : True\n",
      "  OWNDATA : True\n",
      "  WRITEABLE : True\n",
      "  ALIGNED : True\n",
      "  WRITEBACKIFCOPY : False\n",
      "\n"
     ]
    }
   ],
   "source": [
    "print(\"array: \", arr)\n",
    "print(\"arr.ndim: \", arr.ndim)   # get number of dimensions (an empty array has number of dimensions equals to 1)\n",
    "print(\"arr.shape: \", arr.shape) # This is an empty array, so have a shape of (0, )\n",
    "print(\"arr.size: \", arr.size)   # get total number of elements\n",
    "print(\"arr.dtype: \", arr.dtype) # get data type, default for empty array is float64\n",
    "print(\"arr.itemsize: \", arr.itemsize)  # get size in bytes of each element of the array default is 8 for float64\n",
    "print(\"arr.nbytes: \", arr.nbytes)  # get number of bytes occupied by entire array object in memory\n",
    "\n",
    "print(\"arr.data: \", arr.data)\n",
    "print(\"arr.strides: \", arr.strides)\n",
    "print(\"arr.flags: \\n\", arr.flags)"
   ]
  },
  {
   "cell_type": "code",
   "execution_count": null,
   "id": "12e3d956",
   "metadata": {},
   "outputs": [],
   "source": []
  },
  {
   "cell_type": "markdown",
   "id": "38beed8a",
   "metadata": {},
   "source": [
    "### b.  0-Dimensional Array\n",
    "- A 0-D array has a single scalar value, and has zero or no axis"
   ]
  },
  {
   "cell_type": "code",
   "execution_count": 6,
   "id": "e25df0a4",
   "metadata": {},
   "outputs": [
    {
     "name": "stdout",
     "output_type": "stream",
     "text": [
      "array:  10\n"
     ]
    }
   ],
   "source": [
    "# Create a 0-D numpy array using array() constructor\n",
    "import numpy as np\n",
    "arr = np.array(10)\n",
    "print(\"array: \", arr)"
   ]
  },
  {
   "cell_type": "code",
   "execution_count": 5,
   "id": "0e297790",
   "metadata": {},
   "outputs": [
    {
     "name": "stdout",
     "output_type": "stream",
     "text": [
      "array:  10\n",
      "arr.ndim:  0\n",
      "arr.shape:  ()\n",
      "arr.size:  1\n",
      "arr.dtype:  int32\n",
      "arr.itemsize:  4\n",
      "arr.nbytes:  4\n",
      "arr.data:  <memory at 0x000001F375065120>\n",
      "arr.strides:  ()\n",
      "arr.flags: \n",
      "   C_CONTIGUOUS : True\n",
      "  F_CONTIGUOUS : True\n",
      "  OWNDATA : True\n",
      "  WRITEABLE : True\n",
      "  ALIGNED : True\n",
      "  WRITEBACKIFCOPY : False\n",
      "\n"
     ]
    }
   ],
   "source": [
    "print(\"array: \", arr)\n",
    "print(\"arr.ndim: \", arr.ndim)   # get number of dimensions (a 0-D array has number of dimensions equals to 0)\n",
    "print(\"arr.shape: \", arr.shape) # This is a scalar value, so have no shape ( )\n",
    "print(\"arr.size: \", arr.size)   # get total number of elements, in this case it is 1\n",
    "print(\"arr.dtype: \", arr.dtype) # get data type, default is what is minimum required to hold the only element\n",
    "print(\"arr.itemsize: \", arr.itemsize)  # get size in bytes of each element of the array default is 8 for int64\n",
    "print(\"arr.nbytes: \", arr.nbytes)  # get number of bytes occupied by entire array object in memory\n",
    "\n",
    "print(\"arr.data: \", arr.data)\n",
    "print(\"arr.strides: \", arr.strides)\n",
    "print(\"arr.flags: \\n\", arr.flags)"
   ]
  },
  {
   "cell_type": "code",
   "execution_count": null,
   "id": "f4b11685",
   "metadata": {},
   "outputs": [],
   "source": []
  },
  {
   "cell_type": "markdown",
   "id": "07a08a79",
   "metadata": {},
   "source": [
    "### c.  1-Dimensional Arrays\n",
    "<img align=\"left\" width=\"200\" height=\"100\"  src=\"images/1d.png\" > \n",
    "\n",
    "- An array that has 0-D arrays or scalar values, as its elements is called a 1-D array. \n",
    "- Used to represent vectors or 1st order tensors.\n",
    "- A 1-D array has only one axis:\n",
    "    - **axis 0:** or vertical axis   or x-axis or number of rows"
   ]
  },
  {
   "cell_type": "code",
   "execution_count": 9,
   "id": "72f4134d",
   "metadata": {},
   "outputs": [
    {
     "data": {
      "text/plain": [
       "array([[ 5,  3,  2],\n",
       "       [ 8,  9, -1],\n",
       "       [ 2, -3,  6]])"
      ]
     },
     "execution_count": 9,
     "metadata": {},
     "output_type": "execute_result"
    }
   ],
   "source": [
    "arr = np.array([[5,3,2],[8,9,-1],[2,-3,6]])\n",
    "arr"
   ]
  },
  {
   "cell_type": "code",
   "execution_count": 10,
   "id": "2e296330",
   "metadata": {},
   "outputs": [
    {
     "name": "stdout",
     "output_type": "stream",
     "text": [
      "5\n",
      "3\n",
      "2\n",
      "8\n",
      "9\n",
      "-1\n",
      "2\n",
      "-3\n",
      "6\n"
     ]
    }
   ],
   "source": [
    "for i in range(3):\n",
    "    for j in range(3):\n",
    "        print(arr[i,j])"
   ]
  },
  {
   "cell_type": "markdown",
   "id": "634f2640",
   "metadata": {},
   "source": [
    "# "
   ]
  },
  {
   "cell_type": "code",
   "execution_count": null,
   "id": "e2f70cb3",
   "metadata": {},
   "outputs": [],
   "source": []
  },
  {
   "cell_type": "code",
   "execution_count": null,
   "id": "fd03ba47",
   "metadata": {},
   "outputs": [],
   "source": []
  },
  {
   "cell_type": "code",
   "execution_count": null,
   "id": "93dab3eb",
   "metadata": {},
   "outputs": [],
   "source": []
  },
  {
   "cell_type": "code",
   "execution_count": null,
   "id": "41a54fde",
   "metadata": {},
   "outputs": [],
   "source": []
  },
  {
   "cell_type": "code",
   "execution_count": null,
   "id": "f66e0de4",
   "metadata": {},
   "outputs": [],
   "source": []
  },
  {
   "cell_type": "code",
   "execution_count": 11,
   "id": "3530bb63",
   "metadata": {},
   "outputs": [
    {
     "name": "stdout",
     "output_type": "stream",
     "text": [
      "array:  [1 4 2 5 3]\n",
      "arr.ndim:  1\n",
      "arr.shape:  (5,)\n",
      "arr.size:  5\n",
      "arr.dtype:  uint8\n",
      "arr.itemsize:  1\n",
      "arr.nbytes:  5\n",
      "arr.data:  <memory at 0x000001AE792B65C0>\n",
      "arr.strides:  (1,)\n",
      "arr.flags: \n",
      "   C_CONTIGUOUS : True\n",
      "  F_CONTIGUOUS : True\n",
      "  OWNDATA : True\n",
      "  WRITEABLE : True\n",
      "  ALIGNED : True\n",
      "  WRITEBACKIFCOPY : False\n",
      "\n"
     ]
    }
   ],
   "source": [
    "# Create a 1-D numpy array using array() constructor of numpy\n",
    "\n",
    "mylist = [1, 4, 2, 5, 3]\n",
    "arr = np.array(mylist, dtype=np.uint8)\n",
    "#arr = np.array([1, 4, 2, 5, 3], dtype=np.uint32)\n",
    "\n",
    "print(\"array: \", arr)\n",
    "print(\"arr.ndim: \", arr.ndim)   # get number of dimensions\n",
    "print(\"arr.shape: \", arr.shape) # This is 1-D array having 5 columns, so return a tuple with one element\n",
    "print(\"arr.size: \", arr.size)   # get total number of elements\n",
    "print(\"arr.dtype: \", arr.dtype) # get data type, default is what is minimum required to hold the max size element\n",
    "print(\"arr.itemsize: \", arr.itemsize)  # get size in bytes of each element of the array\n",
    "print(\"arr.nbytes: \", arr.nbytes)  # get number of bytes occupied by entire array object in memory (2*5=10)\n",
    "\n",
    "print(\"arr.data: \", arr.data)\n",
    "print(\"arr.strides: \", arr.strides)\n",
    "print(\"arr.flags: \\n\", arr.flags)"
   ]
  },
  {
   "cell_type": "markdown",
   "id": "f4c9b2bf",
   "metadata": {},
   "source": [
    ">Note once you print NumPy array elements they are displayed inside `[ ]` as a Python List, however, the elements are space separated in case of NumPy arrays, while in case of Python Lists the elements are comma separated"
   ]
  },
  {
   "cell_type": "code",
   "execution_count": null,
   "id": "06a0a65c",
   "metadata": {},
   "outputs": [],
   "source": []
  },
  {
   "cell_type": "markdown",
   "id": "92edb9d5",
   "metadata": {},
   "source": [
    "### d.  2-Dimensional Arrays\n",
    "<img align=\"left\" width=\"200\" height=\"100\"  src=\"images/2d.png\" > \n",
    "\n",
    "- An array that has 1-D arrays as its elements is called a 2-D array. \n",
    "- Used to represent matrix or 2nd order tensors.\n",
    "- A 2-D array has two axis:\n",
    "    - **axis 0:** is the vertical axis, goes from top to bottom, represents the number of rows (5)\n",
    "    - **axis 1:** is the horizontal axis, goes from left to right, represents the number of columns (4)\n",
    "- If you've taken a linear algebra class in high school, you may recognize this 2-d array as a matrix with five rows and four columns. \n",
    "- Each row represents a city, and the columns may contain temperature, rainfall, humidity, and smog in that city respectively."
   ]
  },
  {
   "cell_type": "code",
   "execution_count": 17,
   "id": "3f19c130",
   "metadata": {},
   "outputs": [
    {
     "name": "stdout",
     "output_type": "stream",
     "text": [
      "array: \n",
      " [[1 2 3 4]\n",
      " [5 6 7 8]\n",
      " [3 2 4 1]\n",
      " [7 3 4 9]\n",
      " [4 0 3 1]]\n",
      "arr.ndim:  2\n",
      "arr.shape:  (5, 4)\n",
      "arr.size:  20\n",
      "arr.dtype:  int32\n",
      "arr.itemsize:  4\n",
      "arr.nbytes:  80\n",
      "arr.data:  <memory at 0x000001AE79B017D0>\n",
      "arr.dtypes:  int32\n",
      "arr.strides:  (16, 4)\n",
      "arr.flags: \n",
      "   C_CONTIGUOUS : True\n",
      "  F_CONTIGUOUS : False\n",
      "  OWNDATA : True\n",
      "  WRITEABLE : True\n",
      "  ALIGNED : True\n",
      "  WRITEBACKIFCOPY : False\n",
      "\n"
     ]
    }
   ],
   "source": [
    "# creating 2-D (5x4) array using array constructor in numpy\n",
    "\n",
    "mylist = [\n",
    "          [1, 2, 3, 4], \n",
    "          [5, 6, 7, 8], \n",
    "          [3, 2, 4, 1], \n",
    "          [7, 3, 4, 9], \n",
    "          [4, 0, 3, 1]\n",
    "          ]\n",
    "arr = np.array(mylist)\n",
    "print(\"array: \\n\", arr)\n",
    "print(\"arr.ndim: \", arr.ndim)   #get number of dimensions (2-D array)\n",
    "print(\"arr.shape: \", arr.shape) #get dimension size.For a 2-D array, return a tuple with two elements (rows, cols)\n",
    "print(\"arr.size: \", arr.size)   #get total number of elements (5*4=20 elements)\n",
    "print(\"arr.dtype: \", arr.dtype) #get data type, default is what is minimum required to hold the max size element\n",
    "print(\"arr.itemsize: \", arr.itemsize)  # get size in bytes of each element of the array\n",
    "print(\"arr.nbytes: \", arr.nbytes)  # get number of bytes occupied by entire array object in memory (8*20=160)\n",
    "\n",
    "\n",
    "print(\"arr.data: \", arr.data)\n",
    "print(\"arr.dtypes: \", arr.dtype)\n",
    "print(\"arr.strides: \", arr.strides)\n",
    "print(\"arr.flags: \\n\", arr.flags)"
   ]
  },
  {
   "cell_type": "code",
   "execution_count": 18,
   "id": "d66656a6",
   "metadata": {},
   "outputs": [
    {
     "data": {
      "text/plain": [
       "array([[5, 6, 7, 8],\n",
       "       [3, 2, 4, 1]])"
      ]
     },
     "execution_count": 18,
     "metadata": {},
     "output_type": "execute_result"
    }
   ],
   "source": [
    "arr[1][1]\n",
    "arr[1:3,:]"
   ]
  },
  {
   "cell_type": "code",
   "execution_count": 14,
   "id": "a447943d",
   "metadata": {},
   "outputs": [
    {
     "name": "stdout",
     "output_type": "stream",
     "text": [
      "array: \n",
      " [[1]\n",
      " [2]\n",
      " [3]]\n",
      "arr.ndim:  2\n",
      "arr.shape:  (3, 1)\n",
      "arr.size:  3\n",
      "arr.dtype:  int32\n",
      "arr.itemsize:  4\n",
      "arr.nbytes:  12\n",
      "arr.data:  <memory at 0x000001AE79AC4040>\n",
      "arr.strides:  (4, 4)\n",
      "arr.flags: \n",
      "   C_CONTIGUOUS : True\n",
      "  F_CONTIGUOUS : True\n",
      "  OWNDATA : True\n",
      "  WRITEABLE : True\n",
      "  ALIGNED : True\n",
      "  WRITEBACKIFCOPY : False\n",
      "\n"
     ]
    }
   ],
   "source": [
    "# Another example\n",
    "mylist = [[1], [4], [2], [5], [3]]\n",
    "arr = np.array(mylist)\n",
    "arr = np.array([[1], [2], [3]])\n",
    "print(\"array: \\n\", arr)\n",
    "print(\"arr.ndim: \", arr.ndim)   #get number of dimensions (2-D array)\n",
    "print(\"arr.shape: \", arr.shape) #get dimension size.For a 2-D array, return a tuple with two elements (rows, cols)\n",
    "print(\"arr.size: \", arr.size)   #get total number of elements (5*4=20 elements)\n",
    "print(\"arr.dtype: \", arr.dtype) #get data type, default is what is minimum required to hold the max size element\n",
    "print(\"arr.itemsize: \", arr.itemsize)  # get size in bytes of each element of the array\n",
    "print(\"arr.nbytes: \", arr.nbytes)  # get number of bytes occupied by entire array object in memory (8*20=160)\n",
    "\n",
    "\n",
    "print(\"arr.data: \", arr.data)\n",
    "print(\"arr.strides: \", arr.strides)\n",
    "print(\"arr.flags: \\n\", arr.flags)"
   ]
  },
  {
   "cell_type": "code",
   "execution_count": null,
   "id": "8f7a7f9d",
   "metadata": {},
   "outputs": [],
   "source": []
  },
  {
   "cell_type": "markdown",
   "id": "bbd0d916",
   "metadata": {},
   "source": [
    "### e.  3-Dimensional Arrays\n",
    "<img align=\"left\" width=\"200\" height=\"100\"  src=\"images/3d.png\" > \n",
    "\n",
    "- An array that has 2-D arrays as its elements is called a 3-D array. Used to represent 3rd order tensors.\n",
    "- A 3-D array has three axis:\n",
    "    - **axis 0:** represent the number of rows along x-axis(axis 0). (5)\n",
    "    - **axis 1:** represents the number of rows along y-axis (axis 1). (4)\n",
    "    - **axis 2:** represents the number of columns along z-axis (axix 2). (3)"
   ]
  },
  {
   "cell_type": "code",
   "execution_count": 19,
   "id": "94082d91",
   "metadata": {},
   "outputs": [
    {
     "name": "stdout",
     "output_type": "stream",
     "text": [
      "array: \n",
      " [[[1 2 3]\n",
      "  [5 6 7]\n",
      "  [3 2 4]\n",
      "  [7 3 4]]\n",
      "\n",
      " [[8 1 6]\n",
      "  [1 9 4]\n",
      "  [5 6 4]\n",
      "  [2 6 2]]\n",
      "\n",
      " [[5 3 2]\n",
      "  [2 0 5]\n",
      "  [8 3 0]\n",
      "  [5 6 9]]\n",
      "\n",
      " [[6 7 1]\n",
      "  [8 1 6]\n",
      "  [1 4 7]\n",
      "  [2 0 4]]\n",
      "\n",
      " [[2 8 9]\n",
      "  [3 0 4]\n",
      "  [5 2 2]\n",
      "  [1 3 8]]]\n",
      "arr.ndim:  3\n",
      "arr.shape:  (5, 4, 3)\n",
      "arr.size:  60\n",
      "arr.dtype:  uint8\n",
      "arr.itemsize:  1\n",
      "arr.nbytes:  60\n",
      "arr.data:  <memory at 0x000001AE79A936A0>\n",
      "arr.strides:  (12, 3, 1)\n",
      "arr.flags: \n",
      "   C_CONTIGUOUS : True\n",
      "  F_CONTIGUOUS : False\n",
      "  OWNDATA : True\n",
      "  WRITEABLE : True\n",
      "  ALIGNED : True\n",
      "  WRITEBACKIFCOPY : False\n",
      "\n"
     ]
    }
   ],
   "source": [
    "# creating 3-D (5x4x3) array using array constructor in numpy\n",
    "mylist = [\n",
    "          [[1, 2, 3], [5, 6, 7], [3, 2, 4], [7, 3, 4]],\n",
    "          [[8, 1, 6], [1, 9, 4], [5, 6, 4], [2, 6, 2]],\n",
    "          [[5, 3, 2], [2, 0, 5], [8, 3, 0], [5, 6, 9]],\n",
    "          [[6, 7, 1], [8, 1, 6], [1, 4, 7], [2, 0, 4]],\n",
    "          [[2, 8, 9], [3, 0, 4], [5, 2, 2], [1, 3, 8]],\n",
    "         ]\n",
    "arr = np.array(mylist, dtype=np.uint8)\n",
    "\n",
    "\n",
    "print(\"array: \\n\", arr)\n",
    "print(\"arr.ndim: \", arr.ndim)    # get number of dimensions (3-D array)\n",
    "print(\"arr.shape: \", arr.shape)  # get dimension size.For a 3-D array, return a tuple with three elements\n",
    "print(\"arr.size: \", arr.size)    # get total number of elements (5*4*3=60 elements)\n",
    "print(\"arr.dtype: \", arr.dtype)  # get data type, default is what is minimum required to hold the max size element\n",
    "print(\"arr.itemsize: \", arr.itemsize)  # get size in bytes of each element of the array\n",
    "print(\"arr.nbytes: \", arr.nbytes)  # get number of bytes occupied by entire array object in memory (8*60=4800)\n",
    "\n",
    "\n",
    "print(\"arr.data: \", arr.data)\n",
    "print(\"arr.strides: \", arr.strides)\n",
    "print(\"arr.flags: \\n\", arr.flags)"
   ]
  },
  {
   "cell_type": "markdown",
   "id": "5949cabb",
   "metadata": {},
   "source": [
    "### Understanding Strides"
   ]
  },
  {
   "cell_type": "code",
   "execution_count": 20,
   "id": "e4304e02",
   "metadata": {
    "scrolled": true
   },
   "outputs": [
    {
     "name": "stdout",
     "output_type": "stream",
     "text": [
      "array: \n",
      " [ 0  1  2  3  4  5  6  7  8  9 10 11]\n",
      "arr.data:  <memory at 0x000001AE792B6A40>\n",
      "arr.shape:  (12,)\n",
      "arr.dtype:  int64\n",
      "arr.size:  12\n",
      "arr.itemsize:  8\n",
      "arr.nbytes:  96\n",
      "arr.strides:  (8,)\n",
      "3\n"
     ]
    }
   ],
   "source": [
    "# Strides of 1-D array\n",
    "import numpy as np\n",
    "mylist = [0, 1, 2, 3, 4, 5, 6, 7, 8, 9, 10, 11]\n",
    "arr = np.array(mylist, dtype=np.int64)\n",
    "\n",
    "print(\"array: \\n\", arr)\n",
    "print(\"arr.data: \", arr.data)\n",
    "print(\"arr.shape: \", arr.shape)  \n",
    "print(\"arr.dtype: \", arr.dtype)  \n",
    "print(\"arr.size: \", arr.size)    \n",
    "print(\"arr.itemsize: \", arr.itemsize) \n",
    "print(\"arr.nbytes: \", arr.nbytes)  \n",
    "print(\"arr.strides: \", arr.strides)\n",
    "# Use of strides is in Indexing, slicing and reshaping\n",
    "print(arr[3]) # jump 3*8=24 bytes and then read 8 bytes"
   ]
  },
  {
   "cell_type": "code",
   "execution_count": 16,
   "id": "d89fbe4f",
   "metadata": {},
   "outputs": [
    {
     "name": "stdout",
     "output_type": "stream",
     "text": [
      "array: \n",
      " [[ 0  1  2  3]\n",
      " [ 4  5  6  7]\n",
      " [ 8  9 10 11]]\n",
      "arr.data:  <memory at 0x000001F37B670520>\n",
      "arr.shape:  (3, 4)\n",
      "arr.dtype:  int64\n",
      "arr.size:  12\n",
      "arr.itemsize:  8\n",
      "arr.nbytes:  96\n",
      "arr.strides:  (32, 8)\n",
      "6\n"
     ]
    }
   ],
   "source": [
    "# Strides of 2-D array\n",
    "import numpy as np\n",
    "mylist = [[0, 1, 2, 3], [4, 5, 6, 7], [8, 9, 10, 11]]\n",
    "arr = np.array(mylist, dtype=np.int64)\n",
    "\n",
    "print(\"array: \\n\", arr)\n",
    "print(\"arr.data: \", arr.data)\n",
    "print(\"arr.shape: \", arr.shape)  \n",
    "print(\"arr.dtype: \", arr.dtype)  \n",
    "print(\"arr.size: \", arr.size)    \n",
    "print(\"arr.itemsize: \", arr.itemsize) \n",
    "print(\"arr.nbytes: \", arr.nbytes)  \n",
    "print(\"arr.strides: \", arr.strides)\n",
    "# Use of strides is in Indexing, slicing and reshaping\n",
    "print(arr[1,2]) # jump 1*32+2*8=48 bytes and then read 8 bytes"
   ]
  },
  {
   "cell_type": "code",
   "execution_count": 19,
   "id": "52e7cb89",
   "metadata": {},
   "outputs": [
    {
     "data": {
      "text/plain": [
       "9"
      ]
     },
     "execution_count": 19,
     "metadata": {},
     "output_type": "execute_result"
    }
   ],
   "source": [
    "arr[2,1]"
   ]
  },
  {
   "cell_type": "code",
   "execution_count": 21,
   "id": "d7f544e3",
   "metadata": {},
   "outputs": [
    {
     "name": "stdout",
     "output_type": "stream",
     "text": [
      "array: \n",
      " [[[ 0  1]\n",
      "  [ 2  3]]\n",
      "\n",
      " [[ 4  5]\n",
      "  [ 6  7]]\n",
      "\n",
      " [[ 8  9]\n",
      "  [10 11]]]\n",
      "arr.data:  <memory at 0x000001AE79A936A0>\n",
      "arr.shape:  (3, 2, 2)\n",
      "arr.dtype:  int64\n",
      "arr.size:  12\n",
      "arr.itemsize:  8\n",
      "arr.nbytes:  96\n",
      "arr.strides:  (32, 16, 8)\n",
      "7\n"
     ]
    }
   ],
   "source": [
    "# Strides of 3-D array\n",
    "import numpy as np\n",
    "mylist = [\n",
    "          [[0, 1], [2, 3]],\n",
    "          [[4, 5], [6, 7]],\n",
    "          [[8, 9], [10, 11]]\n",
    "         ]\n",
    "arr = np.array(mylist, dtype=np.int64)\n",
    "\n",
    "print(\"array: \\n\", arr)\n",
    "print(\"arr.data: \", arr.data)\n",
    "print(\"arr.shape: \", arr.shape)  \n",
    "print(\"arr.dtype: \", arr.dtype)  \n",
    "print(\"arr.size: \", arr.size)    \n",
    "print(\"arr.itemsize: \", arr.itemsize) \n",
    "print(\"arr.nbytes: \", arr.nbytes)  \n",
    "print(\"arr.strides: \", arr.strides)\n",
    "# Use of strides is in Indexing, slicing and reshaping\n",
    "print(arr[1,1,1]) # jump 1*32 + 0*16 + 1*8 =40 bytes and then read 8 bytes"
   ]
  },
  {
   "cell_type": "code",
   "execution_count": null,
   "id": "b65d9e8d",
   "metadata": {},
   "outputs": [],
   "source": []
  },
  {
   "cell_type": "markdown",
   "id": "2ad94463",
   "metadata": {},
   "source": [
    "## 3. Miscellaneous Array Creation Function\n",
    "- Numpy also provides some handy methods to create arrays of desired shapes with fixed or random values. Check out the [official documentation](https://numpy.org/doc/stable/reference/routines.array-creation.html) or use the `help` function to learn more."
   ]
  },
  {
   "cell_type": "markdown",
   "id": "cc2a77b5",
   "metadata": {},
   "source": [
    "<img align=\"right\" width=\"150\" height=\"100\"  src=\"images/zeros.png\"  > \n",
    "\n",
    "### a. Using `np.zeros()` Method\n",
    "This method returns an array of given shape and type, filled with zeros.\n",
    "\n",
    "```\n",
    "numpy.zeros(shape, dtype=float)\n",
    "```\n",
    "\n",
    "- shape : The shape is an int or tuple of ints to define the size/shape of the array.\n",
    "- dtype : The dtype is an optional parameter with default value as float."
   ]
  },
  {
   "cell_type": "markdown",
   "id": "5b743012",
   "metadata": {},
   "source": [
    "#####  np.zeros(shape, dtype=float)                     #float 64 in all cases below\n",
    "##### np.ones(shape, dtype=float)\n",
    "##### zeros_like(arr, dtype=None)\n",
    "##### np.empty(shape, dtype=float)                     #fill array with junk values\n",
    "##### np.full(shape, fill_value, dtype=None)       #makethe array with given fill_values eg. fill_value = 5\n",
    "\n",
    "##### np.eye(N, M=None, k=0 , dtype=float)       #it always create 2D array\n",
    "- N: Number of rows in the output\n",
    "- M: Number of columns in the output. If None, defaults to N\n",
    "- k: Index of the diagonal: (Default 0) refers to the main diagonal, a positive value refers to an upper diagonal, and a negative value to a lower diagonal\n",
    "  \n",
    "##### np.fromstring(string, dtype=float, sep='')\n",
    "\n",
    "##### np.linspace(start, stop, num=50)       #default create 50 numbers start and stop is inclusive\n",
    "##### np.arange(start, stop, step)                #it will only create 1D array\n",
    "\n",
    "##### np.random.rand()             #it will return only one random value between 0 and 1 both (exclusive)\n",
    "##### np.random.rand(2,3)        #it will return a 2D array having 2-rows,3-columns having values bw 0 and 1 both (exclusive)\n",
    "##### np.random.rand(2,3,3)     #will create a 3D array having 2-level,3-rows,3-columns // // 0 and 1 // (exculive)\n",
    "##### np.random.rand(5)*10\n",
    "\n",
    "##### numpy.random.randint(low, high=None, size)  #if not given high number, low is also considered as high number`\n",
    "                                            #size is the Dimensions size can be (2) or (2,3) or (2,3,2)`\n",
    "\n"
   ]
  },
  {
   "cell_type": "code",
   "execution_count": 8,
   "id": "e7b59900",
   "metadata": {},
   "outputs": [
    {
     "data": {
      "text/plain": [
       "array([10, 11, 12, 13, 14, 15, 16, 17, 18, 19, 20, 21, 22, 23, 24, 25, 26,\n",
       "       27, 28, 29, 30, 31, 32, 33, 34, 35, 36, 37, 38, 39, 40, 41, 42, 43,\n",
       "       44, 45, 46, 47, 48, 49])"
      ]
     },
     "execution_count": 8,
     "metadata": {},
     "output_type": "execute_result"
    }
   ],
   "source": [
    "arr = np.arange(10,50, step=1)\n",
    "arr\n",
    "\n",
    "\n"
   ]
  },
  {
   "cell_type": "code",
   "execution_count": 21,
   "id": "8db932d3",
   "metadata": {},
   "outputs": [
    {
     "data": {
      "text/plain": [
       "array([0., 0., 0.])"
      ]
     },
     "execution_count": 21,
     "metadata": {},
     "output_type": "execute_result"
    }
   ],
   "source": [
    "# Creating 1-Dimensional array of all zeros\n",
    "arr = np.zeros(3)\n",
    "arr\n",
    "# Notice that the elements are having the default data type as the float. That’s why the zeros are 0."
   ]
  },
  {
   "cell_type": "code",
   "execution_count": 22,
   "id": "57ec3ff3",
   "metadata": {},
   "outputs": [
    {
     "data": {
      "text/plain": [
       "array([[0., 0., 0.],\n",
       "       [0., 0., 0.]])"
      ]
     },
     "execution_count": 22,
     "metadata": {},
     "output_type": "execute_result"
    }
   ],
   "source": [
    "# Creating 2-Dimensional array filled with zeros\n",
    "arr = np.zeros((2,3))\n",
    "arr\n"
   ]
  },
  {
   "cell_type": "code",
   "execution_count": 23,
   "id": "c1823941",
   "metadata": {},
   "outputs": [
    {
     "data": {
      "text/plain": [
       "(array([[0, 0, 0],\n",
       "        [0, 0, 0]], dtype=int16),\n",
       " 12)"
      ]
     },
     "execution_count": 23,
     "metadata": {},
     "output_type": "execute_result"
    }
   ],
   "source": [
    "# Creating 2-Dimensional array filled with zeros of integer types\n",
    "arr = np.zeros((2,3), dtype=np.int16)\n",
    "arr, arr.nbytes"
   ]
  },
  {
   "cell_type": "code",
   "execution_count": null,
   "id": "0dc5e89e",
   "metadata": {},
   "outputs": [],
   "source": []
  },
  {
   "cell_type": "markdown",
   "id": "ddc10a77",
   "metadata": {},
   "source": [
    "<img align=\"right\" width=\"100\" height=\"100\"  src=\"images/ones.png\"  > \n",
    "\n",
    "### b. Using `np.ones()` Method\n",
    "This method returns an array of given shape and type, filled with ones.\n",
    "\n",
    "```\n",
    "numpy.ones(shape, dtype=float)\n",
    "```\n",
    "\n",
    "- shape : The shape is an int or tuple of ints to define the size/shape of the array.\n",
    "- dtype : The dtype is an optional parameter with default value as float."
   ]
  },
  {
   "cell_type": "code",
   "execution_count": 22,
   "id": "418071eb",
   "metadata": {},
   "outputs": [
    {
     "data": {
      "text/plain": [
       "array([1., 1., 1.])"
      ]
     },
     "execution_count": 22,
     "metadata": {},
     "output_type": "execute_result"
    }
   ],
   "source": [
    "# Creating one-dimensional array with ones\n",
    "arr = np.ones(3)\n",
    "arr\n"
   ]
  },
  {
   "cell_type": "code",
   "execution_count": 23,
   "id": "a8825242",
   "metadata": {},
   "outputs": [
    {
     "data": {
      "text/plain": [
       "array([[1., 1., 1.],\n",
       "       [1., 1., 1.]])"
      ]
     },
     "execution_count": 23,
     "metadata": {},
     "output_type": "execute_result"
    }
   ],
   "source": [
    "# Creating 2-Dimensional array having 3 columns filled with ones\n",
    "arr = np.ones((2,3))\n",
    "arr"
   ]
  },
  {
   "cell_type": "code",
   "execution_count": 24,
   "id": "3365218c",
   "metadata": {},
   "outputs": [
    {
     "data": {
      "text/plain": [
       "array([[1, 1, 1],\n",
       "       [1, 1, 1]], dtype=int16)"
      ]
     },
     "execution_count": 24,
     "metadata": {},
     "output_type": "execute_result"
    }
   ],
   "source": [
    "# Creating 2-Dimensional array having 3 columns filled with ones of integer types\n",
    "arr = np.ones((2,3), dtype=np.int16)\n",
    "arr"
   ]
  },
  {
   "cell_type": "code",
   "execution_count": null,
   "id": "1504856f",
   "metadata": {},
   "outputs": [],
   "source": []
  },
  {
   "cell_type": "markdown",
   "id": "092ed147",
   "metadata": {},
   "source": [
    "<img align=\"right\" width=\"250\" height=\"100\"  src=\"images/empty.png\"  > \n",
    "\n",
    "### c. Using `np.empty()` Method\n",
    "This method returns an array of given shape and type, filled with junk values.\n",
    "\n",
    "```\n",
    "numpy.empty(shape, dtype=float)\n",
    "```\n",
    "\n",
    "- shape : The shape is an int or tuple of ints to define the size/shape of the array.\n",
    "- dtype : The dtype is an optional parameter with default value as float.\n",
    "\n",
    "\n",
    "Un-like numpy.zeros(), and numpy.ones(), the numpy.empty() function doesn't initialize the entries, so they contain junk values."
   ]
  },
  {
   "cell_type": "code",
   "execution_count": 38,
   "id": "b0626a6f",
   "metadata": {},
   "outputs": [
    {
     "data": {
      "text/plain": [
       "array([1., 1., 1.])"
      ]
     },
     "execution_count": 38,
     "metadata": {},
     "output_type": "execute_result"
    }
   ],
   "source": [
    "arr = np.empty(3)\n",
    "arr"
   ]
  },
  {
   "cell_type": "code",
   "execution_count": 39,
   "id": "32cd666e",
   "metadata": {},
   "outputs": [
    {
     "data": {
      "text/plain": [
       "array([257, 257, 257], dtype=int16)"
      ]
     },
     "execution_count": 39,
     "metadata": {},
     "output_type": "execute_result"
    }
   ],
   "source": [
    "arr = np.empty(3, dtype=np.int16)\n",
    "arr"
   ]
  },
  {
   "cell_type": "code",
   "execution_count": 40,
   "id": "ccc1b0f1",
   "metadata": {},
   "outputs": [
    {
     "data": {
      "text/plain": [
       "array([[26999, 26987, 25968],\n",
       "       [26980, 11873, 29295]], dtype=int16)"
      ]
     },
     "execution_count": 40,
     "metadata": {},
     "output_type": "execute_result"
    }
   ],
   "source": [
    "# Creating 2-Dimensional array having 3 columns filled with junk values\n",
    "arr = np.empty((2,3), dtype=np.int16)\n",
    "arr"
   ]
  },
  {
   "cell_type": "code",
   "execution_count": null,
   "id": "66c813bf",
   "metadata": {},
   "outputs": [],
   "source": []
  },
  {
   "cell_type": "markdown",
   "id": "cef960cb",
   "metadata": {},
   "source": [
    "<img align=\"right\" width=\"200\" height=\"100\"  src=\"images/full.png\"  > \n",
    "\n",
    "### d. Using `np.full()` Method\n",
    "This method return a new array of given shape and type, filled with fill_value.\n",
    "```\n",
    "np.full(shape, fill_value, dtype=None)\n",
    "```\n",
    "- shape: Shape of the new array\n",
    "- fill_value: Fill value.\n",
    "- dtype\tThe desired data-type for the array"
   ]
  },
  {
   "cell_type": "code",
   "execution_count": 41,
   "id": "ffbef9b8",
   "metadata": {},
   "outputs": [
    {
     "data": {
      "text/plain": [
       "array([54, 54, 54, 54, 54, 54, 54])"
      ]
     },
     "execution_count": 41,
     "metadata": {},
     "output_type": "execute_result"
    }
   ],
   "source": [
    "arr = np.full(7, 54)\n",
    "arr"
   ]
  },
  {
   "cell_type": "code",
   "execution_count": 42,
   "id": "3650c4c8",
   "metadata": {},
   "outputs": [
    {
     "data": {
      "text/plain": [
       "array([21.5, 21.5, 21.5, 21.5, 21.5, 21.5, 21.5])"
      ]
     },
     "execution_count": 42,
     "metadata": {},
     "output_type": "execute_result"
    }
   ],
   "source": [
    "arr = np.full(7, 21.5)\n",
    "arr"
   ]
  },
  {
   "cell_type": "code",
   "execution_count": 25,
   "id": "0c012b63",
   "metadata": {},
   "outputs": [
    {
     "data": {
      "text/plain": [
       "array([[21.5, 21.5, 21.5],\n",
       "       [21.5, 21.5, 21.5]])"
      ]
     },
     "execution_count": 25,
     "metadata": {},
     "output_type": "execute_result"
    }
   ],
   "source": [
    "arr = np.full((2,3), 21.5)\n",
    "arr"
   ]
  },
  {
   "cell_type": "code",
   "execution_count": null,
   "id": "2cf1688d",
   "metadata": {},
   "outputs": [],
   "source": []
  },
  {
   "cell_type": "markdown",
   "id": "0476bba5",
   "metadata": {},
   "source": [
    "<img align=\"right\" width=\"120\" height=\"130\"  src=\"images/eye.png\"  >\n",
    "\n",
    "### e. Using `np.eye()` Method\n",
    "This method is used to create a 2-D array with ones on the diagonal and zeros elsewhere.\n",
    "\n",
    "```\n",
    "eye(N, M=None, k=0 , dtype=float)\n",
    "```\n",
    "- N: Number of rows in the output\n",
    "- M: Number of columns in the output. If None, defaults to N\n",
    "- k: Index of the diagonal: (Default 0) refers to the main diagonal, a positive value refers to an upper diagonal, and a negative value to a lower diagonal\n",
    "- dtype: Data-type of the returned array"
   ]
  },
  {
   "cell_type": "code",
   "execution_count": 21,
   "id": "0e0d26d2",
   "metadata": {},
   "outputs": [
    {
     "data": {
      "text/plain": [
       "dtype('float64')"
      ]
     },
     "execution_count": 21,
     "metadata": {},
     "output_type": "execute_result"
    }
   ],
   "source": [
    "# creating 2-D array using eye function\n",
    "# with 2 rows and 2 columns having 1's at on the main diagonal\n",
    "eye_arr = np.eye(4,4)\n",
    "eye_arr\n",
    "eye_arr.dtype"
   ]
  },
  {
   "cell_type": "code",
   "execution_count": 52,
   "id": "a9a00e2b",
   "metadata": {},
   "outputs": [
    {
     "data": {
      "text/plain": [
       "array([[1, 0, 0],\n",
       "       [0, 1, 0],\n",
       "       [0, 0, 1],\n",
       "       [0, 0, 0]], dtype=int8)"
      ]
     },
     "execution_count": 52,
     "metadata": {},
     "output_type": "execute_result"
    }
   ],
   "source": [
    "# creating 2-D array of int type using eye function with 4 rows and 3 columns having 1's at on the main diagonal\n",
    "eye_arr = np.eye(4, 3, dtype=np.int8)\n",
    "eye_arr\n"
   ]
  },
  {
   "cell_type": "code",
   "execution_count": 53,
   "id": "d1d38f70",
   "metadata": {},
   "outputs": [
    {
     "data": {
      "text/plain": [
       "array([[0, 1, 0],\n",
       "       [0, 0, 1],\n",
       "       [0, 0, 0],\n",
       "       [0, 0, 0]])"
      ]
     },
     "execution_count": 53,
     "metadata": {},
     "output_type": "execute_result"
    }
   ],
   "source": [
    "# creating 2-D array of int type using eye function with 4 rows and 3 columns having 1's at one place higher\n",
    "eye_arr = np.eye(4, 3, k = 1, dtype=int)\n",
    "eye_arr"
   ]
  },
  {
   "cell_type": "code",
   "execution_count": 54,
   "id": "df6a499a",
   "metadata": {},
   "outputs": [
    {
     "data": {
      "text/plain": [
       "array([[0, 0, 0],\n",
       "       [1, 0, 0],\n",
       "       [0, 1, 0],\n",
       "       [0, 0, 1]])"
      ]
     },
     "execution_count": 54,
     "metadata": {},
     "output_type": "execute_result"
    }
   ],
   "source": [
    "# creating 2-D array of int type using eye function with 4 rows and 3 columns having 1's at one place lower\n",
    "eye_arr = np.eye(4, 3, k = -1, dtype=int)\n",
    "eye_arr"
   ]
  },
  {
   "cell_type": "code",
   "execution_count": null,
   "id": "d3ba626d",
   "metadata": {},
   "outputs": [],
   "source": []
  },
  {
   "cell_type": "markdown",
   "id": "649f820a",
   "metadata": {},
   "source": [
    "<img align=\"right\" width=\"200\" height=\"150\"  src=\"images/fromstring.png\"  > \n",
    "\n",
    "### f. Using `np.fromstring()` Method\n",
    "This function is used to create a new 1-D array initialized from raw binary or text data in a string.\n",
    "```\n",
    "np.fromstring(string, dtype, sep)\n",
    "```\n",
    "- string: A string containing the data\n",
    "- dtype: The data type of the array (by default float)\n",
    "- sep: The string separating numbers in the data"
   ]
  },
  {
   "cell_type": "code",
   "execution_count": 2,
   "id": "147af890",
   "metadata": {},
   "outputs": [
    {
     "ename": "NameError",
     "evalue": "name 'np' is not defined",
     "output_type": "error",
     "traceback": [
      "\u001b[1;31m---------------------------------------------------------------------------\u001b[0m",
      "\u001b[1;31mNameError\u001b[0m                                 Traceback (most recent call last)",
      "Cell \u001b[1;32mIn[2], line 2\u001b[0m\n\u001b[0;32m      1\u001b[0m \u001b[38;5;66;03m# convert the space separated string '25 30 35 40' into an floats array\u001b[39;00m\n\u001b[1;32m----> 2\u001b[0m arr \u001b[38;5;241m=\u001b[39m \u001b[43mnp\u001b[49m\u001b[38;5;241m.\u001b[39mfromstring(\u001b[38;5;124m'\u001b[39m\u001b[38;5;124m25 23 35 40\u001b[39m\u001b[38;5;124m'\u001b[39m,sep \u001b[38;5;241m=\u001b[39m \u001b[38;5;124m'\u001b[39m\u001b[38;5;124m \u001b[39m\u001b[38;5;124m'\u001b[39m)\n\u001b[0;32m      3\u001b[0m arr\u001b[38;5;241m.\u001b[39mdtype\n",
      "\u001b[1;31mNameError\u001b[0m: name 'np' is not defined"
     ]
    }
   ],
   "source": [
    "# convert the space separated string '25 30 35 40' into an floats array\n",
    "arr = np.fromstring('25 23 35 40',sep = ' ')\n",
    "arr.dtype"
   ]
  },
  {
   "cell_type": "code",
   "execution_count": 64,
   "id": "b6c3dc8b",
   "metadata": {},
   "outputs": [
    {
     "data": {
      "text/plain": [
       "array([25, 30, 35, 40], dtype=uint8)"
      ]
     },
     "execution_count": 64,
     "metadata": {},
     "output_type": "execute_result"
    }
   ],
   "source": [
    "# convert the space separated string '25 30 35 40' into an integer array\n",
    "arr = np.fromstring('25 30 35 40', sep=' ', dtype=np.uint8)\n",
    "arr"
   ]
  },
  {
   "cell_type": "code",
   "execution_count": 65,
   "id": "72a344df",
   "metadata": {},
   "outputs": [
    {
     "name": "stdout",
     "output_type": "stream",
     "text": [
      "[ 0.7 10.4 50.5]\n"
     ]
    }
   ],
   "source": [
    "# converting comma separated string into float type array\n",
    "arr = np.fromstring('0.7, 10.4, 50.5', sep=\",\")\n",
    "print(arr)\n"
   ]
  },
  {
   "cell_type": "code",
   "execution_count": 25,
   "id": "a8ca92d9",
   "metadata": {},
   "outputs": [
    {
     "name": "stdout",
     "output_type": "stream",
     "text": [
      "[ 23.  434.4 242.4   5.4]\n"
     ]
    }
   ],
   "source": [
    "# It will raise error\n",
    "arr = np.fromstring('23 ,434.4, 242.4, 5.4', sep=',')\n",
    "print(arr)"
   ]
  },
  {
   "cell_type": "code",
   "execution_count": null,
   "id": "0641540e",
   "metadata": {},
   "outputs": [],
   "source": []
  },
  {
   "cell_type": "markdown",
   "id": "0d429a59",
   "metadata": {},
   "source": [
    "### g. Using `np.arange()` Method\n",
    "<img align=\"right\" width=\"200\" height=\"100\"  src=\"images/arrange.png\"  > \n",
    "This function is used to get evenly spaced values within a given interval.\n",
    "\n",
    "```\n",
    "numpy.arange([start,] stop[, step])\n",
    "```\n",
    "- If only one argument is given will generate an int64 array from zero to that value (not inclusive)\n",
    "- If two arguments are given then start value in inclusive, stop value is not inclusive and the default step is 1\n",
    "- If three arguments are given then the third argument is the distance between two adjacent values. (default step size is 1)\n",
    "- All the three arguments can be integers or floats\n",
    "\n",
    "The image shows the array created by np.arange(5,9,1)\n"
   ]
  },
  {
   "cell_type": "code",
   "execution_count": 26,
   "id": "c567ce50",
   "metadata": {},
   "outputs": [
    {
     "name": "stdout",
     "output_type": "stream",
     "text": [
      "[0 1 2 3 4]\n",
      "<class 'numpy.ndarray'>\n",
      "int32\n"
     ]
    }
   ],
   "source": [
    "import numpy as np\n",
    "arr = np.arange(5)\n",
    "print(arr)\n",
    "print(type(arr))\n",
    "print(arr.dtype)"
   ]
  },
  {
   "cell_type": "code",
   "execution_count": 2,
   "id": "32a8c7a1",
   "metadata": {
    "scrolled": true
   },
   "outputs": [
    {
     "name": "stdout",
     "output_type": "stream",
     "text": [
      "[0. 1. 2. 3. 4.]\n",
      "float64\n"
     ]
    }
   ],
   "source": [
    "arr = np.arange(5, dtype=float)\n",
    "print(arr)\n",
    "print(arr.dtype)"
   ]
  },
  {
   "cell_type": "code",
   "execution_count": 31,
   "id": "5bfec836",
   "metadata": {},
   "outputs": [
    {
     "name": "stdout",
     "output_type": "stream",
     "text": [
      "int32\n"
     ]
    }
   ],
   "source": [
    "arr = np.full((3,2), 222)\n",
    "print(arr.dtype)"
   ]
  },
  {
   "cell_type": "code",
   "execution_count": 87,
   "id": "f84c7cb4",
   "metadata": {},
   "outputs": [
    {
     "data": {
      "text/plain": [
       "array([5, 6, 7, 8, 9])"
      ]
     },
     "execution_count": 87,
     "metadata": {},
     "output_type": "execute_result"
    }
   ],
   "source": [
    "arr = np.arange(5,10)\n",
    "arr"
   ]
  },
  {
   "cell_type": "code",
   "execution_count": 4,
   "id": "41f6e3c6",
   "metadata": {},
   "outputs": [
    {
     "data": {
      "text/plain": [
       "array([5, 7, 9])"
      ]
     },
     "execution_count": 4,
     "metadata": {},
     "output_type": "execute_result"
    }
   ],
   "source": [
    "arr = np.arange(5, 10, 2)\n",
    "arr"
   ]
  },
  {
   "cell_type": "code",
   "execution_count": 36,
   "id": "8b48cd16",
   "metadata": {},
   "outputs": [
    {
     "data": {
      "text/plain": [
       "array([], dtype=int32)"
      ]
     },
     "execution_count": 36,
     "metadata": {},
     "output_type": "execute_result"
    }
   ],
   "source": [
    "arr = np.arange(5, 15, -1)\n",
    "arr"
   ]
  },
  {
   "cell_type": "code",
   "execution_count": 37,
   "id": "591ba433",
   "metadata": {},
   "outputs": [
    {
     "data": {
      "text/plain": [
       "array([-1. , -1.5, -2. , -2.5, -3. , -3.5])"
      ]
     },
     "execution_count": 37,
     "metadata": {},
     "output_type": "execute_result"
    }
   ],
   "source": [
    "arr = np.arange(-1, -4, -.5)\n",
    "arr"
   ]
  },
  {
   "cell_type": "code",
   "execution_count": null,
   "id": "d0a3a7df",
   "metadata": {},
   "outputs": [],
   "source": []
  },
  {
   "cell_type": "markdown",
   "id": "c88a4fb1",
   "metadata": {},
   "source": [
    "### h. Using `np.linspace()` Method\n",
    "<img align=\"right\" width=\"300\" height=\"200\"  src=\"images/linspace1.png\"  > \n",
    "\n",
    "This method by default returns an array of 50 evenly spaced elements starting from the first argument (inclusive) to the second argument (inclusive). The third argument, if given, is the count of number of elements of the array, default is 50.\n",
    "\n",
    "```\n",
    "numpy.linspace(start, stop, num=50)\n",
    "```"
   ]
  },
  {
   "cell_type": "code",
   "execution_count": 38,
   "id": "415725c9",
   "metadata": {},
   "outputs": [
    {
     "name": "stdout",
     "output_type": "stream",
     "text": [
      "[2.         2.33333333 2.66666667 3.        ]\n",
      "float64\n"
     ]
    }
   ],
   "source": [
    "arr = np.linspace(2,3,4)\n",
    "print(arr)\n",
    "print(arr.dtype)"
   ]
  },
  {
   "cell_type": "code",
   "execution_count": 8,
   "id": "4a98e38d",
   "metadata": {},
   "outputs": [
    {
     "name": "stdout",
     "output_type": "stream",
     "text": [
      "[1.         1.02040816 1.04081633 1.06122449 1.08163265 1.10204082\n",
      " 1.12244898 1.14285714 1.16326531 1.18367347 1.20408163 1.2244898\n",
      " 1.24489796 1.26530612 1.28571429 1.30612245 1.32653061 1.34693878\n",
      " 1.36734694 1.3877551  1.40816327 1.42857143 1.44897959 1.46938776\n",
      " 1.48979592 1.51020408 1.53061224 1.55102041 1.57142857 1.59183673\n",
      " 1.6122449  1.63265306 1.65306122 1.67346939 1.69387755 1.71428571\n",
      " 1.73469388 1.75510204 1.7755102  1.79591837 1.81632653 1.83673469\n",
      " 1.85714286 1.87755102 1.89795918 1.91836735 1.93877551 1.95918367\n",
      " 1.97959184 2.        ]\n",
      "float64\n"
     ]
    }
   ],
   "source": [
    "arr = np.linspace(1,2)\n",
    "print(arr)\n",
    "print(arr.dtype)"
   ]
  },
  {
   "cell_type": "code",
   "execution_count": 9,
   "id": "fa61f7a4",
   "metadata": {},
   "outputs": [
    {
     "name": "stdout",
     "output_type": "stream",
     "text": [
      "[-1.         -1.08163265 -1.16326531 -1.24489796 -1.32653061 -1.40816327\n",
      " -1.48979592 -1.57142857 -1.65306122 -1.73469388 -1.81632653 -1.89795918\n",
      " -1.97959184 -2.06122449 -2.14285714 -2.2244898  -2.30612245 -2.3877551\n",
      " -2.46938776 -2.55102041 -2.63265306 -2.71428571 -2.79591837 -2.87755102\n",
      " -2.95918367 -3.04081633 -3.12244898 -3.20408163 -3.28571429 -3.36734694\n",
      " -3.44897959 -3.53061224 -3.6122449  -3.69387755 -3.7755102  -3.85714286\n",
      " -3.93877551 -4.02040816 -4.10204082 -4.18367347 -4.26530612 -4.34693878\n",
      " -4.42857143 -4.51020408 -4.59183673 -4.67346939 -4.75510204 -4.83673469\n",
      " -4.91836735 -5.        ]\n"
     ]
    }
   ],
   "source": [
    "arr = np.linspace(-1,-5)\n",
    "print(arr)"
   ]
  },
  {
   "cell_type": "code",
   "execution_count": null,
   "id": "9f699b0f",
   "metadata": {},
   "outputs": [],
   "source": []
  },
  {
   "cell_type": "markdown",
   "id": "6ae200be",
   "metadata": {},
   "source": [
    "### i. Using `np.random.rand()` Method\n",
    "- This method generates an array of random floats (between 0 and 1) of as many dimensions passed as argument.\n",
    "- If no argument is passed, generates a scalar value between 0 and 1\n",
    "\n",
    "```\n",
    "numpy.random.rand(d0 [,d1] [,d2]....)\n",
    "```\n"
   ]
  },
  {
   "cell_type": "code",
   "execution_count": 91,
   "id": "30215cdf",
   "metadata": {},
   "outputs": [
    {
     "data": {
      "text/plain": [
       "0.07618578005129628"
      ]
     },
     "execution_count": 91,
     "metadata": {},
     "output_type": "execute_result"
    }
   ],
   "source": [
    "#Python's built-in random module has random() function that returns a single float between 0 and 1\n",
    "import numpy as np\n",
    "value = np.random.rand()\n",
    "value"
   ]
  },
  {
   "cell_type": "code",
   "execution_count": 69,
   "id": "2e2037fb",
   "metadata": {},
   "outputs": [
    {
     "data": {
      "text/plain": [
       "array([[[0.57281467, 0.01514721, 0.94559597],\n",
       "        [0.0792593 , 0.46354767, 0.36666667],\n",
       "        [0.03523472, 0.4238608 , 0.03952085]],\n",
       "\n",
       "       [[0.74361554, 0.25725968, 0.55074332],\n",
       "        [0.05769838, 0.90051202, 0.40234631],\n",
       "        [0.818177  , 0.71369676, 0.03613287]]])"
      ]
     },
     "execution_count": 69,
     "metadata": {},
     "output_type": "execute_result"
    }
   ],
   "source": [
    "val = np.random.rand(2,3,3)\n",
    "val"
   ]
  },
  {
   "cell_type": "code",
   "execution_count": 10,
   "id": "19f9ed43",
   "metadata": {},
   "outputs": [
    {
     "data": {
      "text/plain": [
       "array([[0.3735775 , 0.50770028, 0.17704605],\n",
       "       [0.64309833, 0.97544964, 0.39985935]])"
      ]
     },
     "execution_count": 10,
     "metadata": {},
     "output_type": "execute_result"
    }
   ],
   "source": [
    "value = np.random.randint(1, 50, (4,4,3))\n",
    "value\n"
   ]
  },
  {
   "cell_type": "code",
   "execution_count": 92,
   "id": "0b52089a",
   "metadata": {},
   "outputs": [
    {
     "data": {
      "text/plain": [
       "array([0.78953939, 0.43154658, 0.63099431, 0.38438024, 0.1481135 ])"
      ]
     },
     "execution_count": 92,
     "metadata": {},
     "output_type": "execute_result"
    }
   ],
   "source": [
    "# Creating 1-D array of 5 elements of random floats between 0 and 1\n",
    "arr = np.random.rand(5)\n",
    "arr\n"
   ]
  },
  {
   "cell_type": "code",
   "execution_count": 97,
   "id": "0cc0885d",
   "metadata": {},
   "outputs": [
    {
     "data": {
      "text/plain": [
       "array([7.89751696, 4.20533116, 3.8555338 , 2.32378211, 4.5054126 ])"
      ]
     },
     "execution_count": 97,
     "metadata": {},
     "output_type": "execute_result"
    }
   ],
   "source": [
    "# Creating 1-D array of 5 elements of random floats between 0 and 1\n",
    "arr = np.random.rand(5)*10\n",
    "arr\n"
   ]
  },
  {
   "cell_type": "code",
   "execution_count": 122,
   "id": "cbde7fc6",
   "metadata": {},
   "outputs": [
    {
     "data": {
      "text/plain": [
       "array([[1.35539004, 1.40514703, 9.75990076],\n",
       "       [1.16563947, 9.64340946, 1.22029033],\n",
       "       [3.86789715, 7.14707753, 3.63684563],\n",
       "       [9.11014009, 4.13384784, 8.28659557]])"
      ]
     },
     "execution_count": 122,
     "metadata": {},
     "output_type": "execute_result"
    }
   ],
   "source": [
    "# Creating 2-D array (4x3) having random floats between 0 and 1\n",
    "arr = np.random.rand(4,3)*10\n",
    "arr"
   ]
  },
  {
   "cell_type": "code",
   "execution_count": 126,
   "id": "908d56a7",
   "metadata": {},
   "outputs": [
    {
     "data": {
      "text/plain": [
       "array([[2.12941757, 6.3581262 , 7.33536856],\n",
       "       [0.32341427, 3.39844643, 4.70210234],\n",
       "       [0.72218195, 6.56523299, 9.17837935],\n",
       "       [1.56847094, 9.32525853, 6.10327175]])"
      ]
     },
     "execution_count": 126,
     "metadata": {},
     "output_type": "execute_result"
    }
   ],
   "source": [
    "# Creating 2-D array (4x3) having random floats between 0 and 10\n",
    "arr = np.random.rand(4,3)*10\n",
    "arr"
   ]
  },
  {
   "cell_type": "code",
   "execution_count": 139,
   "id": "f1713e5a",
   "metadata": {},
   "outputs": [
    {
     "data": {
      "text/plain": [
       "array([[[4.33870011, 5.71351932, 2.50514132],\n",
       "        [9.48241864, 6.1789628 , 6.94750581],\n",
       "        [7.86314589, 3.54654353, 0.98833195],\n",
       "        [3.42240046, 2.17427766, 5.37727028]],\n",
       "\n",
       "       [[4.61495415, 3.81460838, 1.52087947],\n",
       "        [5.45563464, 7.71317078, 2.88365558],\n",
       "        [7.68376874, 4.60351139, 4.3655072 ],\n",
       "        [9.3867766 , 7.1149559 , 8.7318746 ]],\n",
       "\n",
       "       [[1.37346173, 1.59692747, 7.05167173],\n",
       "        [1.76762688, 9.8417801 , 9.31815599],\n",
       "        [5.22241605, 5.47621634, 4.99275163],\n",
       "        [8.92737259, 5.30947065, 2.44528637]],\n",
       "\n",
       "       [[0.54386998, 2.3711991 , 3.83343661],\n",
       "        [8.53430257, 4.1440974 , 4.22721861],\n",
       "        [1.6601333 , 0.54057862, 0.27457621],\n",
       "        [8.55873838, 7.86061834, 6.72481749]],\n",
       "\n",
       "       [[4.12766674, 7.46400054, 5.11857989],\n",
       "        [2.12776123, 8.17466143, 4.09538652],\n",
       "        [4.58497289, 3.11999728, 6.3247662 ],\n",
       "        [3.64160174, 1.88452652, 2.40885254]]])"
      ]
     },
     "execution_count": 139,
     "metadata": {},
     "output_type": "execute_result"
    }
   ],
   "source": [
    "# Creating 3-D array of with random values using np.random.rand()\n",
    "arr = np.random.rand(5,4,3)*10\n",
    "arr"
   ]
  },
  {
   "cell_type": "code",
   "execution_count": null,
   "id": "a4a2fd10",
   "metadata": {},
   "outputs": [],
   "source": []
  },
  {
   "cell_type": "markdown",
   "id": "f97ace7a",
   "metadata": {},
   "source": [
    "### i. Using `np.random.randint()` Method\n",
    "This method returns an array of specified shape and fills it with random integers.\n",
    "```\n",
    "numpy.random.randint(low, high=None, size)\n",
    "```\n",
    "- low: Lowest (signed) integer to be drawn from the distribution. But, it works as a highest integer in the sample if high=None.\n",
    "- high: Largest (signed) integer to be drawn from the distribution (not inclusive)\n",
    "- size: number of samples to be generated (default is 1 for scalar and >1 for 1-D array and a tupple for ndarray)"
   ]
  },
  {
   "cell_type": "code",
   "execution_count": null,
   "id": "67959ad8",
   "metadata": {},
   "outputs": [],
   "source": []
  },
  {
   "cell_type": "code",
   "execution_count": 146,
   "id": "967ec0b5",
   "metadata": {},
   "outputs": [
    {
     "data": {
      "text/plain": [
       "8"
      ]
     },
     "execution_count": 146,
     "metadata": {},
     "output_type": "execute_result"
    }
   ],
   "source": [
    "# Generating a random integer scalar b/w interval (0,9) \n",
    "value = np.random.randint(10)\n",
    "value"
   ]
  },
  {
   "cell_type": "code",
   "execution_count": 167,
   "id": "a773e1bf",
   "metadata": {},
   "outputs": [
    {
     "data": {
      "text/plain": [
       "5"
      ]
     },
     "execution_count": 167,
     "metadata": {},
     "output_type": "execute_result"
    }
   ],
   "source": [
    "# Generating a random integer scalar b/w interval (5,19) \n",
    "value = np.random.randint(low=5, high=20)\n",
    "value"
   ]
  },
  {
   "cell_type": "code",
   "execution_count": 174,
   "id": "8d8c685b",
   "metadata": {},
   "outputs": [
    {
     "data": {
      "text/plain": [
       "-3"
      ]
     },
     "execution_count": 174,
     "metadata": {},
     "output_type": "execute_result"
    }
   ],
   "source": [
    "# Generating a random integer scalar from -5 to 4 \n",
    "value = np.random.randint(low=-5, high=5)\n",
    "value"
   ]
  },
  {
   "cell_type": "code",
   "execution_count": 11,
   "id": "830eee4b",
   "metadata": {},
   "outputs": [
    {
     "data": {
      "text/plain": [
       "array([40, 96, 45, 36, 75, 51])"
      ]
     },
     "execution_count": 11,
     "metadata": {},
     "output_type": "execute_result"
    }
   ],
   "source": [
    "# creating 1-D array of size 6 of int type b/w interval (1,100) \n",
    "arr = np.random.randint(low=1, high=101, size=(6))\n",
    "arr"
   ]
  },
  {
   "cell_type": "code",
   "execution_count": 190,
   "id": "ad60a9b1",
   "metadata": {},
   "outputs": [
    {
     "data": {
      "text/plain": [
       "array([-5, -4, -3, -3])"
      ]
     },
     "execution_count": 190,
     "metadata": {},
     "output_type": "execute_result"
    }
   ],
   "source": [
    "# creating 1-D array of size 6 of int type b/w interval (-5,4) \n",
    "arr = np.random.randint(low = -5, high = 5, size = 4)\n",
    "arr"
   ]
  },
  {
   "cell_type": "code",
   "execution_count": 195,
   "id": "5b72f8a5",
   "metadata": {},
   "outputs": [
    {
     "data": {
      "text/plain": [
       "array([[5, 5, 7],\n",
       "       [3, 5, 4],\n",
       "       [5, 5, 9]])"
      ]
     },
     "execution_count": 195,
     "metadata": {},
     "output_type": "execute_result"
    }
   ],
   "source": [
    "# By passing a tuple to size means rows and columns\n",
    "arr = np.random.randint(low = 1, high = 10, size = (3,3))\n",
    "arr"
   ]
  },
  {
   "cell_type": "code",
   "execution_count": 198,
   "id": "f5720914",
   "metadata": {},
   "outputs": [
    {
     "data": {
      "text/plain": [
       "array([[[9, 6, 1, 8],\n",
       "        [7, 4, 7, 1],\n",
       "        [2, 5, 2, 3]],\n",
       "\n",
       "       [[5, 2, 9, 1],\n",
       "        [2, 4, 5, 8],\n",
       "        [8, 6, 6, 1]]])"
      ]
     },
     "execution_count": 198,
     "metadata": {},
     "output_type": "execute_result"
    }
   ],
   "source": [
    "arr = np.random.randint(low = 1, high = 10, size = (2,3,4))\n",
    "arr"
   ]
  },
  {
   "cell_type": "code",
   "execution_count": null,
   "id": "d97eabf5",
   "metadata": {},
   "outputs": [],
   "source": []
  },
  {
   "cell_type": "markdown",
   "id": "3a053da9",
   "metadata": {},
   "source": [
    "<img align=\"right\" width=\"100\" height=\"130\"  src=\"images/zeros_like.png\"  >\n",
    "\n",
    "### k. Using `np.zeros_like()` Method\n",
    "This method is used to get an array of zeros with the same shape and type as a given array.\n",
    "\n",
    "```\n",
    "zeros_like(arr, dtype=None) \n",
    "```\n",
    "\n",
    "- arr: array like input\n",
    "- dtype: Overrides the data type of the result"
   ]
  },
  {
   "cell_type": "code",
   "execution_count": 202,
   "id": "373857fe",
   "metadata": {},
   "outputs": [
    {
     "name": "stdout",
     "output_type": "stream",
     "text": [
      "A 2-D array \n",
      " [[0 1]\n",
      " [2 3]]\n",
      "\n",
      " Converted Array \n",
      " [[0 0]\n",
      " [0 0]]\n"
     ]
    }
   ],
   "source": [
    "# creating a 2-D array\n",
    "mylist = [[0, 1],[2, 3]]\n",
    "arr1 = np.array(mylist)\n",
    "print(\"A 2-D array \\n\", arr1)\n",
    "\n",
    "# creating the same array as the shape of 'arr' filled with zeros\n",
    "arr2 = np.zeros_like(arr1)\n",
    "print(\"\\n Converted Array \\n\", arr2)\n"
   ]
  },
  {
   "cell_type": "code",
   "execution_count": 70,
   "id": "b97a4eed",
   "metadata": {},
   "outputs": [
    {
     "name": "stdout",
     "output_type": "stream",
     "text": [
      "A 1-D array \n",
      " [0 1 2 3 4 5 6 7 8 9]\n",
      "\n",
      " Converted Array \n",
      " [0 0 0 0 0 0 0 0 0 0]\n"
     ]
    },
    {
     "data": {
      "text/plain": [
       "dtype('int32')"
      ]
     },
     "execution_count": 70,
     "metadata": {},
     "output_type": "execute_result"
    }
   ],
   "source": [
    "# creating 1-D array\n",
    "arr1 = np.arange(10)\n",
    "print(\"A 1-D array \\n\", arr1)\n",
    "\n",
    "# creating the same array as the shape of 'arr' filled with zeros\n",
    "arr2 = np.zeros_like(arr1)\n",
    "print(\"\\n Converted Array \\n\", arr2)\n",
    "arr2.dtype\n"
   ]
  },
  {
   "cell_type": "code",
   "execution_count": 204,
   "id": "e3733992",
   "metadata": {},
   "outputs": [
    {
     "data": {
      "text/plain": [
       "<function numpy.fromstring>"
      ]
     },
     "execution_count": 204,
     "metadata": {},
     "output_type": "execute_result"
    }
   ],
   "source": [
    "np.fromstring"
   ]
  },
  {
   "cell_type": "code",
   "execution_count": 205,
   "id": "e1c720b1",
   "metadata": {},
   "outputs": [
    {
     "data": {
      "text/plain": [
       "array([[1., 0., 0., 0.],\n",
       "       [0., 1., 0., 0.],\n",
       "       [0., 0., 1., 0.],\n",
       "       [0., 0., 0., 1.]])"
      ]
     },
     "execution_count": 205,
     "metadata": {},
     "output_type": "execute_result"
    }
   ],
   "source": [
    "np.eye(4)"
   ]
  },
  {
   "cell_type": "code",
   "execution_count": null,
   "id": "549b3fac",
   "metadata": {},
   "outputs": [],
   "source": []
  }
 ],
 "metadata": {
  "kernelspec": {
   "display_name": "Python 3 (ipykernel)",
   "language": "python",
   "name": "python3"
  },
  "language_info": {
   "codemirror_mode": {
    "name": "ipython",
    "version": 3
   },
   "file_extension": ".py",
   "mimetype": "text/x-python",
   "name": "python",
   "nbconvert_exporter": "python",
   "pygments_lexer": "ipython3",
   "version": "3.11.0"
  }
 },
 "nbformat": 4,
 "nbformat_minor": 5
}
