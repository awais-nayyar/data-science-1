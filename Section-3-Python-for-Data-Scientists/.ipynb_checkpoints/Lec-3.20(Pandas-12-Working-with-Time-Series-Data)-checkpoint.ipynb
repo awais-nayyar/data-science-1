{
 "cells": [
  {
   "cell_type": "markdown",
   "id": "4a87b5ef",
   "metadata": {},
   "source": [
    "---   \n",
    " <img align=\"left\" width=\"75\" height=\"75\"  src=\"https://upload.wikimedia.org/wikipedia/en/c/c8/University_of_the_Punjab_logo.png\"> \n",
    "\n",
    "<h1 align=\"center\">Department of Data Science</h1>\n",
    "<h1 align=\"center\">Course: Tools and Techniques for Data Science</h1>\n",
    "\n",
    "---\n",
    "<h3><div align=\"right\">Instructor: Muhammad Arif Butt, Ph.D.</div></h3>    "
   ]
  },
  {
   "cell_type": "markdown",
   "id": "ab0dc25c",
   "metadata": {},
   "source": [
    "<h1 align=\"center\">Lecture 3.20 (Pandas-12)</h1>"
   ]
  },
  {
   "cell_type": "markdown",
   "id": "e2e9e8c5",
   "metadata": {},
   "source": [
    "<a href=\"https://colab.research.google.com/github/arifpucit/data-science/blob/master/Section-3-Python-for-Data-Scientists/Lec-3.20(Pandas-12-Working-with-Time-Series-Data).ipynb\" target=\"_parent\"><img src=\"https://colab.research.google.com/assets/colab-badge.svg\" alt=\"Open In Colab\"/></a>"
   ]
  },
  {
   "cell_type": "markdown",
   "id": "19f82705",
   "metadata": {},
   "source": [
    "<img align=\"right\" width=\"400\" height=\"400\"  src=\"images/pandas-apps.png\"  >\n",
    "\n",
    "## _Working with Time Series Data_\n",
    "\n",
    "**Read Documentation for details:** \n",
    "https://pandas.pydata.org/docs/user_guide/timeseries.html#overview"
   ]
  },
  {
   "cell_type": "code",
   "execution_count": null,
   "id": "b153b19a",
   "metadata": {},
   "outputs": [],
   "source": []
  },
  {
   "cell_type": "code",
   "execution_count": null,
   "id": "5f2f60b8",
   "metadata": {},
   "outputs": [],
   "source": []
  },
  {
   "cell_type": "code",
   "execution_count": null,
   "id": "7109496b",
   "metadata": {},
   "outputs": [],
   "source": []
  },
  {
   "cell_type": "code",
   "execution_count": null,
   "id": "a9e20ddb",
   "metadata": {},
   "outputs": [],
   "source": []
  },
  {
   "cell_type": "code",
   "execution_count": null,
   "id": "ec33647f",
   "metadata": {},
   "outputs": [],
   "source": [
    "# To install this library in Jupyter notebook\n",
    "#import sys\n",
    "#!{sys.executable} -m pip install pandas"
   ]
  },
  {
   "cell_type": "code",
   "execution_count": null,
   "id": "671d3985",
   "metadata": {},
   "outputs": [],
   "source": [
    "import pandas as pd\n",
    "pd.__version__ , pd.__path__"
   ]
  },
  {
   "cell_type": "code",
   "execution_count": null,
   "id": "24e3f49c",
   "metadata": {},
   "outputs": [],
   "source": []
  },
  {
   "cell_type": "code",
   "execution_count": null,
   "id": "ae69a7b9",
   "metadata": {},
   "outputs": [],
   "source": []
  },
  {
   "cell_type": "code",
   "execution_count": null,
   "id": "3daf1a87",
   "metadata": {},
   "outputs": [],
   "source": []
  },
  {
   "cell_type": "code",
   "execution_count": null,
   "id": "8dcbafbd",
   "metadata": {},
   "outputs": [],
   "source": []
  },
  {
   "cell_type": "markdown",
   "id": "12db95e1",
   "metadata": {},
   "source": [
    "## Learning agenda of this notebook\n",
    "1. Recap of Python's Built-in Time and Datetime Modules\n",
    "    - Python Time module\n",
    "    - Python Datetime module\n",
    "    - Time Zones\n",
    "2. Overview of Pandas Time Series Data Structures\n",
    "3. Converting Strings to Pandas DateTime64 type\n",
    "    - Convert a Scalar String to DateTime\n",
    "    - Convert Pandas Series to DateTime\n",
    "    - Handling Issues of DateTime Formats\n",
    "    - Convert a Single Integer to Pandas DateTime\n",
    "4. Practicing with a Simple Dataset\n",
    "5. Practicing with UFO Dataset\n",
    "6. Practicing with Crypto-Currency Dataset\n",
    "7. Bonus:"
   ]
  },
  {
   "cell_type": "code",
   "execution_count": null,
   "id": "3d3af656",
   "metadata": {},
   "outputs": [],
   "source": []
  },
  {
   "cell_type": "code",
   "execution_count": null,
   "id": "c63ececf",
   "metadata": {},
   "outputs": [],
   "source": []
  },
  {
   "cell_type": "code",
   "execution_count": null,
   "id": "b2e8052c",
   "metadata": {},
   "outputs": [],
   "source": []
  },
  {
   "cell_type": "code",
   "execution_count": null,
   "id": "c8ce0dd8",
   "metadata": {},
   "outputs": [],
   "source": []
  },
  {
   "cell_type": "code",
   "execution_count": null,
   "id": "d2f1c77f",
   "metadata": {},
   "outputs": [],
   "source": []
  },
  {
   "cell_type": "markdown",
   "id": "cf573669",
   "metadata": {},
   "source": [
    "## Overview of Time Series Data\n",
    "#### What is Time Series Data?\n",
    "- Time series data, also referred to as time-stamped data, is a sequence of data recorded at specific intervals of time (can be monthly, daily, hourly, ....).\n",
    "- These data points are analyzed to forecast the future.\n",
    "- It is time dependent.\n",
    "- Time series data is effected by four components:\n",
    "    - **Trend:** Increase or decrease in the series over a period of time. It persist over a long period of time. For Example, population growth of a country over years\n",
    "    - **Seasonality:** Regular patterns of up and down fluctuations, e.g., Sale of icecream increases in every summer\n",
    "    - **Cyclicity:** Variations that are caused at irregular intervals. Forexample, 5 years of economic growth, followed by 3 years of recession, followed by 7 years of economic growth, followed. by 1 year of recession\n",
    "    - **Irregularity:** It refers to variations which occur due to unpredictable factors and also do not repeat in particular patterns. For examples, fluctuations caused by earthquakes, floods, wars, etc\n",
    "   \n",
    "#### What is time series Analysis?\n",
    "- Time series analysis is the use of statistical methods to analyze time series data and extract meaningful statistics and characteristics about the data. Time series analysis helps identify trends, cycles, and seasonal variances to aid in the forecasting of a future event.\n",
    "- Time series analysis can be useful to see how a given variable changes over time (while time itself, in time series data, is often the independent variable). Time series analysis can also be used to examine how the changes associated with the chosen data point compare to shifts in other variables over the same time period."
   ]
  },
  {
   "cell_type": "code",
   "execution_count": null,
   "id": "d2413820",
   "metadata": {},
   "outputs": [],
   "source": []
  },
  {
   "cell_type": "code",
   "execution_count": null,
   "id": "93b17f62",
   "metadata": {},
   "outputs": [],
   "source": []
  },
  {
   "cell_type": "code",
   "execution_count": null,
   "id": "e642f910",
   "metadata": {},
   "outputs": [],
   "source": []
  },
  {
   "cell_type": "code",
   "execution_count": null,
   "id": "0a04df60",
   "metadata": {},
   "outputs": [],
   "source": []
  },
  {
   "cell_type": "markdown",
   "id": "30308522",
   "metadata": {},
   "source": [
    "## 1. Recap of Python Modules Related to Date and Time"
   ]
  },
  {
   "cell_type": "markdown",
   "id": "1a058d60",
   "metadata": {},
   "source": [
    "## a. Python Time Module\n",
    "- Python Time module is principally for working with UNIX time stamps; expressed as a floating point number taken to be seconds since the unix epoch (00:00:00 UTC on 1 January 1970)"
   ]
  },
  {
   "cell_type": "code",
   "execution_count": null,
   "id": "64a13665",
   "metadata": {},
   "outputs": [],
   "source": [
    "# Use `dir()` to get the list of methods in the Python `time` module\n",
    "import time\n",
    "print(dir(time))"
   ]
  },
  {
   "cell_type": "code",
   "execution_count": null,
   "id": "6e181cdd",
   "metadata": {},
   "outputs": [],
   "source": []
  },
  {
   "cell_type": "code",
   "execution_count": null,
   "id": "8459a6de",
   "metadata": {},
   "outputs": [],
   "source": []
  },
  {
   "cell_type": "code",
   "execution_count": null,
   "id": "0da747cd",
   "metadata": {},
   "outputs": [],
   "source": []
  },
  {
   "cell_type": "code",
   "execution_count": null,
   "id": "f704287d",
   "metadata": {},
   "outputs": [],
   "source": []
  },
  {
   "cell_type": "code",
   "execution_count": null,
   "id": "b7c7db69",
   "metadata": {},
   "outputs": [],
   "source": []
  },
  {
   "cell_type": "markdown",
   "id": "911697e9",
   "metadata": {},
   "source": [
    "**(i) The `time.time()` method returns the current time in seconds since UNIX Epoch (00:00:00 UTC on 1 January 1970)**"
   ]
  },
  {
   "cell_type": "code",
   "execution_count": null,
   "id": "d0fa8a98",
   "metadata": {},
   "outputs": [],
   "source": [
    "seconds = time.time()\n",
    "seconds"
   ]
  },
  {
   "cell_type": "markdown",
   "id": "9ee734d8",
   "metadata": {},
   "source": [
    "> You can achieve the same using the system `date` command and passing it `+%s` command line arugment"
   ]
  },
  {
   "cell_type": "code",
   "execution_count": null,
   "id": "5cc8b863",
   "metadata": {},
   "outputs": [],
   "source": [
    "!date +%s"
   ]
  },
  {
   "cell_type": "code",
   "execution_count": null,
   "id": "83d89815",
   "metadata": {},
   "outputs": [],
   "source": []
  },
  {
   "cell_type": "code",
   "execution_count": null,
   "id": "48e7a924",
   "metadata": {},
   "outputs": [],
   "source": []
  },
  {
   "cell_type": "code",
   "execution_count": null,
   "id": "5f1587c0",
   "metadata": {},
   "outputs": [],
   "source": []
  },
  {
   "cell_type": "code",
   "execution_count": null,
   "id": "ef8bc3c0",
   "metadata": {},
   "outputs": [],
   "source": []
  },
  {
   "cell_type": "code",
   "execution_count": null,
   "id": "34cc80ff",
   "metadata": {},
   "outputs": [],
   "source": []
  },
  {
   "cell_type": "markdown",
   "id": "39132701",
   "metadata": {},
   "source": [
    "**(ii) The `time.ctime()` method returns a date time string corresponding to the number of seconds passed to it since UNIX Epoch.**"
   ]
  },
  {
   "cell_type": "code",
   "execution_count": null,
   "id": "70d0bb12",
   "metadata": {},
   "outputs": [],
   "source": [
    "# Showing `+5:00` hours time delta because of local time zone (PKT) differs from UTC with 5 hours\n",
    "dtg1 = time.ctime(0)\n",
    "dtg1"
   ]
  },
  {
   "cell_type": "code",
   "execution_count": null,
   "id": "3e3bb56a",
   "metadata": {},
   "outputs": [],
   "source": [
    "#If you pass the current elapsed seconds since UNIX epoch to the `ctime()` method, it returns current datetime\n",
    "seconds = time.time()\n",
    "dtg2 = time.ctime(seconds)\n",
    "dtg2"
   ]
  },
  {
   "cell_type": "code",
   "execution_count": null,
   "id": "6431482c",
   "metadata": {},
   "outputs": [],
   "source": [
    "#Get time using shell command\n",
    "!date"
   ]
  },
  {
   "cell_type": "code",
   "execution_count": null,
   "id": "78a88a21",
   "metadata": {},
   "outputs": [],
   "source": []
  },
  {
   "cell_type": "code",
   "execution_count": null,
   "id": "abe89e6c",
   "metadata": {},
   "outputs": [],
   "source": []
  },
  {
   "cell_type": "code",
   "execution_count": null,
   "id": "815d83fd",
   "metadata": {},
   "outputs": [],
   "source": []
  },
  {
   "cell_type": "code",
   "execution_count": null,
   "id": "56b95f64",
   "metadata": {},
   "outputs": [],
   "source": []
  },
  {
   "cell_type": "code",
   "execution_count": null,
   "id": "5e47340a",
   "metadata": {},
   "outputs": [],
   "source": []
  },
  {
   "cell_type": "code",
   "execution_count": null,
   "id": "54006989",
   "metadata": {},
   "outputs": [],
   "source": []
  },
  {
   "cell_type": "markdown",
   "id": "9445c4b5",
   "metadata": {},
   "source": [
    "## b. Python Datetime Module\n",
    "The `datetime` module can support many of the same operations as `time` module, but provides a more object oriented set of types, and also has some limited support for time zones as well."
   ]
  },
  {
   "cell_type": "code",
   "execution_count": null,
   "id": "121ebc36",
   "metadata": {
    "scrolled": true
   },
   "outputs": [],
   "source": [
    "# use dir() to get the list of complete functions in datetime module\n",
    "import datetime\n",
    "print(dir(datetime))"
   ]
  },
  {
   "cell_type": "code",
   "execution_count": null,
   "id": "f544498b",
   "metadata": {},
   "outputs": [],
   "source": []
  },
  {
   "cell_type": "code",
   "execution_count": null,
   "id": "33aa7221",
   "metadata": {},
   "outputs": [],
   "source": []
  },
  {
   "cell_type": "markdown",
   "id": "09c0b7b2",
   "metadata": {},
   "source": [
    "**(i) The `datetime.datetime(year, month, day[, hour[, minute[, second[, microsecond[,tzinfo]]]]])` method is used to create any random date, along with time**"
   ]
  },
  {
   "cell_type": "code",
   "execution_count": null,
   "id": "929a2bc2",
   "metadata": {},
   "outputs": [],
   "source": [
    "dtg = datetime.datetime(2021,12,31)\n",
    "print(dtg)\n",
    "print(type(dtg))"
   ]
  },
  {
   "cell_type": "code",
   "execution_count": null,
   "id": "dd1869b6",
   "metadata": {},
   "outputs": [],
   "source": [
    "print(datetime.datetime(2021, 12, 31, 4, 30, 54, 678))"
   ]
  },
  {
   "cell_type": "code",
   "execution_count": null,
   "id": "a46febb5",
   "metadata": {},
   "outputs": [],
   "source": []
  },
  {
   "cell_type": "code",
   "execution_count": null,
   "id": "992d4a09",
   "metadata": {},
   "outputs": [],
   "source": []
  },
  {
   "cell_type": "markdown",
   "id": "5b197019",
   "metadata": {},
   "source": [
    "**(ii)  The `time([hour[, minute[, second[, microsecond[, tzinfo]]]]]) ` methods returns a time object. All arguments are optional**"
   ]
  },
  {
   "cell_type": "code",
   "execution_count": null,
   "id": "b4c51969",
   "metadata": {},
   "outputs": [],
   "source": [
    "t1 = datetime.time(10, 15)\n",
    "print(t1)\n",
    "print(type(t1))"
   ]
  },
  {
   "cell_type": "code",
   "execution_count": null,
   "id": "d1e210f4",
   "metadata": {},
   "outputs": [],
   "source": []
  },
  {
   "cell_type": "code",
   "execution_count": null,
   "id": "f9e7146d",
   "metadata": {},
   "outputs": [],
   "source": []
  },
  {
   "cell_type": "markdown",
   "id": "b4ddbdda",
   "metadata": {},
   "source": [
    "**(iii) You can explore some commonly used attributes related with the `<class 'datetime.time'>`.**\n",
    "- `dtg.year:` returns the year\n",
    "- `dtg.month:` returns the month\n",
    "- `dtg.day:` returns the date\n",
    "- `dtg.hour:` returns the hour\n",
    "- `dtg.minute:` returns the minutes\n",
    "- `dtg.second:` returns the seconds"
   ]
  },
  {
   "cell_type": "code",
   "execution_count": null,
   "id": "a9cac04f",
   "metadata": {},
   "outputs": [],
   "source": [
    "dtg = datetime.datetime(2021, 12, 31, 4, 25, 58)\n",
    "print(dtg)\n",
    "print(type(dtg))"
   ]
  },
  {
   "cell_type": "code",
   "execution_count": null,
   "id": "7fb3b193",
   "metadata": {},
   "outputs": [],
   "source": [
    "dtg.year"
   ]
  },
  {
   "cell_type": "code",
   "execution_count": null,
   "id": "0fe16a1d",
   "metadata": {},
   "outputs": [],
   "source": [
    "dtg.month"
   ]
  },
  {
   "cell_type": "code",
   "execution_count": null,
   "id": "4c20a73c",
   "metadata": {},
   "outputs": [],
   "source": [
    "dtg.day"
   ]
  },
  {
   "cell_type": "code",
   "execution_count": null,
   "id": "a5d9ffcb",
   "metadata": {},
   "outputs": [],
   "source": [
    "dtg.hour"
   ]
  },
  {
   "cell_type": "code",
   "execution_count": null,
   "id": "99a1c2e7",
   "metadata": {},
   "outputs": [],
   "source": [
    "dtg.minute"
   ]
  },
  {
   "cell_type": "code",
   "execution_count": null,
   "id": "50e73280",
   "metadata": {},
   "outputs": [],
   "source": [
    "dtg.second"
   ]
  },
  {
   "cell_type": "code",
   "execution_count": null,
   "id": "2acd54e1",
   "metadata": {},
   "outputs": [],
   "source": []
  },
  {
   "cell_type": "code",
   "execution_count": null,
   "id": "28946f80",
   "metadata": {},
   "outputs": [],
   "source": []
  },
  {
   "cell_type": "code",
   "execution_count": null,
   "id": "db4c9e9f",
   "metadata": {},
   "outputs": [],
   "source": []
  },
  {
   "cell_type": "code",
   "execution_count": null,
   "id": "8adc7c68",
   "metadata": {},
   "outputs": [],
   "source": []
  },
  {
   "cell_type": "code",
   "execution_count": null,
   "id": "65f05563",
   "metadata": {},
   "outputs": [],
   "source": [
    "dd = datetime.datetime(2022,9,22,22,2,13)"
   ]
  },
  {
   "cell_type": "code",
   "execution_count": null,
   "id": "e63806ac",
   "metadata": {},
   "outputs": [],
   "source": [
    "dd.hour"
   ]
  },
  {
   "cell_type": "code",
   "execution_count": null,
   "id": "f76a57ac",
   "metadata": {},
   "outputs": [],
   "source": []
  },
  {
   "cell_type": "code",
   "execution_count": null,
   "id": "3ece3d07",
   "metadata": {},
   "outputs": [],
   "source": []
  },
  {
   "cell_type": "code",
   "execution_count": null,
   "id": "344873f3",
   "metadata": {},
   "outputs": [],
   "source": []
  },
  {
   "cell_type": "markdown",
   "id": "18438927",
   "metadata": {},
   "source": [
    "### c. Time Zones:\n",
    "\n",
    "<img align=\"center\" width=\"500\" height=\"400\"  src=\"images/tz.png\"  >\n",
    "\n",
    "- Since noon happens at different times in different parts of the world, therefore, the world is divided in different time zones.\n",
    "- On Mac, Linux, and Windows operating systems, the information about these time zones is kept in files.\n",
    "- Let me show you the contents of these files on my Mac system"
   ]
  },
  {
   "cell_type": "code",
   "execution_count": null,
   "id": "caa5d76b",
   "metadata": {},
   "outputs": [],
   "source": [
    "# The UNIX Epoch in system local time is five hours ahead of mid night 1st Jan 1970\n",
    "# (Coordinated Universal Time a successor to Greenwich Mean Time)\n",
    "dtg1 = time.ctime(0)\n",
    "dtg1"
   ]
  },
  {
   "cell_type": "markdown",
   "id": "c8098a53",
   "metadata": {},
   "source": [
    "> You may have noticed that above cell does not display the exact UNIX epoch, i.e., mid-night 1st January 1970 rather is 5 hours ahead. This is because my machine is configured as per the time zone of Pakistan having a `+5:00` timedelta from Cooridnated Universtal Time (UTC a successor to GMT)"
   ]
  },
  {
   "cell_type": "code",
   "execution_count": null,
   "id": "1333e296",
   "metadata": {},
   "outputs": [],
   "source": [
    "!ls /usr/share/zoneinfo/"
   ]
  },
  {
   "cell_type": "code",
   "execution_count": null,
   "id": "4a57581c",
   "metadata": {},
   "outputs": [],
   "source": [
    "!ls /usr/share/zoneinfo/Asia"
   ]
  },
  {
   "cell_type": "code",
   "execution_count": null,
   "id": "0263a5c6",
   "metadata": {},
   "outputs": [],
   "source": []
  },
  {
   "cell_type": "code",
   "execution_count": null,
   "id": "921fed43",
   "metadata": {},
   "outputs": [],
   "source": []
  },
  {
   "cell_type": "code",
   "execution_count": null,
   "id": "9e127fbc",
   "metadata": {},
   "outputs": [],
   "source": []
  },
  {
   "cell_type": "code",
   "execution_count": null,
   "id": "6086280e",
   "metadata": {},
   "outputs": [],
   "source": []
  },
  {
   "cell_type": "code",
   "execution_count": null,
   "id": "28b459e1",
   "metadata": {},
   "outputs": [],
   "source": []
  },
  {
   "cell_type": "code",
   "execution_count": null,
   "id": "4718752b",
   "metadata": {},
   "outputs": [],
   "source": []
  },
  {
   "cell_type": "markdown",
   "id": "9250cda6",
   "metadata": {},
   "source": [
    ">On all UNIX based systems (Mac, Linux), `TZ` is an environment variable that can be set to any of the above files to get the date of that appropriate zone. By default the system is configured to set it to the local time of the country"
   ]
  },
  {
   "cell_type": "code",
   "execution_count": null,
   "id": "1fa0d04a",
   "metadata": {},
   "outputs": [],
   "source": [
    "! date"
   ]
  },
  {
   "cell_type": "code",
   "execution_count": null,
   "id": "0c065ca5",
   "metadata": {},
   "outputs": [],
   "source": [
    "! TZ=Asia/Karachi    date"
   ]
  },
  {
   "cell_type": "code",
   "execution_count": null,
   "id": "60366a50",
   "metadata": {},
   "outputs": [],
   "source": [
    "! TZ=Asia/Calcutta   date"
   ]
  },
  {
   "cell_type": "code",
   "execution_count": null,
   "id": "f1e5d015",
   "metadata": {},
   "outputs": [],
   "source": [
    "! TZ=Asia/Tashkent   date"
   ]
  },
  {
   "cell_type": "markdown",
   "id": "0190d588",
   "metadata": {},
   "source": [
    ">So you can observe if we run `date` command after setting the TZ variable to Karachi and Calcutta, their local date times are displayed. Being in different time zones Pakistan Standard Time is 30 minutes before India"
   ]
  },
  {
   "cell_type": "code",
   "execution_count": null,
   "id": "bd322c36",
   "metadata": {},
   "outputs": [],
   "source": []
  },
  {
   "cell_type": "code",
   "execution_count": null,
   "id": "972b03ad",
   "metadata": {},
   "outputs": [],
   "source": []
  },
  {
   "cell_type": "code",
   "execution_count": null,
   "id": "1f1b1c72",
   "metadata": {},
   "outputs": [],
   "source": []
  },
  {
   "cell_type": "code",
   "execution_count": null,
   "id": "989d9343",
   "metadata": {},
   "outputs": [],
   "source": []
  },
  {
   "cell_type": "markdown",
   "id": "024a390f",
   "metadata": {},
   "source": [
    "## 2. Overview of Pandas Time Series Data Structures\n",
    "- **Timestamp & DatetimeIndex:**\n",
    "    - A `Timestamp` refer to particular moment in time, e.g., 28 July, 1969 at 11:00 am\n",
    "    - It is a replacement of Python's built-in datetime object\n",
    "    - The `pd.to_datetime()` method is used to create a `Timestamp` object\n",
    "    - The `pd.date_range()` method is used to generate a `DatetimeIndex` object\n",
    "- **Period & PeriodIndex:**\n",
    "    - A `Period` refer to length of time between a start and end point, with each interval of uniform length\n",
    "    - The `pd.to_period()` method is used to create a `Period` object\n",
    "    - The `pd.period_range()` method is used to create a `PeriodIndex`\n",
    "- **Timedelta & TimedeltaIndex:**\n",
    "    - A `Timedelta` or duration refer to an exact length of time, e.g., a duration of 235.54 seconds\n",
    "    - A `Timedelta` is created when you **subtract two dates**, while a `TimedeltaIndex` is created when you **subtract two Periods**"
   ]
  },
  {
   "cell_type": "code",
   "execution_count": null,
   "id": "19c35812",
   "metadata": {},
   "outputs": [],
   "source": []
  },
  {
   "cell_type": "code",
   "execution_count": null,
   "id": "d4ca6ead",
   "metadata": {},
   "outputs": [],
   "source": []
  },
  {
   "cell_type": "markdown",
   "id": "46b16d5a",
   "metadata": {},
   "source": [
    "## 3. Converting Strings to Pandas Timestamp Object\n",
    "- Pandas `pd.to_datetime()` method is used to convert its only required argument `arg` to a Timestamp object.\n",
    "\n",
    "\n",
    "**pd.to_datetime(arg, format=None, errors='raise', unit=None, origin='unix')**\n",
    "\n",
    "- Where,\n",
    "    - `arg` can be a **string, Series, int, datetime, list, tuple, 1-d array, DataFrame/dict-like object** to convert\n",
    "    - `errors` {‘ignore’, ‘raise’, ‘coerce’}, default ‘raise’\n",
    "        - If `raise`, then invalid parsing will **raise an exception.**\n",
    "        - If `coerce`, then invalid parsing will be set as NaT.\n",
    "        - If `ignore`, then invalid parsing will **return the input**\n",
    "    - `format`: Used if the `arg` is not in the format as expected by the method\n",
    "    - `unit`: it tells about the arg and Used if the `arg` is integer and can be (D,s,ms,us,ns) passed since `origin` (default is `ns`)\n",
    "    - `origin`: is the reference point from where you want to start counting your units from. The default value of `origin` is the **UNIX epoch**."
   ]
  },
  {
   "cell_type": "code",
   "execution_count": null,
   "id": "c17e7df2",
   "metadata": {},
   "outputs": [],
   "source": []
  },
  {
   "cell_type": "code",
   "execution_count": null,
   "id": "07747255",
   "metadata": {},
   "outputs": [],
   "source": []
  },
  {
   "cell_type": "markdown",
   "id": "82b72df9",
   "metadata": {},
   "source": [
    "### a. Convert a Scalar String to Timestamp"
   ]
  },
  {
   "cell_type": "code",
   "execution_count": null,
   "id": "a0f45498",
   "metadata": {},
   "outputs": [],
   "source": [
    "#YYYY-MM-DD\n",
    "import pandas as pd\n",
    "str_date = '2022-03-06 08:30:15'\n",
    "print(str_date)\n",
    "print(type(str_date))"
   ]
  },
  {
   "cell_type": "code",
   "execution_count": null,
   "id": "177a51a0",
   "metadata": {
    "scrolled": true
   },
   "outputs": [],
   "source": [
    "ts = pd.to_datetime(str_date)\n",
    "print(ts)\n",
    "print(type(ts))"
   ]
  },
  {
   "cell_type": "code",
   "execution_count": null,
   "id": "796025f9",
   "metadata": {},
   "outputs": [],
   "source": [
    "pd.to_datetime(str_date).month_name()"
   ]
  },
  {
   "cell_type": "markdown",
   "id": "817f6812",
   "metadata": {},
   "source": [
    "**`pd.Timestamp Attributes`**\n",
    "\n",
    "`Series.dt.[ts.]second`: Returns seconds\n",
    "\n",
    "`ts.minute`: Returns minutes\n",
    "\n",
    "`ts.hour`: Returns hour\n",
    "\n",
    "`ts.day`: Returns day\n",
    "\n",
    "`ts.month`: Returns month as January=1, December=12\n",
    "\n",
    "`ts.year`: Returns the year of datetime object\n",
    "\n",
    "`Series.dt.day_name()`: Returns name of the day as string\n",
    "\n",
    "`Series.dt.month_name()`: Returns month as string\n",
    "\n",
    "For details Read: https://pandas.pydata.org/docs/reference/api/pandas.Series.dt.year.html"
   ]
  },
  {
   "cell_type": "code",
   "execution_count": null,
   "id": "a863d8ce",
   "metadata": {},
   "outputs": [],
   "source": [
    "ts.year"
   ]
  },
  {
   "cell_type": "code",
   "execution_count": null,
   "id": "829ca9af",
   "metadata": {},
   "outputs": [],
   "source": [
    "ts.month"
   ]
  },
  {
   "cell_type": "code",
   "execution_count": null,
   "id": "85564ddb",
   "metadata": {},
   "outputs": [],
   "source": [
    "ts.day"
   ]
  },
  {
   "cell_type": "code",
   "execution_count": null,
   "id": "eb6d073e",
   "metadata": {},
   "outputs": [],
   "source": [
    "ts.month_name()"
   ]
  },
  {
   "cell_type": "code",
   "execution_count": null,
   "id": "55482bf8",
   "metadata": {},
   "outputs": [],
   "source": [
    "ts.hour"
   ]
  },
  {
   "cell_type": "code",
   "execution_count": null,
   "id": "6490fee1",
   "metadata": {},
   "outputs": [],
   "source": [
    "ts.minute"
   ]
  },
  {
   "cell_type": "code",
   "execution_count": null,
   "id": "95852744",
   "metadata": {},
   "outputs": [],
   "source": [
    "ts.quarter"
   ]
  },
  {
   "cell_type": "markdown",
   "id": "57df2339",
   "metadata": {},
   "source": [
    ">You can pass a list of strings containing dates to `pd.to_datetime()`, which will return a `DatetimeIndex` object"
   ]
  },
  {
   "cell_type": "code",
   "execution_count": null,
   "id": "34603f8a",
   "metadata": {},
   "outputs": [],
   "source": [
    "# If there is a invalid string that cannot be converted to a valid date, you will get an error\n",
    "#pd.to_datetime(['2017-01-05', 'Jan 6, 2017', 'abc'])"
   ]
  },
  {
   "cell_type": "code",
   "execution_count": null,
   "id": "531f0b9b",
   "metadata": {},
   "outputs": [],
   "source": [
    "# Use `errors=coerce` to translate the remaining data and keep `NaT` for invalid string\n",
    "pd.to_datetime(['2017-01-05', 'Jan 6, 2017', 'abc'], errors='coerce')"
   ]
  },
  {
   "cell_type": "code",
   "execution_count": null,
   "id": "e0826324",
   "metadata": {},
   "outputs": [],
   "source": []
  },
  {
   "cell_type": "code",
   "execution_count": null,
   "id": "d543b639",
   "metadata": {},
   "outputs": [],
   "source": []
  },
  {
   "cell_type": "code",
   "execution_count": null,
   "id": "fedd9485",
   "metadata": {},
   "outputs": [],
   "source": []
  },
  {
   "cell_type": "code",
   "execution_count": null,
   "id": "08878c89",
   "metadata": {},
   "outputs": [],
   "source": []
  },
  {
   "cell_type": "code",
   "execution_count": null,
   "id": "6ca04171",
   "metadata": {},
   "outputs": [],
   "source": []
  },
  {
   "cell_type": "code",
   "execution_count": null,
   "id": "ee9498dc",
   "metadata": {},
   "outputs": [],
   "source": []
  },
  {
   "cell_type": "markdown",
   "id": "4b289460",
   "metadata": {},
   "source": [
    "### b. Convert Pandas Series of Strings to Series of Timestamps"
   ]
  },
  {
   "cell_type": "code",
   "execution_count": null,
   "id": "4efb47fb",
   "metadata": {},
   "outputs": [],
   "source": [
    "# A pandas series having same date but in different formats\n",
    "s1 = pd.Series(['2022-03-06 08:30', '2022/03/06 08:30', '6 March, 2022 08:30', 'Mar 06, 2022 08:30', '202203060830'])\n",
    "type(s1)\n",
    "s1"
   ]
  },
  {
   "cell_type": "code",
   "execution_count": null,
   "id": "a6e6b90d",
   "metadata": {},
   "outputs": [],
   "source": [
    "# to_datetime() function will convert all these different formats into a common format\n",
    "s2 = pd.to_datetime(s1)\n",
    "s2"
   ]
  },
  {
   "cell_type": "code",
   "execution_count": null,
   "id": "89f940c8",
   "metadata": {},
   "outputs": [],
   "source": []
  },
  {
   "cell_type": "code",
   "execution_count": null,
   "id": "56db6352",
   "metadata": {},
   "outputs": [],
   "source": [
    "type(s2)"
   ]
  },
  {
   "cell_type": "code",
   "execution_count": null,
   "id": "5ec54b33",
   "metadata": {},
   "outputs": [],
   "source": [
    "type(s2[0])"
   ]
  },
  {
   "cell_type": "code",
   "execution_count": null,
   "id": "e1f2c22e",
   "metadata": {},
   "outputs": [],
   "source": [
    "s2[0].day, s2[0].month"
   ]
  },
  {
   "cell_type": "code",
   "execution_count": null,
   "id": "e8fe752d",
   "metadata": {},
   "outputs": [],
   "source": [
    "s2[2].month_name()"
   ]
  },
  {
   "cell_type": "code",
   "execution_count": null,
   "id": "b9b02eec",
   "metadata": {},
   "outputs": [],
   "source": [
    "s2[3].year"
   ]
  },
  {
   "cell_type": "code",
   "execution_count": null,
   "id": "b690b86a",
   "metadata": {},
   "outputs": [],
   "source": []
  },
  {
   "cell_type": "code",
   "execution_count": null,
   "id": "3d30d249",
   "metadata": {},
   "outputs": [],
   "source": []
  },
  {
   "cell_type": "markdown",
   "id": "54687d75",
   "metadata": {},
   "source": [
    "### c. Handling Issues of DateTime Formats\n",
    "From above examples, it appears that `pd.to_datetime()` works fine for all date formats. Let us try storing  6 March, 2022 as '06/03/2022' or '06-03-2022'"
   ]
  },
  {
   "cell_type": "markdown",
   "id": "f9562539",
   "metadata": {},
   "source": [
    "**(i) Problem 1:**"
   ]
  },
  {
   "cell_type": "code",
   "execution_count": null,
   "id": "55610b05",
   "metadata": {},
   "outputs": [],
   "source": [
    "ts = pd.to_datetime('06-03-2022')\n",
    "ts"
   ]
  },
  {
   "cell_type": "code",
   "execution_count": null,
   "id": "4155d90e",
   "metadata": {},
   "outputs": [],
   "source": [
    "ts.day, ts.month"
   ]
  },
  {
   "cell_type": "markdown",
   "id": "ea4f7153",
   "metadata": {},
   "source": [
    "**Oops!**, Pandas `to_datetime()` method has converted the string to datetime, but interpreted it as 3 June 2022\n",
    ">The `pd.to_datetime()` by default, will parse string with month first (MM/DD, MM DD, or MM-DD) format"
   ]
  },
  {
   "cell_type": "code",
   "execution_count": null,
   "id": "5c252a91",
   "metadata": {},
   "outputs": [],
   "source": [
    "# Intelligence\n",
    "ts = pd.to_datetime('26-03-2022')\n",
    "ts.day, ts.month"
   ]
  },
  {
   "cell_type": "code",
   "execution_count": null,
   "id": "41faab35",
   "metadata": {},
   "outputs": [],
   "source": []
  },
  {
   "cell_type": "markdown",
   "id": "2de68cd0",
   "metadata": {},
   "source": [
    "**(ii) Problem 2:**"
   ]
  },
  {
   "cell_type": "code",
   "execution_count": null,
   "id": "85a11bf7",
   "metadata": {},
   "outputs": [],
   "source": [
    "#ts = pd.to_datetime('2022-03-06 08-PM')"
   ]
  },
  {
   "cell_type": "markdown",
   "id": "2b6213ee",
   "metadata": {},
   "source": [
    "**Oops again**!, Pandas `to_datetime()` method has raised an error saying `ParserError: Unknown string format: 2022-03-06 08-PM`\n",
    ">It seems that `pd.to_datetime()` expects the time to be in 24 hours clock and not if the time is mentioned using AM (Ante-Meridiem meaning before Midday) or PM (Post-Meridiem, meaning after midday)"
   ]
  },
  {
   "cell_type": "code",
   "execution_count": null,
   "id": "8d49ed90",
   "metadata": {},
   "outputs": [],
   "source": []
  },
  {
   "cell_type": "code",
   "execution_count": null,
   "id": "4295b54f",
   "metadata": {},
   "outputs": [],
   "source": []
  },
  {
   "cell_type": "code",
   "execution_count": null,
   "id": "9110939b",
   "metadata": {},
   "outputs": [],
   "source": []
  },
  {
   "cell_type": "markdown",
   "id": "768fc152",
   "metadata": {},
   "source": [
    "**(iii) Solution of above two Problems:**\n",
    ">Pass an appropriate `format string` to the `format` argument of the `pd.to_datetime()` method. The format string need to be prepared as per the string date format.\n",
    "Visit this link to see for Format codes: https://pandas.pydata.org/docs/reference/api/pandas.Period.strftime.html"
   ]
  },
  {
   "cell_type": "code",
   "execution_count": null,
   "id": "9edd954d",
   "metadata": {},
   "outputs": [],
   "source": [
    "# Passing appropriate format string will resolve above two problems\n",
    "ts = pd.to_datetime('06-03-2022 08-PM', format = '%d-%m-%Y %I-%p')"
   ]
  },
  {
   "cell_type": "code",
   "execution_count": null,
   "id": "f1a596e0",
   "metadata": {},
   "outputs": [],
   "source": [
    "ts"
   ]
  },
  {
   "cell_type": "code",
   "execution_count": null,
   "id": "2e121dd3",
   "metadata": {},
   "outputs": [],
   "source": [
    "ts.day, ts.month"
   ]
  },
  {
   "cell_type": "code",
   "execution_count": null,
   "id": "55ef2e7e",
   "metadata": {},
   "outputs": [],
   "source": []
  },
  {
   "cell_type": "code",
   "execution_count": null,
   "id": "a00c1a82",
   "metadata": {},
   "outputs": [],
   "source": []
  },
  {
   "cell_type": "code",
   "execution_count": null,
   "id": "0f5a2246",
   "metadata": {},
   "outputs": [],
   "source": []
  },
  {
   "cell_type": "code",
   "execution_count": null,
   "id": "82c1a490",
   "metadata": {},
   "outputs": [],
   "source": []
  },
  {
   "cell_type": "code",
   "execution_count": null,
   "id": "2102f083",
   "metadata": {},
   "outputs": [],
   "source": []
  },
  {
   "cell_type": "code",
   "execution_count": null,
   "id": "d6aca85e",
   "metadata": {},
   "outputs": [],
   "source": []
  },
  {
   "cell_type": "code",
   "execution_count": null,
   "id": "3a61f282",
   "metadata": {},
   "outputs": [],
   "source": []
  },
  {
   "cell_type": "markdown",
   "id": "dc8b9a70",
   "metadata": {},
   "source": [
    "### d. Convert a Single Integer to Pandas Timestamp\n",
    "- Pandas `pd.to_datetime()` method can also be used to convert the first argument passed as integer to Pandas `Timestamp` object. \n",
    "- The `unit` argument tells about the unit of the `arg`, and it can be **seconds, miliseconds, days or years**\n",
    "- The `origin` argument can be any reference point from where you want to start counting your units from. The default value of `origin` is the UNIX epoch.\n",
    "```\n",
    "pd.to_datetime(arg, format=None, unit=None, origin='unix')\n",
    "```"
   ]
  },
  {
   "cell_type": "code",
   "execution_count": null,
   "id": "2868bcdd",
   "metadata": {},
   "outputs": [],
   "source": [
    "!date +%s"
   ]
  },
  {
   "cell_type": "code",
   "execution_count": null,
   "id": "a6c7d1ae",
   "metadata": {},
   "outputs": [],
   "source": [
    "ts = pd.to_datetime(1645594235, unit='ms', origin='unix')\n",
    "ts"
   ]
  },
  {
   "cell_type": "markdown",
   "id": "c2f45869",
   "metadata": {},
   "source": [
    ">You can mention the origin as some other reference point of your choice"
   ]
  },
  {
   "cell_type": "code",
   "execution_count": null,
   "id": "ed64ab8f",
   "metadata": {},
   "outputs": [],
   "source": [
    "ts = pd.to_datetime(10, unit='D', origin='2022-01-01')\n",
    "ts"
   ]
  },
  {
   "cell_type": "code",
   "execution_count": null,
   "id": "a536c17e",
   "metadata": {},
   "outputs": [],
   "source": []
  },
  {
   "cell_type": "code",
   "execution_count": null,
   "id": "4744af7f",
   "metadata": {},
   "outputs": [],
   "source": []
  },
  {
   "cell_type": "code",
   "execution_count": null,
   "id": "c4118d99",
   "metadata": {},
   "outputs": [],
   "source": []
  },
  {
   "cell_type": "code",
   "execution_count": null,
   "id": "e8021bec",
   "metadata": {},
   "outputs": [],
   "source": []
  },
  {
   "cell_type": "code",
   "execution_count": null,
   "id": "072c792d",
   "metadata": {},
   "outputs": [],
   "source": []
  },
  {
   "cell_type": "code",
   "execution_count": null,
   "id": "d16d2b3f",
   "metadata": {},
   "outputs": [],
   "source": []
  },
  {
   "cell_type": "code",
   "execution_count": null,
   "id": "c9946871",
   "metadata": {},
   "outputs": [],
   "source": []
  },
  {
   "cell_type": "code",
   "execution_count": null,
   "id": "b0a3269f",
   "metadata": {},
   "outputs": [],
   "source": []
  },
  {
   "cell_type": "markdown",
   "id": "7cef1736",
   "metadata": {},
   "source": [
    "## 4. Practicing with a Simple Dataset"
   ]
  },
  {
   "cell_type": "markdown",
   "id": "20aab3ac",
   "metadata": {},
   "source": [
    "### a.  Option 1: Read the Dataset as such and then convert the Column Datatype to Timestamp64"
   ]
  },
  {
   "cell_type": "markdown",
   "id": "ad199219",
   "metadata": {},
   "source": [
    "**Example 1:** A dataset with datetime in a format as expected by `pd.to_datetime()`"
   ]
  },
  {
   "cell_type": "code",
   "execution_count": null,
   "id": "87f58d21",
   "metadata": {},
   "outputs": [],
   "source": [
    "# yyyy-mm-dd hr:min\n",
    "! cat datasets/datetime1.csv"
   ]
  },
  {
   "cell_type": "code",
   "execution_count": null,
   "id": "3e62ef56",
   "metadata": {},
   "outputs": [],
   "source": []
  },
  {
   "cell_type": "code",
   "execution_count": null,
   "id": "cf30ab52",
   "metadata": {},
   "outputs": [],
   "source": [
    "import pandas as pd\n",
    "df = pd.read_csv(\"datasets/datetime1.csv\")\n",
    "df"
   ]
  },
  {
   "cell_type": "code",
   "execution_count": null,
   "id": "1705cd65",
   "metadata": {},
   "outputs": [],
   "source": [
    "df.dtypes"
   ]
  },
  {
   "cell_type": "code",
   "execution_count": null,
   "id": "ac6fe6bc",
   "metadata": {},
   "outputs": [],
   "source": [
    "df.loc[:,'dob']"
   ]
  },
  {
   "cell_type": "code",
   "execution_count": null,
   "id": "018e2eee",
   "metadata": {},
   "outputs": [],
   "source": [
    "pd.to_datetime(df.loc[:,'dob'])"
   ]
  },
  {
   "cell_type": "code",
   "execution_count": null,
   "id": "c6dadf1b",
   "metadata": {},
   "outputs": [],
   "source": []
  },
  {
   "cell_type": "code",
   "execution_count": null,
   "id": "9605e3d3",
   "metadata": {},
   "outputs": [],
   "source": [
    "df['dob'] = pd.to_datetime(df.loc[:,'dob'])"
   ]
  },
  {
   "cell_type": "code",
   "execution_count": null,
   "id": "c37da731",
   "metadata": {},
   "outputs": [],
   "source": [
    "df.dtypes"
   ]
  },
  {
   "cell_type": "code",
   "execution_count": null,
   "id": "406f2536",
   "metadata": {},
   "outputs": [],
   "source": [
    "df"
   ]
  },
  {
   "cell_type": "code",
   "execution_count": null,
   "id": "0d7f14a1",
   "metadata": {},
   "outputs": [],
   "source": []
  },
  {
   "cell_type": "code",
   "execution_count": null,
   "id": "40b62137",
   "metadata": {},
   "outputs": [],
   "source": []
  },
  {
   "cell_type": "markdown",
   "id": "f1c4cea9",
   "metadata": {},
   "source": [
    "**Example 2:** A dataset with datetime in a format NOT expected by `pd.to_datetime()`"
   ]
  },
  {
   "cell_type": "code",
   "execution_count": null,
   "id": "2aba0c34",
   "metadata": {},
   "outputs": [],
   "source": [
    "# dd-mm-yyyy hr-PM\n",
    "! cat datasets/datetime2.csv"
   ]
  },
  {
   "cell_type": "code",
   "execution_count": null,
   "id": "b2548571",
   "metadata": {},
   "outputs": [],
   "source": []
  },
  {
   "cell_type": "code",
   "execution_count": null,
   "id": "0ced9b12",
   "metadata": {},
   "outputs": [],
   "source": [
    "df = pd.read_csv(\"datasets/datetime2.csv\")\n",
    "df"
   ]
  },
  {
   "cell_type": "code",
   "execution_count": null,
   "id": "fbd41e0a",
   "metadata": {},
   "outputs": [],
   "source": [
    "df.dtypes"
   ]
  },
  {
   "cell_type": "code",
   "execution_count": null,
   "id": "9b4a525b",
   "metadata": {},
   "outputs": [],
   "source": []
  },
  {
   "cell_type": "code",
   "execution_count": null,
   "id": "eed6a046",
   "metadata": {},
   "outputs": [],
   "source": []
  },
  {
   "cell_type": "code",
   "execution_count": null,
   "id": "b41321fb",
   "metadata": {},
   "outputs": [],
   "source": [
    "# Following LOC will now generate `ParserError: Unknown string format: 02-07-1980 08-PM`\n",
    "#pd.to_datetime(df.loc[:,'dob'])"
   ]
  },
  {
   "cell_type": "code",
   "execution_count": null,
   "id": "766eb80f",
   "metadata": {},
   "outputs": [],
   "source": [
    "pd.to_datetime(df.loc[:,'dob'], format = '%d-%m-%Y %I-%p')"
   ]
  },
  {
   "cell_type": "code",
   "execution_count": null,
   "id": "97b740a0",
   "metadata": {},
   "outputs": [],
   "source": [
    "df['dob'] = pd.to_datetime(df.loc[:,'dob'], format = '%d-%m-%Y %I-%p')"
   ]
  },
  {
   "cell_type": "code",
   "execution_count": null,
   "id": "585bdabc",
   "metadata": {},
   "outputs": [],
   "source": [
    "df.dtypes"
   ]
  },
  {
   "cell_type": "code",
   "execution_count": null,
   "id": "dcc94768",
   "metadata": {},
   "outputs": [],
   "source": []
  },
  {
   "cell_type": "code",
   "execution_count": null,
   "id": "5474f1da",
   "metadata": {},
   "outputs": [],
   "source": []
  },
  {
   "cell_type": "code",
   "execution_count": null,
   "id": "5e1c4bc5",
   "metadata": {},
   "outputs": [],
   "source": []
  },
  {
   "cell_type": "code",
   "execution_count": null,
   "id": "f04dee48",
   "metadata": {},
   "outputs": [],
   "source": []
  },
  {
   "cell_type": "code",
   "execution_count": null,
   "id": "d53767e3",
   "metadata": {},
   "outputs": [],
   "source": []
  },
  {
   "cell_type": "markdown",
   "id": "d62068ea",
   "metadata": {},
   "source": [
    "### b.  Option 2: Do the Conversion while Reading the CSV File"
   ]
  },
  {
   "cell_type": "markdown",
   "id": "b115624c",
   "metadata": {},
   "source": [
    ">**One can use the `parse_dates` and `date_parser` argument to the `pd.read_csv()` method to do this conversion while reading the csv file. However, the `pd.to_datetime()` method discussed above is recommended.**"
   ]
  },
  {
   "cell_type": "code",
   "execution_count": null,
   "id": "e8e56359",
   "metadata": {},
   "outputs": [],
   "source": []
  },
  {
   "cell_type": "code",
   "execution_count": null,
   "id": "a8c57490",
   "metadata": {},
   "outputs": [],
   "source": []
  },
  {
   "cell_type": "code",
   "execution_count": null,
   "id": "b73bfd5c",
   "metadata": {},
   "outputs": [],
   "source": []
  },
  {
   "cell_type": "code",
   "execution_count": null,
   "id": "f7d2e302",
   "metadata": {},
   "outputs": [],
   "source": []
  },
  {
   "cell_type": "code",
   "execution_count": null,
   "id": "fea9323d",
   "metadata": {},
   "outputs": [],
   "source": []
  },
  {
   "cell_type": "markdown",
   "id": "085f8cc3",
   "metadata": {},
   "source": [
    "## 5. Practicing with UFO Dataset\n",
    "\n",
    "<img align=\"center\" width=\"400\" height=\"400\"  src=\"images/ufo.png\"  >"
   ]
  },
  {
   "cell_type": "markdown",
   "id": "97b21c71",
   "metadata": {},
   "source": [
    "### a. Understanding the Dataset"
   ]
  },
  {
   "cell_type": "code",
   "execution_count": null,
   "id": "5f2c69fc",
   "metadata": {
    "scrolled": true
   },
   "outputs": [],
   "source": [
    "import pandas as pd\n",
    "df = pd.read_csv(\"datasets/ufo.csv\")\n",
    "\n",
    "# Use `errors=coerce` to translate the remaining data and keep `NaT` for invalid string\n",
    "pd.to_datetime(['2017-01-05', 'Jan 6, 2017', 'abc'], errors='coerce')"
   ]
  },
  {
   "cell_type": "code",
   "execution_count": null,
   "id": "ecbb8eb6",
   "metadata": {},
   "outputs": [],
   "source": [
    "df"
   ]
  },
  {
   "cell_type": "code",
   "execution_count": null,
   "id": "5a3cdb51",
   "metadata": {},
   "outputs": [],
   "source": [
    "df.dtypes"
   ]
  },
  {
   "cell_type": "code",
   "execution_count": null,
   "id": "d3b02600",
   "metadata": {},
   "outputs": [],
   "source": [
    "df.info()"
   ]
  },
  {
   "cell_type": "code",
   "execution_count": null,
   "id": "f6224595",
   "metadata": {},
   "outputs": [],
   "source": [
    "# The Time column of the dataframe contains strings\n",
    "df.loc[0,'Time']"
   ]
  },
  {
   "cell_type": "code",
   "execution_count": null,
   "id": "20bedc43",
   "metadata": {},
   "outputs": [],
   "source": []
  },
  {
   "cell_type": "code",
   "execution_count": null,
   "id": "678a7106",
   "metadata": {},
   "outputs": [],
   "source": []
  },
  {
   "cell_type": "markdown",
   "id": "ef32cb7d",
   "metadata": {},
   "source": [
    ">Let us pass this column/series to the `pd.to_datetime()` method to convert the datatype to `datetime64`"
   ]
  },
  {
   "cell_type": "code",
   "execution_count": null,
   "id": "4897d804",
   "metadata": {
    "scrolled": false
   },
   "outputs": [],
   "source": [
    "pd.to_datetime(df.loc[:,'Time'])"
   ]
  },
  {
   "cell_type": "code",
   "execution_count": null,
   "id": "c6ff37b4",
   "metadata": {},
   "outputs": [],
   "source": [
    "pd.to_datetime(df.loc[:,'Time'])"
   ]
  },
  {
   "cell_type": "code",
   "execution_count": null,
   "id": "0f950d96",
   "metadata": {},
   "outputs": [],
   "source": []
  },
  {
   "cell_type": "code",
   "execution_count": null,
   "id": "1b2e0e90",
   "metadata": {},
   "outputs": [],
   "source": []
  },
  {
   "cell_type": "code",
   "execution_count": null,
   "id": "33237b4a",
   "metadata": {},
   "outputs": [],
   "source": [
    "df['Time'] = pd.to_datetime(df.loc[:,'Time'])"
   ]
  },
  {
   "cell_type": "code",
   "execution_count": null,
   "id": "6182e264",
   "metadata": {},
   "outputs": [],
   "source": [
    "df.dtypes"
   ]
  },
  {
   "cell_type": "code",
   "execution_count": null,
   "id": "2a739d61",
   "metadata": {},
   "outputs": [],
   "source": []
  },
  {
   "cell_type": "code",
   "execution_count": null,
   "id": "15cadce7",
   "metadata": {},
   "outputs": [],
   "source": []
  },
  {
   "cell_type": "code",
   "execution_count": null,
   "id": "a180c728",
   "metadata": {},
   "outputs": [],
   "source": []
  },
  {
   "cell_type": "code",
   "execution_count": null,
   "id": "68a438e3",
   "metadata": {},
   "outputs": [],
   "source": []
  },
  {
   "cell_type": "code",
   "execution_count": null,
   "id": "47a167ee",
   "metadata": {},
   "outputs": [],
   "source": []
  },
  {
   "cell_type": "code",
   "execution_count": null,
   "id": "da4053cd",
   "metadata": {},
   "outputs": [],
   "source": []
  },
  {
   "cell_type": "markdown",
   "id": "310f2108",
   "metadata": {},
   "source": [
    "**Suppose I want to display only those UFO sightings that has been seen after 28 October 2000**"
   ]
  },
  {
   "cell_type": "code",
   "execution_count": null,
   "id": "81fd0bdd",
   "metadata": {
    "scrolled": true
   },
   "outputs": [],
   "source": [
    "# Use Boolean Indexing (Can compare a string with datetime object)\n",
    "df.loc[df.Time >= '2000/10/28', :]"
   ]
  },
  {
   "cell_type": "code",
   "execution_count": null,
   "id": "7d24f522",
   "metadata": {},
   "outputs": [],
   "source": [
    "df.loc[df.Time >= '28-10-2000',:]"
   ]
  },
  {
   "cell_type": "code",
   "execution_count": null,
   "id": "65f6b28a",
   "metadata": {},
   "outputs": [],
   "source": [
    "# Create a datetime object to be used for comparison\n",
    "ts = pd.to_datetime('2000/10/28')\n",
    "df.loc[df['Time'] >= ts, :]"
   ]
  },
  {
   "cell_type": "code",
   "execution_count": null,
   "id": "0ccd9678",
   "metadata": {},
   "outputs": [],
   "source": []
  },
  {
   "cell_type": "code",
   "execution_count": null,
   "id": "a42f88d4",
   "metadata": {},
   "outputs": [],
   "source": []
  },
  {
   "cell_type": "code",
   "execution_count": null,
   "id": "b5be6ce3",
   "metadata": {},
   "outputs": [],
   "source": []
  },
  {
   "cell_type": "code",
   "execution_count": null,
   "id": "ac59fab4",
   "metadata": {},
   "outputs": [],
   "source": []
  },
  {
   "cell_type": "code",
   "execution_count": null,
   "id": "2148d072",
   "metadata": {},
   "outputs": [],
   "source": []
  },
  {
   "cell_type": "markdown",
   "id": "b112ce4e",
   "metadata": {},
   "source": [
    "**Suppose I want to display only those UFO sightings that has been seen between 1st March 1995 and 06 March 1995**"
   ]
  },
  {
   "cell_type": "code",
   "execution_count": null,
   "id": "07941198",
   "metadata": {},
   "outputs": [],
   "source": [
    "df.loc[(df['Time'] >= '1995/03/01') & (df['Time'] <= '1995/03/07'), :] #"
   ]
  },
  {
   "cell_type": "code",
   "execution_count": null,
   "id": "6033cd64",
   "metadata": {},
   "outputs": [],
   "source": [
    "# Create a datetime object to be used for comparison\n",
    "ts1 = pd.to_datetime('1995/03/1')\n",
    "ts2 = pd.to_datetime('1995/03/7')  #look here we have to take 7 here not 6 IMPORTANT\n",
    "df.loc[(df.Time >= ts1) & (df.Time <= ts2), :]\n"
   ]
  },
  {
   "cell_type": "code",
   "execution_count": null,
   "id": "dd24025f",
   "metadata": {},
   "outputs": [],
   "source": []
  },
  {
   "cell_type": "code",
   "execution_count": null,
   "id": "4e86c876",
   "metadata": {},
   "outputs": [],
   "source": []
  },
  {
   "cell_type": "code",
   "execution_count": null,
   "id": "42a058b2",
   "metadata": {},
   "outputs": [],
   "source": []
  },
  {
   "cell_type": "code",
   "execution_count": null,
   "id": "2906dc80",
   "metadata": {},
   "outputs": [],
   "source": []
  },
  {
   "cell_type": "code",
   "execution_count": null,
   "id": "d2f850cf",
   "metadata": {},
   "outputs": [],
   "source": []
  },
  {
   "cell_type": "code",
   "execution_count": null,
   "id": "184cb99c",
   "metadata": {},
   "outputs": [],
   "source": []
  },
  {
   "cell_type": "markdown",
   "id": "3f0aaef6",
   "metadata": {},
   "source": [
    "**Suppose I want to display the record of the maximum date under the `Time` column**"
   ]
  },
  {
   "cell_type": "code",
   "execution_count": null,
   "id": "2ce38867",
   "metadata": {},
   "outputs": [],
   "source": [
    "ts = df.Time.max()\n",
    "ts"
   ]
  },
  {
   "cell_type": "code",
   "execution_count": null,
   "id": "3d435c7e",
   "metadata": {},
   "outputs": [],
   "source": [
    "df.loc[df.Time == ts]"
   ]
  },
  {
   "cell_type": "code",
   "execution_count": 2,
   "id": "4dac40f4",
   "metadata": {},
   "outputs": [
    {
     "ename": "NameError",
     "evalue": "name 'df' is not defined",
     "output_type": "error",
     "traceback": [
      "\u001b[1;31m---------------------------------------------------------------------------\u001b[0m",
      "\u001b[1;31mNameError\u001b[0m                                 Traceback (most recent call last)",
      "Cell \u001b[1;32mIn[2], line 1\u001b[0m\n\u001b[1;32m----> 1\u001b[0m ts1 \u001b[38;5;241m=\u001b[39m \u001b[43mdf\u001b[49m\u001b[38;5;241m.\u001b[39mTime\u001b[38;5;241m.\u001b[39mmin()\n\u001b[0;32m      2\u001b[0m ts1\n\u001b[0;32m      3\u001b[0m df\u001b[38;5;241m.\u001b[39mloc[df\u001b[38;5;241m.\u001b[39mTime \u001b[38;5;241m==\u001b[39m ts1]\n",
      "\u001b[1;31mNameError\u001b[0m: name 'df' is not defined"
     ]
    }
   ],
   "source": [
    "ts1 = df.Time.min()\n",
    "ts1\n",
    "df.loc[df.Time == ts1]\n"
   ]
  },
  {
   "cell_type": "code",
   "execution_count": null,
   "id": "0d3c2ca2",
   "metadata": {},
   "outputs": [],
   "source": []
  },
  {
   "cell_type": "code",
   "execution_count": null,
   "id": "93421bc1",
   "metadata": {
    "scrolled": true
   },
   "outputs": [],
   "source": [
    "df.loc[df.Time.max()] #its giving error\n"
   ]
  },
  {
   "cell_type": "code",
   "execution_count": null,
   "id": "27092f84",
   "metadata": {},
   "outputs": [],
   "source": []
  },
  {
   "cell_type": "code",
   "execution_count": null,
   "id": "17bd18b3",
   "metadata": {},
   "outputs": [],
   "source": []
  },
  {
   "cell_type": "code",
   "execution_count": null,
   "id": "a9b7efcb",
   "metadata": {},
   "outputs": [],
   "source": []
  },
  {
   "cell_type": "code",
   "execution_count": null,
   "id": "5255c7a3",
   "metadata": {},
   "outputs": [],
   "source": []
  },
  {
   "cell_type": "code",
   "execution_count": null,
   "id": "0c2d5aa5",
   "metadata": {},
   "outputs": [],
   "source": []
  },
  {
   "cell_type": "code",
   "execution_count": null,
   "id": "0bb33fab",
   "metadata": {},
   "outputs": [],
   "source": []
  },
  {
   "cell_type": "markdown",
   "id": "48ffb7cc",
   "metadata": {},
   "source": [
    "**Suppose I want to display the oldest record as per the `Time` column**"
   ]
  },
  {
   "cell_type": "code",
   "execution_count": null,
   "id": "73cbb2fa",
   "metadata": {},
   "outputs": [],
   "source": [
    "ts = df.Time.min()\n",
    "ts"
   ]
  },
  {
   "cell_type": "code",
   "execution_count": null,
   "id": "56600dc9",
   "metadata": {},
   "outputs": [],
   "source": [
    "df.loc[df.Time == ts]"
   ]
  },
  {
   "cell_type": "code",
   "execution_count": null,
   "id": "6f7a80d6",
   "metadata": {},
   "outputs": [],
   "source": []
  },
  {
   "cell_type": "code",
   "execution_count": null,
   "id": "8662123d",
   "metadata": {},
   "outputs": [],
   "source": []
  },
  {
   "cell_type": "code",
   "execution_count": null,
   "id": "6120814c",
   "metadata": {},
   "outputs": [],
   "source": []
  },
  {
   "cell_type": "code",
   "execution_count": null,
   "id": "edb69f0d",
   "metadata": {},
   "outputs": [],
   "source": []
  },
  {
   "cell_type": "code",
   "execution_count": null,
   "id": "d249c3a2",
   "metadata": {},
   "outputs": [],
   "source": []
  },
  {
   "cell_type": "code",
   "execution_count": null,
   "id": "7ee305e2",
   "metadata": {},
   "outputs": [],
   "source": []
  },
  {
   "cell_type": "code",
   "execution_count": null,
   "id": "8d38852a",
   "metadata": {},
   "outputs": [],
   "source": []
  },
  {
   "cell_type": "markdown",
   "id": "20179e67",
   "metadata": {},
   "source": [
    "**Suppose I want to check out the difference between the oldest and the newest record as per the `Time` column**"
   ]
  },
  {
   "cell_type": "code",
   "execution_count": null,
   "id": "091952b7",
   "metadata": {},
   "outputs": [],
   "source": [
    "td = df.Time.max() - df.Time.min()\n",
    "print(td)\n",
    "print(type(td))\n"
   ]
  },
  {
   "cell_type": "code",
   "execution_count": null,
   "id": "da0e5155",
   "metadata": {},
   "outputs": [],
   "source": []
  },
  {
   "cell_type": "code",
   "execution_count": null,
   "id": "294ee562",
   "metadata": {},
   "outputs": [],
   "source": []
  },
  {
   "cell_type": "code",
   "execution_count": null,
   "id": "2c1cf28e",
   "metadata": {},
   "outputs": [],
   "source": [
    "td = df.Time.max() - df.Time.min()\n",
    "td"
   ]
  },
  {
   "cell_type": "code",
   "execution_count": null,
   "id": "847c20bb",
   "metadata": {},
   "outputs": [],
   "source": []
  },
  {
   "cell_type": "code",
   "execution_count": null,
   "id": "7ad6930b",
   "metadata": {},
   "outputs": [],
   "source": []
  },
  {
   "cell_type": "code",
   "execution_count": null,
   "id": "efe70970",
   "metadata": {},
   "outputs": [],
   "source": []
  },
  {
   "cell_type": "markdown",
   "id": "29739387",
   "metadata": {},
   "source": [
    "## 6. Practicing with Crypto-Currency Dataset\n",
    "\n",
    "<img align=\"center\" width=\"400\" height=\"400\"  src=\"images/cryptocurrency.png\"  >"
   ]
  },
  {
   "cell_type": "code",
   "execution_count": 2,
   "id": "731aaae1",
   "metadata": {},
   "outputs": [
    {
     "data": {
      "text/html": [
       "<div>\n",
       "<style scoped>\n",
       "    .dataframe tbody tr th:only-of-type {\n",
       "        vertical-align: middle;\n",
       "    }\n",
       "\n",
       "    .dataframe tbody tr th {\n",
       "        vertical-align: top;\n",
       "    }\n",
       "\n",
       "    .dataframe thead th {\n",
       "        text-align: right;\n",
       "    }\n",
       "</style>\n",
       "<table border=\"1\" class=\"dataframe\">\n",
       "  <thead>\n",
       "    <tr style=\"text-align: right;\">\n",
       "      <th></th>\n",
       "      <th>Date</th>\n",
       "      <th>Symbol</th>\n",
       "      <th>Open</th>\n",
       "      <th>High</th>\n",
       "      <th>Low</th>\n",
       "      <th>Close</th>\n",
       "      <th>Volume</th>\n",
       "    </tr>\n",
       "  </thead>\n",
       "  <tbody>\n",
       "    <tr>\n",
       "      <th>0</th>\n",
       "      <td>2020-03-13 08-PM</td>\n",
       "      <td>ETHUSD</td>\n",
       "      <td>129.94</td>\n",
       "      <td>131.82</td>\n",
       "      <td>126.87</td>\n",
       "      <td>128.71</td>\n",
       "      <td>1940673.93</td>\n",
       "    </tr>\n",
       "    <tr>\n",
       "      <th>1</th>\n",
       "      <td>2020-03-13 07-PM</td>\n",
       "      <td>ETHUSD</td>\n",
       "      <td>119.51</td>\n",
       "      <td>132.02</td>\n",
       "      <td>117.10</td>\n",
       "      <td>129.94</td>\n",
       "      <td>7579741.09</td>\n",
       "    </tr>\n",
       "    <tr>\n",
       "      <th>2</th>\n",
       "      <td>2020-03-13 06-PM</td>\n",
       "      <td>ETHUSD</td>\n",
       "      <td>124.47</td>\n",
       "      <td>124.85</td>\n",
       "      <td>115.50</td>\n",
       "      <td>119.51</td>\n",
       "      <td>4898735.81</td>\n",
       "    </tr>\n",
       "    <tr>\n",
       "      <th>3</th>\n",
       "      <td>2020-03-13 05-PM</td>\n",
       "      <td>ETHUSD</td>\n",
       "      <td>124.08</td>\n",
       "      <td>127.42</td>\n",
       "      <td>121.63</td>\n",
       "      <td>124.47</td>\n",
       "      <td>2753450.92</td>\n",
       "    </tr>\n",
       "    <tr>\n",
       "      <th>4</th>\n",
       "      <td>2020-03-13 04-PM</td>\n",
       "      <td>ETHUSD</td>\n",
       "      <td>124.85</td>\n",
       "      <td>129.51</td>\n",
       "      <td>120.17</td>\n",
       "      <td>124.08</td>\n",
       "      <td>4461424.71</td>\n",
       "    </tr>\n",
       "    <tr>\n",
       "      <th>...</th>\n",
       "      <td>...</td>\n",
       "      <td>...</td>\n",
       "      <td>...</td>\n",
       "      <td>...</td>\n",
       "      <td>...</td>\n",
       "      <td>...</td>\n",
       "      <td>...</td>\n",
       "    </tr>\n",
       "    <tr>\n",
       "      <th>23669</th>\n",
       "      <td>2017-07-01 03-PM</td>\n",
       "      <td>ETHUSD</td>\n",
       "      <td>265.74</td>\n",
       "      <td>272.74</td>\n",
       "      <td>265.00</td>\n",
       "      <td>272.57</td>\n",
       "      <td>1500282.55</td>\n",
       "    </tr>\n",
       "    <tr>\n",
       "      <th>23670</th>\n",
       "      <td>2017-07-01 02-PM</td>\n",
       "      <td>ETHUSD</td>\n",
       "      <td>268.79</td>\n",
       "      <td>269.90</td>\n",
       "      <td>265.00</td>\n",
       "      <td>265.74</td>\n",
       "      <td>1702536.85</td>\n",
       "    </tr>\n",
       "    <tr>\n",
       "      <th>23671</th>\n",
       "      <td>2017-07-01 01-PM</td>\n",
       "      <td>ETHUSD</td>\n",
       "      <td>274.83</td>\n",
       "      <td>274.93</td>\n",
       "      <td>265.00</td>\n",
       "      <td>268.79</td>\n",
       "      <td>3010787.99</td>\n",
       "    </tr>\n",
       "    <tr>\n",
       "      <th>23672</th>\n",
       "      <td>2017-07-01 12-PM</td>\n",
       "      <td>ETHUSD</td>\n",
       "      <td>275.01</td>\n",
       "      <td>275.01</td>\n",
       "      <td>271.00</td>\n",
       "      <td>274.83</td>\n",
       "      <td>824362.87</td>\n",
       "    </tr>\n",
       "    <tr>\n",
       "      <th>23673</th>\n",
       "      <td>2017-07-01 11-AM</td>\n",
       "      <td>ETHUSD</td>\n",
       "      <td>279.98</td>\n",
       "      <td>279.99</td>\n",
       "      <td>272.10</td>\n",
       "      <td>275.01</td>\n",
       "      <td>679358.87</td>\n",
       "    </tr>\n",
       "  </tbody>\n",
       "</table>\n",
       "<p>23674 rows × 7 columns</p>\n",
       "</div>"
      ],
      "text/plain": [
       "                   Date  Symbol    Open    High     Low   Close      Volume\n",
       "0      2020-03-13 08-PM  ETHUSD  129.94  131.82  126.87  128.71  1940673.93\n",
       "1      2020-03-13 07-PM  ETHUSD  119.51  132.02  117.10  129.94  7579741.09\n",
       "2      2020-03-13 06-PM  ETHUSD  124.47  124.85  115.50  119.51  4898735.81\n",
       "3      2020-03-13 05-PM  ETHUSD  124.08  127.42  121.63  124.47  2753450.92\n",
       "4      2020-03-13 04-PM  ETHUSD  124.85  129.51  120.17  124.08  4461424.71\n",
       "...                 ...     ...     ...     ...     ...     ...         ...\n",
       "23669  2017-07-01 03-PM  ETHUSD  265.74  272.74  265.00  272.57  1500282.55\n",
       "23670  2017-07-01 02-PM  ETHUSD  268.79  269.90  265.00  265.74  1702536.85\n",
       "23671  2017-07-01 01-PM  ETHUSD  274.83  274.93  265.00  268.79  3010787.99\n",
       "23672  2017-07-01 12-PM  ETHUSD  275.01  275.01  271.00  274.83   824362.87\n",
       "23673  2017-07-01 11-AM  ETHUSD  279.98  279.99  272.10  275.01   679358.87\n",
       "\n",
       "[23674 rows x 7 columns]"
      ]
     },
     "execution_count": 2,
     "metadata": {},
     "output_type": "execute_result"
    }
   ],
   "source": [
    "import pandas as pd\n",
    "df = pd.read_csv(\"datasets/cryptodata.csv\")\n",
    "df\n"
   ]
  },
  {
   "cell_type": "code",
   "execution_count": null,
   "id": "35887ae8",
   "metadata": {},
   "outputs": [],
   "source": [
    "# The Date column of the dataframe contains strings\n",
    "df.loc[0,'Date']"
   ]
  },
  {
   "cell_type": "code",
   "execution_count": null,
   "id": "dc902395",
   "metadata": {},
   "outputs": [],
   "source": [
    "df.dtypes"
   ]
  },
  {
   "cell_type": "code",
   "execution_count": null,
   "id": "c7d0d861",
   "metadata": {},
   "outputs": [],
   "source": []
  },
  {
   "cell_type": "code",
   "execution_count": null,
   "id": "767ccf3b",
   "metadata": {},
   "outputs": [],
   "source": []
  },
  {
   "cell_type": "code",
   "execution_count": null,
   "id": "f86366ee",
   "metadata": {},
   "outputs": [],
   "source": []
  },
  {
   "cell_type": "markdown",
   "id": "6d6533d3",
   "metadata": {},
   "source": [
    "### a. Convert the Datatype of Date Column to Datetime"
   ]
  },
  {
   "cell_type": "markdown",
   "id": "0cd4d030",
   "metadata": {},
   "source": [
    ">Let us pass this column/series to the `pd.to_datetime()` method to convert the datatype to `datetime64`"
   ]
  },
  {
   "cell_type": "code",
   "execution_count": null,
   "id": "dab7b0f0",
   "metadata": {},
   "outputs": [],
   "source": [
    "# ParserError: Unknown string format: 2020-03-13 08-PM\n",
    "#pd.to_datetime(df.loc[:,'Date'])"
   ]
  },
  {
   "cell_type": "code",
   "execution_count": null,
   "id": "9d3a28d9",
   "metadata": {},
   "outputs": [],
   "source": [
    "df['Date'] = pd.to_datetime(df.loc[:, 'Date'], format='%Y-%m-%d %I-%p')"
   ]
  },
  {
   "cell_type": "code",
   "execution_count": null,
   "id": "fcbdaefe",
   "metadata": {},
   "outputs": [],
   "source": [
    "pd.to_datetime(df.loc[:,'Date'], format = '%Y-%m-%d %I-%p')"
   ]
  },
  {
   "cell_type": "code",
   "execution_count": null,
   "id": "558009b4",
   "metadata": {},
   "outputs": [],
   "source": [
    "#pd.to_datetime(df.loc[0,'Date'], format = '%Y-%m-%d %I-%p').day_name() #It will not give an error, call directly on one record\n",
    "#pd.to_datetime(df.loc[:,'Date'], format = '%Y-%m-%d %I-%p').day_name() #it will give error because am calling on whole series\n",
    "pd.to_datetime(df.loc[:,'Date'], format = '%Y-%m-%d %I-%p').dt.day_name() #so we have to write .dt here it converts the series in datetimeproperties\n"
   ]
  },
  {
   "cell_type": "code",
   "execution_count": null,
   "id": "34864e89",
   "metadata": {},
   "outputs": [],
   "source": [
    "dt = pd.to_datetime(df.loc[:,'Date'], format = '%Y-%m-%d %I-%p')\n",
    "dt.dt.day_name()"
   ]
  },
  {
   "cell_type": "code",
   "execution_count": null,
   "id": "6ce74259",
   "metadata": {},
   "outputs": [],
   "source": [
    "df['Date'] = pd.to_datetime(df.loc[:,'Date'], format = '%Y-%m-%d %I-%p')"
   ]
  },
  {
   "cell_type": "code",
   "execution_count": null,
   "id": "8718dbfc",
   "metadata": {},
   "outputs": [],
   "source": [
    "df.dtypes"
   ]
  },
  {
   "cell_type": "code",
   "execution_count": null,
   "id": "b8dcc21f",
   "metadata": {},
   "outputs": [],
   "source": [
    "type(df['Date'][0])"
   ]
  },
  {
   "cell_type": "code",
   "execution_count": null,
   "id": "8237ba2a",
   "metadata": {},
   "outputs": [],
   "source": []
  },
  {
   "cell_type": "code",
   "execution_count": null,
   "id": "1cda80a6",
   "metadata": {},
   "outputs": [],
   "source": []
  },
  {
   "cell_type": "code",
   "execution_count": null,
   "id": "8af08294",
   "metadata": {},
   "outputs": [],
   "source": []
  },
  {
   "cell_type": "code",
   "execution_count": null,
   "id": "32dbda15",
   "metadata": {},
   "outputs": [],
   "source": []
  },
  {
   "cell_type": "code",
   "execution_count": null,
   "id": "8508aa8c",
   "metadata": {},
   "outputs": [],
   "source": []
  },
  {
   "cell_type": "code",
   "execution_count": null,
   "id": "ad1482a1",
   "metadata": {},
   "outputs": [],
   "source": []
  },
  {
   "cell_type": "markdown",
   "id": "26ab381d",
   "metadata": {},
   "source": [
    "**Let us create a new column in the dataframe that shows the day of week in each row**"
   ]
  },
  {
   "cell_type": "code",
   "execution_count": null,
   "id": "8c03e635",
   "metadata": {},
   "outputs": [],
   "source": [
    "df.Date.dt.day_name()"
   ]
  },
  {
   "cell_type": "code",
   "execution_count": null,
   "id": "a12a943f",
   "metadata": {
    "scrolled": true
   },
   "outputs": [],
   "source": [
    "df['Date'].dt.day_name()"
   ]
  },
  {
   "cell_type": "code",
   "execution_count": null,
   "id": "fa6c6e4e",
   "metadata": {},
   "outputs": [],
   "source": [
    "df['dayofweek'] = df['Date'].dt.day_name()"
   ]
  },
  {
   "cell_type": "code",
   "execution_count": null,
   "id": "63fe0e1b",
   "metadata": {},
   "outputs": [],
   "source": [
    "df.dayofweek = df['Date'].dt.day_name() #it will give error, it will not create new column\n",
    "df['dayofweek'] = df['Date'].dt.day_name() #it will create a new column and save values in it\n"
   ]
  },
  {
   "cell_type": "code",
   "execution_count": null,
   "id": "38b86025",
   "metadata": {},
   "outputs": [],
   "source": [
    "df"
   ]
  },
  {
   "cell_type": "code",
   "execution_count": null,
   "id": "c0e23bd3",
   "metadata": {},
   "outputs": [],
   "source": []
  },
  {
   "cell_type": "code",
   "execution_count": null,
   "id": "58ae33bf",
   "metadata": {},
   "outputs": [],
   "source": []
  },
  {
   "cell_type": "code",
   "execution_count": null,
   "id": "7e141fd2",
   "metadata": {},
   "outputs": [],
   "source": []
  },
  {
   "cell_type": "code",
   "execution_count": null,
   "id": "7acd5577",
   "metadata": {},
   "outputs": [],
   "source": []
  },
  {
   "cell_type": "code",
   "execution_count": null,
   "id": "af07cbbb",
   "metadata": {},
   "outputs": [],
   "source": []
  },
  {
   "cell_type": "markdown",
   "id": "e8d40883",
   "metadata": {},
   "source": [
    "**Let us find the oldest and newest record in the dataframe**"
   ]
  },
  {
   "cell_type": "code",
   "execution_count": null,
   "id": "5ccf5dd2",
   "metadata": {},
   "outputs": [],
   "source": [
    "df['Date'].min()"
   ]
  },
  {
   "cell_type": "code",
   "execution_count": null,
   "id": "6963dfc6",
   "metadata": {},
   "outputs": [],
   "source": [
    "df['Date'].max()"
   ]
  },
  {
   "cell_type": "code",
   "execution_count": null,
   "id": "c9d27847",
   "metadata": {},
   "outputs": [],
   "source": [
    "df['Date'].max() - df['Date'].min()"
   ]
  },
  {
   "cell_type": "code",
   "execution_count": null,
   "id": "f11357f8",
   "metadata": {},
   "outputs": [],
   "source": []
  },
  {
   "cell_type": "code",
   "execution_count": null,
   "id": "714d4c15",
   "metadata": {},
   "outputs": [],
   "source": []
  },
  {
   "cell_type": "code",
   "execution_count": null,
   "id": "a7c6ce91",
   "metadata": {},
   "outputs": [],
   "source": []
  },
  {
   "cell_type": "code",
   "execution_count": null,
   "id": "dab9176e",
   "metadata": {},
   "outputs": [],
   "source": []
  },
  {
   "cell_type": "code",
   "execution_count": null,
   "id": "d06f814c",
   "metadata": {},
   "outputs": [],
   "source": []
  },
  {
   "cell_type": "code",
   "execution_count": null,
   "id": "5a77c0e6",
   "metadata": {},
   "outputs": [],
   "source": []
  },
  {
   "cell_type": "markdown",
   "id": "e98605ba",
   "metadata": {},
   "source": [
    "**Let us find the records of the January 2020 only**"
   ]
  },
  {
   "cell_type": "code",
   "execution_count": null,
   "id": "a1e04f63",
   "metadata": {},
   "outputs": [],
   "source": [
    "ts = pd.to_datetime('2020/01/01', format='%Y/%m/%d')\n",
    "ts1 = pd.to_datetime('2020/01/31', format='%Y/%m/%d')\n",
    "df.loc[(df['Date'] >= ts) & (df['Date'] <= ts1)]"
   ]
  },
  {
   "cell_type": "code",
   "execution_count": null,
   "id": "e11308c2",
   "metadata": {
    "scrolled": true
   },
   "outputs": [],
   "source": [
    "df.loc[(df['Date'] >= '01/01/2020') & (df['Date'] <= '31/01/2020')] #it will show only january 2020 records\n"
   ]
  },
  {
   "cell_type": "code",
   "execution_count": null,
   "id": "28003128",
   "metadata": {},
   "outputs": [],
   "source": []
  },
  {
   "cell_type": "code",
   "execution_count": null,
   "id": "c1cec380",
   "metadata": {},
   "outputs": [],
   "source": []
  },
  {
   "cell_type": "code",
   "execution_count": null,
   "id": "16e34053",
   "metadata": {},
   "outputs": [],
   "source": []
  },
  {
   "cell_type": "code",
   "execution_count": null,
   "id": "85de8d2c",
   "metadata": {},
   "outputs": [],
   "source": []
  },
  {
   "cell_type": "code",
   "execution_count": null,
   "id": "84329b95",
   "metadata": {},
   "outputs": [],
   "source": []
  },
  {
   "cell_type": "code",
   "execution_count": null,
   "id": "ee80a038",
   "metadata": {},
   "outputs": [],
   "source": []
  },
  {
   "cell_type": "code",
   "execution_count": null,
   "id": "16b1ac78",
   "metadata": {},
   "outputs": [],
   "source": [
    "df.loc[(df['Date'] >= '2020-01-01') & (df['Date'] <= '2020-01-31')]"
   ]
  },
  {
   "cell_type": "code",
   "execution_count": null,
   "id": "b88f5c82",
   "metadata": {},
   "outputs": [],
   "source": [
    "mask = (df['Date'] >= '2020-01-01') & (df['Date'] <= '2020-01-31')\n",
    "mask"
   ]
  },
  {
   "cell_type": "code",
   "execution_count": null,
   "id": "f0259322",
   "metadata": {},
   "outputs": [],
   "source": [
    "df.loc[mask]"
   ]
  },
  {
   "cell_type": "code",
   "execution_count": null,
   "id": "f05a2861",
   "metadata": {},
   "outputs": [],
   "source": []
  },
  {
   "cell_type": "code",
   "execution_count": null,
   "id": "2e03ca6c",
   "metadata": {},
   "outputs": [],
   "source": []
  },
  {
   "cell_type": "code",
   "execution_count": null,
   "id": "86933cbd",
   "metadata": {},
   "outputs": [],
   "source": []
  },
  {
   "cell_type": "code",
   "execution_count": null,
   "id": "f21cbaf3",
   "metadata": {},
   "outputs": [],
   "source": []
  },
  {
   "cell_type": "code",
   "execution_count": null,
   "id": "e150ba05",
   "metadata": {},
   "outputs": [],
   "source": []
  },
  {
   "cell_type": "code",
   "execution_count": null,
   "id": "c20d1037",
   "metadata": {},
   "outputs": [],
   "source": []
  },
  {
   "cell_type": "markdown",
   "id": "ca47752a",
   "metadata": {},
   "source": [
    "### b. Set the Column `Date` as Row Index of Dataframe\n",
    "- This will allow you to treat the entire dataset in the dataframe as a Time Series Data\n",
    "    - Selecting/Indexing using strings\n",
    "    - Slicing using `df[date1:date2]`\n",
    "    - Use of `df.loc[date1:date2, :]`"
   ]
  },
  {
   "cell_type": "code",
   "execution_count": null,
   "id": "5aaad6b6",
   "metadata": {},
   "outputs": [],
   "source": [
    "df.set_index('Date', inplace=True)\n",
    "df"
   ]
  },
  {
   "cell_type": "markdown",
   "id": "35509834",
   "metadata": {},
   "source": [
    ">Now, since the data of the `Date` column has become the row indices of this dataframe, therefore, we can use `.loc[]` on the dates :)\n",
    "- Since index is still unique so the searching will be done in O(1) time\n",
    "- If non-unique but sorted the searching will take O(logn) time\n",
    "- If non-unique and non-sorted the searching will take O(n) time"
   ]
  },
  {
   "cell_type": "markdown",
   "id": "92658fc6",
   "metadata": {},
   "source": [
    "**(i) Selection:**"
   ]
  },
  {
   "cell_type": "code",
   "execution_count": null,
   "id": "3bb995ed",
   "metadata": {},
   "outputs": [],
   "source": [
    "# retrieve data of july 2019\n",
    "df.loc[\"2019-07-01\"]"
   ]
  },
  {
   "cell_type": "code",
   "execution_count": null,
   "id": "5dd4d213",
   "metadata": {},
   "outputs": [],
   "source": [
    "df.loc[\"2019-07\",'Volume'].mean()"
   ]
  },
  {
   "cell_type": "code",
   "execution_count": null,
   "id": "2c9be5ff",
   "metadata": {
    "scrolled": true
   },
   "outputs": [],
   "source": [
    "# getting Volume of July 2019\n",
    "df.loc[\"2019-07\"].Volume"
   ]
  },
  {
   "cell_type": "code",
   "execution_count": null,
   "id": "eb1c8412",
   "metadata": {},
   "outputs": [],
   "source": [
    "# Volumn average in July 2021\n",
    "df.loc[\"2019-07\"].Volume.mean() #IMPORTANT\n",
    "#df.loc[\"2019-07\",'Volume'].mean() #both are same\n"
   ]
  },
  {
   "cell_type": "code",
   "execution_count": null,
   "id": "a234fc32",
   "metadata": {},
   "outputs": [],
   "source": []
  },
  {
   "cell_type": "code",
   "execution_count": null,
   "id": "a642e1c4",
   "metadata": {},
   "outputs": [],
   "source": []
  },
  {
   "cell_type": "code",
   "execution_count": null,
   "id": "b6087bfa",
   "metadata": {},
   "outputs": [],
   "source": []
  },
  {
   "cell_type": "code",
   "execution_count": null,
   "id": "6108648f",
   "metadata": {},
   "outputs": [],
   "source": []
  },
  {
   "cell_type": "markdown",
   "id": "54ce57f1",
   "metadata": {},
   "source": [
    "**(ii) Slicing:**"
   ]
  },
  {
   "cell_type": "code",
   "execution_count": null,
   "id": "804a93a9",
   "metadata": {},
   "outputs": [],
   "source": [
    "# Slice data of January and February 2020\n",
    "df.loc['2020-01':'2020-02', :]\n",
    "#df.loc['2020-01':'2020-02']  #both are same"
   ]
  },
  {
   "cell_type": "code",
   "execution_count": null,
   "id": "676294e6",
   "metadata": {},
   "outputs": [],
   "source": [
    "# Get only the Close column showing closing of January and February 2020\n",
    "df.loc['2020-01':'2020-02', 'Close']\n",
    "#df.loc['2020-01':'2020-02'].Close #both are same"
   ]
  },
  {
   "cell_type": "code",
   "execution_count": null,
   "id": "b4024017",
   "metadata": {},
   "outputs": [],
   "source": [
    "# Compute the mean\n",
    "df.loc['2020-01':'2020-02', 'Close'].mean()"
   ]
  },
  {
   "cell_type": "code",
   "execution_count": null,
   "id": "85b8e352",
   "metadata": {},
   "outputs": [],
   "source": []
  },
  {
   "cell_type": "code",
   "execution_count": null,
   "id": "13befab5",
   "metadata": {},
   "outputs": [],
   "source": []
  },
  {
   "cell_type": "code",
   "execution_count": null,
   "id": "36f29e36",
   "metadata": {},
   "outputs": [],
   "source": []
  },
  {
   "cell_type": "code",
   "execution_count": null,
   "id": "ba24d532",
   "metadata": {},
   "outputs": [],
   "source": []
  },
  {
   "cell_type": "code",
   "execution_count": null,
   "id": "4382d2b8",
   "metadata": {},
   "outputs": [],
   "source": []
  },
  {
   "cell_type": "markdown",
   "id": "fb4a77e9",
   "metadata": {},
   "source": [
    "###  c. Resampling using `df.resample()` Method\n",
    "- The `df.resample()` is a convenience method for frequency conversion and resampling of time series data. \n",
    "- The dataframe on which you call the `resample()` method must have a **datetime-like index**"
   ]
  },
  {
   "cell_type": "code",
   "execution_count": null,
   "id": "1062d11d",
   "metadata": {},
   "outputs": [],
   "source": [
    "df"
   ]
  },
  {
   "cell_type": "markdown",
   "id": "b2dcd45f",
   "metadata": {},
   "source": [
    ">The given dataframe is showing data on **hourly basis**. Suppose for analysis purpose I need **daily, or weekly, monthly, or yearly data as I am no longer interested in hourly stock prices**. So we need to resample our data\n",
    ">- Down Sampling\n",
    ">- Up Sampling"
   ]
  },
  {
   "cell_type": "code",
   "execution_count": null,
   "id": "aeee3141",
   "metadata": {},
   "outputs": [],
   "source": [
    "# get the time series of Close column\n",
    "df.loc[:, 'Close']"
   ]
  },
  {
   "cell_type": "code",
   "execution_count": null,
   "id": "0fe5bc83",
   "metadata": {},
   "outputs": [],
   "source": [
    "# To get the averae closing value on daily basis, we resample on Daily basis\n",
    "df.loc[:, 'Close'].resample('D').mean()\n"
   ]
  },
  {
   "cell_type": "code",
   "execution_count": null,
   "id": "9e9002e0",
   "metadata": {},
   "outputs": [],
   "source": [
    "# To get the maximum closing value on monthly basis, we resample on monthly basis\n",
    "df.loc[:, 'Close'].resample('M').max()"
   ]
  },
  {
   "cell_type": "code",
   "execution_count": null,
   "id": "a3c9f05e",
   "metadata": {},
   "outputs": [],
   "source": [
    "# To get the maximum closing value on yearly basis, we resample on yearly basis\n",
    "df.loc[:, 'Close'].resample('Y').max()"
   ]
  },
  {
   "cell_type": "markdown",
   "id": "fb826f3e",
   "metadata": {},
   "source": [
    ">In a similary fashion, we can apply any aggregate function on any of the columns of our time series data"
   ]
  },
  {
   "cell_type": "code",
   "execution_count": null,
   "id": "52e66d0a",
   "metadata": {},
   "outputs": [],
   "source": [
    "%matplotlib inline\n",
    "df.loc[:, 'Close'].resample('M').min().plot() #it will plot a diagram\n"
   ]
  },
  {
   "cell_type": "code",
   "execution_count": null,
   "id": "15f47d53",
   "metadata": {},
   "outputs": [],
   "source": [
    "%matplotlib inline\n",
    "df.loc[:, 'Close'].resample('Y').max().plot(kind='bar')\n"
   ]
  },
  {
   "cell_type": "code",
   "execution_count": null,
   "id": "ac59badb",
   "metadata": {},
   "outputs": [],
   "source": []
  },
  {
   "cell_type": "code",
   "execution_count": null,
   "id": "d371bff9",
   "metadata": {},
   "outputs": [],
   "source": [
    "%matplotlib inline\n",
    "df.loc[:, 'Volume'].plot(kind='bar')"
   ]
  },
  {
   "cell_type": "code",
   "execution_count": null,
   "id": "96931b7b",
   "metadata": {},
   "outputs": [],
   "source": []
  },
  {
   "cell_type": "code",
   "execution_count": null,
   "id": "4f885c0c",
   "metadata": {},
   "outputs": [],
   "source": [
    "df.loc[:,'Volume'].resample('M').max().plot()"
   ]
  },
  {
   "cell_type": "code",
   "execution_count": null,
   "id": "397189a4",
   "metadata": {},
   "outputs": [],
   "source": []
  },
  {
   "cell_type": "code",
   "execution_count": null,
   "id": "9382b4ed",
   "metadata": {},
   "outputs": [],
   "source": []
  },
  {
   "cell_type": "code",
   "execution_count": null,
   "id": "48028673",
   "metadata": {},
   "outputs": [],
   "source": []
  },
  {
   "cell_type": "markdown",
   "id": "4b5d3892",
   "metadata": {},
   "source": [
    "# Bonus:"
   ]
  },
  {
   "cell_type": "markdown",
   "id": "ae8d0827",
   "metadata": {},
   "source": [
    "## A. Creating a DatetimeIndex\n",
    "- The `pd.date_range()` method returns a **range** of **equally spaced time points as a DatetimeIndex**, which is an immutable container for datetimes.\n",
    "\n",
    "\n",
    "**pd.date_range(start=None, end=None, periods=None, freq=None)**\n",
    "\n",
    "\n",
    "- Where,\n",
    "    - `start` is the left bound (str or datetime) **(inclusive)**\n",
    "    - `end` is the right bound (str or datetime) **(inclusive)**\n",
    "    - `periods` is the number of periods/timepoints to generate\n",
    "    - `freq` can be `s`, `min`, `h`, `d`, `m`, `q`, `y` for seconds, minutes, ....\n",
    "\n",
    "\n",
    "- Out of the four parameters: start, end, periods, and freq, exactly three must be specified"
   ]
  },
  {
   "cell_type": "code",
   "execution_count": 3,
   "id": "58429ef0",
   "metadata": {},
   "outputs": [
    {
     "data": {
      "text/plain": [
       "DatetimeIndex(['2022-01-01 00:00:00', '2022-01-01 01:00:00',\n",
       "               '2022-01-01 02:00:00', '2022-01-01 03:00:00',\n",
       "               '2022-01-01 04:00:00', '2022-01-01 05:00:00',\n",
       "               '2022-01-01 06:00:00', '2022-01-01 07:00:00',\n",
       "               '2022-01-01 08:00:00', '2022-01-01 09:00:00'],\n",
       "              dtype='datetime64[ns]', freq='H')"
      ]
     },
     "execution_count": 3,
     "metadata": {},
     "output_type": "execute_result"
    }
   ],
   "source": [
    "dti = pd.date_range(start='2022/1/1', periods=10, freq='h')\n",
    "dti"
   ]
  },
  {
   "cell_type": "code",
   "execution_count": null,
   "id": "487b7239",
   "metadata": {},
   "outputs": [],
   "source": []
  },
  {
   "cell_type": "code",
   "execution_count": 11,
   "id": "fca10f33",
   "metadata": {},
   "outputs": [
    {
     "data": {
      "text/plain": [
       "DatetimeIndex(['2022-01-01', '2022-01-02', '2022-01-03', '2022-01-04',\n",
       "               '2022-01-05', '2022-01-06', '2022-01-07', '2022-01-08',\n",
       "               '2022-01-09', '2022-01-10'],\n",
       "              dtype='datetime64[ns]', freq='D')"
      ]
     },
     "execution_count": 11,
     "metadata": {},
     "output_type": "execute_result"
    }
   ],
   "source": [
    "#dti = pd.date_range(start='2022/1/1', end='2022/1/31', freq='d') #we can give only anyof exactly 3 parameters\n",
    "dti = pd.date_range(start='2022/1/1', periods =10, freq='d')\n",
    "#dti = pd.date_range(start='2022/1/1', end='2022/1/31', periods =10)\n",
    "#dti = pd.date_range(start='2022/1/1', end='2022/1/31', periods =10, freq='d') #it will give an error\n",
    "dti\n"
   ]
  },
  {
   "cell_type": "code",
   "execution_count": null,
   "id": "acbe75f3",
   "metadata": {},
   "outputs": [],
   "source": []
  },
  {
   "cell_type": "code",
   "execution_count": 13,
   "id": "bd54b906",
   "metadata": {},
   "outputs": [
    {
     "data": {
      "text/plain": [
       "DatetimeIndex(['2022-01-03', '2022-01-04', '2022-01-05', '2022-01-06',\n",
       "               '2022-01-07', '2022-01-10', '2022-01-11', '2022-01-12',\n",
       "               '2022-01-13', '2022-01-14', '2022-01-17', '2022-01-18',\n",
       "               '2022-01-19', '2022-01-20', '2022-01-21', '2022-01-24',\n",
       "               '2022-01-25', '2022-01-26', '2022-01-27', '2022-01-28',\n",
       "               '2022-01-31'],\n",
       "              dtype='datetime64[ns]', freq='B')"
      ]
     },
     "execution_count": 13,
     "metadata": {},
     "output_type": "execute_result"
    }
   ],
   "source": [
    "# here freq=B mean include the business days and exclude the weekends\n",
    "#dti = pd.date_range(start='2022/1/1', end='2022/1/31', freq='D') #freq is by default freq='D'\n",
    "dti = pd.date_range(start='2022/1/1', end='2022/1/31', freq='d') # samll d or capital D are both same\n",
    "# here freq=B mean include the business days and exclude the weekends\n",
    "dti = pd.date_range(start='2022/1/1', end='2022/1/31', freq='B')\n"
   ]
  },
  {
   "cell_type": "code",
   "execution_count": null,
   "id": "db20feef",
   "metadata": {},
   "outputs": [],
   "source": []
  },
  {
   "cell_type": "code",
   "execution_count": 14,
   "id": "f59ac394",
   "metadata": {},
   "outputs": [
    {
     "data": {
      "text/plain": [
       "pandas.core.indexes.datetimes.DatetimeIndex"
      ]
     },
     "execution_count": 14,
     "metadata": {},
     "output_type": "execute_result"
    }
   ],
   "source": [
    "type(dti)"
   ]
  },
  {
   "cell_type": "code",
   "execution_count": null,
   "id": "8f876fbd",
   "metadata": {},
   "outputs": [],
   "source": []
  },
  {
   "cell_type": "code",
   "execution_count": null,
   "id": "be0f1619",
   "metadata": {},
   "outputs": [],
   "source": []
  },
  {
   "cell_type": "code",
   "execution_count": 16,
   "id": "f8d489eb",
   "metadata": {},
   "outputs": [
    {
     "data": {
      "text/plain": [
       "0   2022-01-01\n",
       "1   2022-01-02\n",
       "2   2022-01-03\n",
       "3   2022-01-04\n",
       "4   2022-01-05\n",
       "5   2022-01-06\n",
       "6   2022-01-07\n",
       "7   2022-01-08\n",
       "8   2022-01-09\n",
       "9   2022-01-10\n",
       "dtype: datetime64[ns]"
      ]
     },
     "execution_count": 16,
     "metadata": {},
     "output_type": "execute_result"
    }
   ],
   "source": [
    "s = pd.Series(pd.date_range(\"2022-01-01\", periods=10, freq=\"d\"))\n",
    "s"
   ]
  },
  {
   "cell_type": "code",
   "execution_count": null,
   "id": "6639556d",
   "metadata": {},
   "outputs": [],
   "source": []
  },
  {
   "cell_type": "code",
   "execution_count": 17,
   "id": "61c272b0",
   "metadata": {},
   "outputs": [
    {
     "data": {
      "text/plain": [
       "0     Saturday\n",
       "1       Sunday\n",
       "2       Monday\n",
       "3      Tuesday\n",
       "4    Wednesday\n",
       "5     Thursday\n",
       "6       Friday\n",
       "7     Saturday\n",
       "8       Sunday\n",
       "9       Monday\n",
       "dtype: object"
      ]
     },
     "execution_count": 17,
     "metadata": {},
     "output_type": "execute_result"
    }
   ],
   "source": [
    "s.dt.day_name()"
   ]
  },
  {
   "cell_type": "code",
   "execution_count": 18,
   "id": "1d424b85",
   "metadata": {},
   "outputs": [
    {
     "data": {
      "text/plain": [
       "pandas._libs.tslibs.timestamps.Timestamp"
      ]
     },
     "execution_count": 18,
     "metadata": {},
     "output_type": "execute_result"
    }
   ],
   "source": [
    "type(s[0])"
   ]
  },
  {
   "cell_type": "code",
   "execution_count": null,
   "id": "80fc43bd",
   "metadata": {},
   "outputs": [],
   "source": []
  },
  {
   "cell_type": "markdown",
   "id": "098fef2c",
   "metadata": {},
   "source": [
    "### b. A sample dataset w/o Datetime"
   ]
  },
  {
   "cell_type": "code",
   "execution_count": 19,
   "id": "868675e9",
   "metadata": {},
   "outputs": [
    {
     "data": {
      "text/html": [
       "<div>\n",
       "<style scoped>\n",
       "    .dataframe tbody tr th:only-of-type {\n",
       "        vertical-align: middle;\n",
       "    }\n",
       "\n",
       "    .dataframe tbody tr th {\n",
       "        vertical-align: top;\n",
       "    }\n",
       "\n",
       "    .dataframe thead th {\n",
       "        text-align: right;\n",
       "    }\n",
       "</style>\n",
       "<table border=\"1\" class=\"dataframe\">\n",
       "  <thead>\n",
       "    <tr style=\"text-align: right;\">\n",
       "      <th></th>\n",
       "      <th>day</th>\n",
       "      <th>temperature</th>\n",
       "      <th>humidity</th>\n",
       "    </tr>\n",
       "  </thead>\n",
       "  <tbody>\n",
       "    <tr>\n",
       "      <th>0</th>\n",
       "      <td>Monday</td>\n",
       "      <td>30</td>\n",
       "      <td>70</td>\n",
       "    </tr>\n",
       "    <tr>\n",
       "      <th>1</th>\n",
       "      <td>Tuesday</td>\n",
       "      <td>34</td>\n",
       "      <td>65</td>\n",
       "    </tr>\n",
       "    <tr>\n",
       "      <th>2</th>\n",
       "      <td>Wednesday</td>\n",
       "      <td>28</td>\n",
       "      <td>68</td>\n",
       "    </tr>\n",
       "    <tr>\n",
       "      <th>3</th>\n",
       "      <td>Thursday</td>\n",
       "      <td>35</td>\n",
       "      <td>72</td>\n",
       "    </tr>\n",
       "    <tr>\n",
       "      <th>4</th>\n",
       "      <td>Friday</td>\n",
       "      <td>32</td>\n",
       "      <td>69</td>\n",
       "    </tr>\n",
       "    <tr>\n",
       "      <th>5</th>\n",
       "      <td>Monday</td>\n",
       "      <td>37</td>\n",
       "      <td>71</td>\n",
       "    </tr>\n",
       "    <tr>\n",
       "      <th>6</th>\n",
       "      <td>Tuesday</td>\n",
       "      <td>26</td>\n",
       "      <td>70</td>\n",
       "    </tr>\n",
       "    <tr>\n",
       "      <th>7</th>\n",
       "      <td>Monday</td>\n",
       "      <td>33</td>\n",
       "      <td>66</td>\n",
       "    </tr>\n",
       "    <tr>\n",
       "      <th>8</th>\n",
       "      <td>Tuesday</td>\n",
       "      <td>28</td>\n",
       "      <td>76</td>\n",
       "    </tr>\n",
       "    <tr>\n",
       "      <th>9</th>\n",
       "      <td>Wednesday</td>\n",
       "      <td>29</td>\n",
       "      <td>54</td>\n",
       "    </tr>\n",
       "    <tr>\n",
       "      <th>10</th>\n",
       "      <td>Monday</td>\n",
       "      <td>45</td>\n",
       "      <td>77</td>\n",
       "    </tr>\n",
       "    <tr>\n",
       "      <th>11</th>\n",
       "      <td>Tuesday</td>\n",
       "      <td>40</td>\n",
       "      <td>54</td>\n",
       "    </tr>\n",
       "    <tr>\n",
       "      <th>12</th>\n",
       "      <td>Wednesday</td>\n",
       "      <td>34</td>\n",
       "      <td>67</td>\n",
       "    </tr>\n",
       "    <tr>\n",
       "      <th>13</th>\n",
       "      <td>Thursday</td>\n",
       "      <td>32</td>\n",
       "      <td>79</td>\n",
       "    </tr>\n",
       "    <tr>\n",
       "      <th>14</th>\n",
       "      <td>Friday</td>\n",
       "      <td>31</td>\n",
       "      <td>80</td>\n",
       "    </tr>\n",
       "    <tr>\n",
       "      <th>15</th>\n",
       "      <td>Thursday</td>\n",
       "      <td>26</td>\n",
       "      <td>78</td>\n",
       "    </tr>\n",
       "    <tr>\n",
       "      <th>16</th>\n",
       "      <td>Friday</td>\n",
       "      <td>28</td>\n",
       "      <td>54</td>\n",
       "    </tr>\n",
       "    <tr>\n",
       "      <th>17</th>\n",
       "      <td>Monday</td>\n",
       "      <td>21</td>\n",
       "      <td>52</td>\n",
       "    </tr>\n",
       "    <tr>\n",
       "      <th>18</th>\n",
       "      <td>Tuesday</td>\n",
       "      <td>22</td>\n",
       "      <td>64</td>\n",
       "    </tr>\n",
       "    <tr>\n",
       "      <th>19</th>\n",
       "      <td>Wednesday</td>\n",
       "      <td>21</td>\n",
       "      <td>61</td>\n",
       "    </tr>\n",
       "  </tbody>\n",
       "</table>\n",
       "</div>"
      ],
      "text/plain": [
       "          day  temperature  humidity\n",
       "0      Monday           30        70\n",
       "1     Tuesday           34        65\n",
       "2   Wednesday           28        68\n",
       "3    Thursday           35        72\n",
       "4      Friday           32        69\n",
       "5      Monday           37        71\n",
       "6     Tuesday           26        70\n",
       "7      Monday           33        66\n",
       "8     Tuesday           28        76\n",
       "9   Wednesday           29        54\n",
       "10     Monday           45        77\n",
       "11    Tuesday           40        54\n",
       "12  Wednesday           34        67\n",
       "13   Thursday           32        79\n",
       "14     Friday           31        80\n",
       "15   Thursday           26        78\n",
       "16     Friday           28        54\n",
       "17     Monday           21        52\n",
       "18    Tuesday           22        64\n",
       "19  Wednesday           21        61"
      ]
     },
     "execution_count": 19,
     "metadata": {},
     "output_type": "execute_result"
    }
   ],
   "source": [
    "# A sample dataset without Datetime\n",
    "import pandas as pd\n",
    "\n",
    "# this dataframe has no datecolumn\n",
    "df = pd.read_csv(\"datasets/no_date.csv\")\n",
    "df\n"
   ]
  },
  {
   "cell_type": "code",
   "execution_count": 20,
   "id": "09213e6d",
   "metadata": {},
   "outputs": [
    {
     "data": {
      "text/plain": [
       "(20, 3)"
      ]
     },
     "execution_count": 20,
     "metadata": {},
     "output_type": "execute_result"
    }
   ],
   "source": [
    "df.shape"
   ]
  },
  {
   "cell_type": "code",
   "execution_count": null,
   "id": "790b8b58",
   "metadata": {},
   "outputs": [],
   "source": []
  },
  {
   "cell_type": "code",
   "execution_count": null,
   "id": "c79f1ae9",
   "metadata": {},
   "outputs": [],
   "source": []
  },
  {
   "cell_type": "markdown",
   "id": "49af4d9f",
   "metadata": {},
   "source": [
    "### c. Create a DateTime Object and Set it as Index to make the above dataset a TimeSeries Data"
   ]
  },
  {
   "cell_type": "code",
   "execution_count": 21,
   "id": "6c3c28c0",
   "metadata": {},
   "outputs": [
    {
     "data": {
      "text/plain": [
       "DatetimeIndex(['2022-01-01', '2022-01-02', '2022-01-03', '2022-01-04',\n",
       "               '2022-01-05', '2022-01-06', '2022-01-07', '2022-01-08',\n",
       "               '2022-01-09', '2022-01-10', '2022-01-11', '2022-01-12',\n",
       "               '2022-01-13', '2022-01-14', '2022-01-15', '2022-01-16',\n",
       "               '2022-01-17', '2022-01-18', '2022-01-19', '2022-01-20'],\n",
       "              dtype='datetime64[ns]', freq='D')"
      ]
     },
     "execution_count": 21,
     "metadata": {},
     "output_type": "execute_result"
    }
   ],
   "source": [
    "dti = pd.date_range(start='2022/1/1', end='2022/1/20', freq='d')\n",
    "dti\n"
   ]
  },
  {
   "cell_type": "code",
   "execution_count": 22,
   "id": "3d8877ce",
   "metadata": {},
   "outputs": [
    {
     "data": {
      "text/html": [
       "<div>\n",
       "<style scoped>\n",
       "    .dataframe tbody tr th:only-of-type {\n",
       "        vertical-align: middle;\n",
       "    }\n",
       "\n",
       "    .dataframe tbody tr th {\n",
       "        vertical-align: top;\n",
       "    }\n",
       "\n",
       "    .dataframe thead th {\n",
       "        text-align: right;\n",
       "    }\n",
       "</style>\n",
       "<table border=\"1\" class=\"dataframe\">\n",
       "  <thead>\n",
       "    <tr style=\"text-align: right;\">\n",
       "      <th></th>\n",
       "      <th>day</th>\n",
       "      <th>temperature</th>\n",
       "      <th>humidity</th>\n",
       "    </tr>\n",
       "  </thead>\n",
       "  <tbody>\n",
       "    <tr>\n",
       "      <th>2022-01-01</th>\n",
       "      <td>Monday</td>\n",
       "      <td>30</td>\n",
       "      <td>70</td>\n",
       "    </tr>\n",
       "    <tr>\n",
       "      <th>2022-01-02</th>\n",
       "      <td>Tuesday</td>\n",
       "      <td>34</td>\n",
       "      <td>65</td>\n",
       "    </tr>\n",
       "    <tr>\n",
       "      <th>2022-01-03</th>\n",
       "      <td>Wednesday</td>\n",
       "      <td>28</td>\n",
       "      <td>68</td>\n",
       "    </tr>\n",
       "    <tr>\n",
       "      <th>2022-01-04</th>\n",
       "      <td>Thursday</td>\n",
       "      <td>35</td>\n",
       "      <td>72</td>\n",
       "    </tr>\n",
       "    <tr>\n",
       "      <th>2022-01-05</th>\n",
       "      <td>Friday</td>\n",
       "      <td>32</td>\n",
       "      <td>69</td>\n",
       "    </tr>\n",
       "    <tr>\n",
       "      <th>2022-01-06</th>\n",
       "      <td>Monday</td>\n",
       "      <td>37</td>\n",
       "      <td>71</td>\n",
       "    </tr>\n",
       "    <tr>\n",
       "      <th>2022-01-07</th>\n",
       "      <td>Tuesday</td>\n",
       "      <td>26</td>\n",
       "      <td>70</td>\n",
       "    </tr>\n",
       "    <tr>\n",
       "      <th>2022-01-08</th>\n",
       "      <td>Monday</td>\n",
       "      <td>33</td>\n",
       "      <td>66</td>\n",
       "    </tr>\n",
       "    <tr>\n",
       "      <th>2022-01-09</th>\n",
       "      <td>Tuesday</td>\n",
       "      <td>28</td>\n",
       "      <td>76</td>\n",
       "    </tr>\n",
       "    <tr>\n",
       "      <th>2022-01-10</th>\n",
       "      <td>Wednesday</td>\n",
       "      <td>29</td>\n",
       "      <td>54</td>\n",
       "    </tr>\n",
       "    <tr>\n",
       "      <th>2022-01-11</th>\n",
       "      <td>Monday</td>\n",
       "      <td>45</td>\n",
       "      <td>77</td>\n",
       "    </tr>\n",
       "    <tr>\n",
       "      <th>2022-01-12</th>\n",
       "      <td>Tuesday</td>\n",
       "      <td>40</td>\n",
       "      <td>54</td>\n",
       "    </tr>\n",
       "    <tr>\n",
       "      <th>2022-01-13</th>\n",
       "      <td>Wednesday</td>\n",
       "      <td>34</td>\n",
       "      <td>67</td>\n",
       "    </tr>\n",
       "    <tr>\n",
       "      <th>2022-01-14</th>\n",
       "      <td>Thursday</td>\n",
       "      <td>32</td>\n",
       "      <td>79</td>\n",
       "    </tr>\n",
       "    <tr>\n",
       "      <th>2022-01-15</th>\n",
       "      <td>Friday</td>\n",
       "      <td>31</td>\n",
       "      <td>80</td>\n",
       "    </tr>\n",
       "    <tr>\n",
       "      <th>2022-01-16</th>\n",
       "      <td>Thursday</td>\n",
       "      <td>26</td>\n",
       "      <td>78</td>\n",
       "    </tr>\n",
       "    <tr>\n",
       "      <th>2022-01-17</th>\n",
       "      <td>Friday</td>\n",
       "      <td>28</td>\n",
       "      <td>54</td>\n",
       "    </tr>\n",
       "    <tr>\n",
       "      <th>2022-01-18</th>\n",
       "      <td>Monday</td>\n",
       "      <td>21</td>\n",
       "      <td>52</td>\n",
       "    </tr>\n",
       "    <tr>\n",
       "      <th>2022-01-19</th>\n",
       "      <td>Tuesday</td>\n",
       "      <td>22</td>\n",
       "      <td>64</td>\n",
       "    </tr>\n",
       "    <tr>\n",
       "      <th>2022-01-20</th>\n",
       "      <td>Wednesday</td>\n",
       "      <td>21</td>\n",
       "      <td>61</td>\n",
       "    </tr>\n",
       "  </tbody>\n",
       "</table>\n",
       "</div>"
      ],
      "text/plain": [
       "                  day  temperature  humidity\n",
       "2022-01-01     Monday           30        70\n",
       "2022-01-02    Tuesday           34        65\n",
       "2022-01-03  Wednesday           28        68\n",
       "2022-01-04   Thursday           35        72\n",
       "2022-01-05     Friday           32        69\n",
       "2022-01-06     Monday           37        71\n",
       "2022-01-07    Tuesday           26        70\n",
       "2022-01-08     Monday           33        66\n",
       "2022-01-09    Tuesday           28        76\n",
       "2022-01-10  Wednesday           29        54\n",
       "2022-01-11     Monday           45        77\n",
       "2022-01-12    Tuesday           40        54\n",
       "2022-01-13  Wednesday           34        67\n",
       "2022-01-14   Thursday           32        79\n",
       "2022-01-15     Friday           31        80\n",
       "2022-01-16   Thursday           26        78\n",
       "2022-01-17     Friday           28        54\n",
       "2022-01-18     Monday           21        52\n",
       "2022-01-19    Tuesday           22        64\n",
       "2022-01-20  Wednesday           21        61"
      ]
     },
     "execution_count": 22,
     "metadata": {},
     "output_type": "execute_result"
    }
   ],
   "source": [
    "# use the set_index function, and make the above created date ranges, index of your dataframe\n",
    "df.set_index(dti, inplace=True)\n"
   ]
  },
  {
   "cell_type": "markdown",
   "id": "122180a7",
   "metadata": {},
   "source": [
    "Does the day column match with the dates? Can you think of a way to reset the day column as per the dates?"
   ]
  },
  {
   "cell_type": "code",
   "execution_count": 23,
   "id": "f19e5dd6",
   "metadata": {},
   "outputs": [
    {
     "data": {
      "text/html": [
       "<div>\n",
       "<style scoped>\n",
       "    .dataframe tbody tr th:only-of-type {\n",
       "        vertical-align: middle;\n",
       "    }\n",
       "\n",
       "    .dataframe tbody tr th {\n",
       "        vertical-align: top;\n",
       "    }\n",
       "\n",
       "    .dataframe thead th {\n",
       "        text-align: right;\n",
       "    }\n",
       "</style>\n",
       "<table border=\"1\" class=\"dataframe\">\n",
       "  <thead>\n",
       "    <tr style=\"text-align: right;\">\n",
       "      <th></th>\n",
       "      <th>day</th>\n",
       "      <th>temperature</th>\n",
       "      <th>humidity</th>\n",
       "      <th>correct day</th>\n",
       "    </tr>\n",
       "  </thead>\n",
       "  <tbody>\n",
       "    <tr>\n",
       "      <th>2022-01-01</th>\n",
       "      <td>Monday</td>\n",
       "      <td>30</td>\n",
       "      <td>70</td>\n",
       "      <td>Saturday</td>\n",
       "    </tr>\n",
       "    <tr>\n",
       "      <th>2022-01-02</th>\n",
       "      <td>Tuesday</td>\n",
       "      <td>34</td>\n",
       "      <td>65</td>\n",
       "      <td>Sunday</td>\n",
       "    </tr>\n",
       "    <tr>\n",
       "      <th>2022-01-03</th>\n",
       "      <td>Wednesday</td>\n",
       "      <td>28</td>\n",
       "      <td>68</td>\n",
       "      <td>Monday</td>\n",
       "    </tr>\n",
       "    <tr>\n",
       "      <th>2022-01-04</th>\n",
       "      <td>Thursday</td>\n",
       "      <td>35</td>\n",
       "      <td>72</td>\n",
       "      <td>Tuesday</td>\n",
       "    </tr>\n",
       "    <tr>\n",
       "      <th>2022-01-05</th>\n",
       "      <td>Friday</td>\n",
       "      <td>32</td>\n",
       "      <td>69</td>\n",
       "      <td>Wednesday</td>\n",
       "    </tr>\n",
       "    <tr>\n",
       "      <th>2022-01-06</th>\n",
       "      <td>Monday</td>\n",
       "      <td>37</td>\n",
       "      <td>71</td>\n",
       "      <td>Thursday</td>\n",
       "    </tr>\n",
       "    <tr>\n",
       "      <th>2022-01-07</th>\n",
       "      <td>Tuesday</td>\n",
       "      <td>26</td>\n",
       "      <td>70</td>\n",
       "      <td>Friday</td>\n",
       "    </tr>\n",
       "    <tr>\n",
       "      <th>2022-01-08</th>\n",
       "      <td>Monday</td>\n",
       "      <td>33</td>\n",
       "      <td>66</td>\n",
       "      <td>Saturday</td>\n",
       "    </tr>\n",
       "    <tr>\n",
       "      <th>2022-01-09</th>\n",
       "      <td>Tuesday</td>\n",
       "      <td>28</td>\n",
       "      <td>76</td>\n",
       "      <td>Sunday</td>\n",
       "    </tr>\n",
       "    <tr>\n",
       "      <th>2022-01-10</th>\n",
       "      <td>Wednesday</td>\n",
       "      <td>29</td>\n",
       "      <td>54</td>\n",
       "      <td>Monday</td>\n",
       "    </tr>\n",
       "    <tr>\n",
       "      <th>2022-01-11</th>\n",
       "      <td>Monday</td>\n",
       "      <td>45</td>\n",
       "      <td>77</td>\n",
       "      <td>Tuesday</td>\n",
       "    </tr>\n",
       "    <tr>\n",
       "      <th>2022-01-12</th>\n",
       "      <td>Tuesday</td>\n",
       "      <td>40</td>\n",
       "      <td>54</td>\n",
       "      <td>Wednesday</td>\n",
       "    </tr>\n",
       "    <tr>\n",
       "      <th>2022-01-13</th>\n",
       "      <td>Wednesday</td>\n",
       "      <td>34</td>\n",
       "      <td>67</td>\n",
       "      <td>Thursday</td>\n",
       "    </tr>\n",
       "    <tr>\n",
       "      <th>2022-01-14</th>\n",
       "      <td>Thursday</td>\n",
       "      <td>32</td>\n",
       "      <td>79</td>\n",
       "      <td>Friday</td>\n",
       "    </tr>\n",
       "    <tr>\n",
       "      <th>2022-01-15</th>\n",
       "      <td>Friday</td>\n",
       "      <td>31</td>\n",
       "      <td>80</td>\n",
       "      <td>Saturday</td>\n",
       "    </tr>\n",
       "    <tr>\n",
       "      <th>2022-01-16</th>\n",
       "      <td>Thursday</td>\n",
       "      <td>26</td>\n",
       "      <td>78</td>\n",
       "      <td>Sunday</td>\n",
       "    </tr>\n",
       "    <tr>\n",
       "      <th>2022-01-17</th>\n",
       "      <td>Friday</td>\n",
       "      <td>28</td>\n",
       "      <td>54</td>\n",
       "      <td>Monday</td>\n",
       "    </tr>\n",
       "    <tr>\n",
       "      <th>2022-01-18</th>\n",
       "      <td>Monday</td>\n",
       "      <td>21</td>\n",
       "      <td>52</td>\n",
       "      <td>Tuesday</td>\n",
       "    </tr>\n",
       "    <tr>\n",
       "      <th>2022-01-19</th>\n",
       "      <td>Tuesday</td>\n",
       "      <td>22</td>\n",
       "      <td>64</td>\n",
       "      <td>Wednesday</td>\n",
       "    </tr>\n",
       "    <tr>\n",
       "      <th>2022-01-20</th>\n",
       "      <td>Wednesday</td>\n",
       "      <td>21</td>\n",
       "      <td>61</td>\n",
       "      <td>Thursday</td>\n",
       "    </tr>\n",
       "  </tbody>\n",
       "</table>\n",
       "</div>"
      ],
      "text/plain": [
       "                  day  temperature  humidity correct day\n",
       "2022-01-01     Monday           30        70    Saturday\n",
       "2022-01-02    Tuesday           34        65      Sunday\n",
       "2022-01-03  Wednesday           28        68      Monday\n",
       "2022-01-04   Thursday           35        72     Tuesday\n",
       "2022-01-05     Friday           32        69   Wednesday\n",
       "2022-01-06     Monday           37        71    Thursday\n",
       "2022-01-07    Tuesday           26        70      Friday\n",
       "2022-01-08     Monday           33        66    Saturday\n",
       "2022-01-09    Tuesday           28        76      Sunday\n",
       "2022-01-10  Wednesday           29        54      Monday\n",
       "2022-01-11     Monday           45        77     Tuesday\n",
       "2022-01-12    Tuesday           40        54   Wednesday\n",
       "2022-01-13  Wednesday           34        67    Thursday\n",
       "2022-01-14   Thursday           32        79      Friday\n",
       "2022-01-15     Friday           31        80    Saturday\n",
       "2022-01-16   Thursday           26        78      Sunday\n",
       "2022-01-17     Friday           28        54      Monday\n",
       "2022-01-18     Monday           21        52     Tuesday\n",
       "2022-01-19    Tuesday           22        64   Wednesday\n",
       "2022-01-20  Wednesday           21        61    Thursday"
      ]
     },
     "execution_count": 23,
     "metadata": {},
     "output_type": "execute_result"
    }
   ],
   "source": [
    "df['correct day'] = list(pd.Series(dti.day_name()))\n",
    "df\n"
   ]
  },
  {
   "cell_type": "code",
   "execution_count": 32,
   "id": "b53c72c6",
   "metadata": {},
   "outputs": [
    {
     "ename": "NameError",
     "evalue": "name 'day' is not defined",
     "output_type": "error",
     "traceback": [
      "\u001b[1;31m---------------------------------------------------------------------------\u001b[0m",
      "\u001b[1;31mNameError\u001b[0m                                 Traceback (most recent call last)",
      "Cell \u001b[1;32mIn[32], line 2\u001b[0m\n\u001b[0;32m      1\u001b[0m df[\u001b[38;5;124m'\u001b[39m\u001b[38;5;124mday\u001b[39m\u001b[38;5;124m'\u001b[39m] \u001b[38;5;241m=\u001b[39m \u001b[38;5;28mlist\u001b[39m(pd\u001b[38;5;241m.\u001b[39mSeries(dti\u001b[38;5;241m.\u001b[39mday_name()))\n\u001b[1;32m----> 2\u001b[0m df[\u001b[38;5;124m'\u001b[39m\u001b[38;5;124mday\u001b[39m\u001b[38;5;124m'\u001b[39m] \u001b[38;5;241m=\u001b[39m \u001b[43mday\u001b[49m[\u001b[38;5;124m'\u001b[39m\u001b[38;5;124mcorrect day\u001b[39m\u001b[38;5;124m'\u001b[39m]\n\u001b[0;32m      3\u001b[0m df\n",
      "\u001b[1;31mNameError\u001b[0m: name 'day' is not defined"
     ]
    }
   ],
   "source": [
    "#df['day'] = list(pd.Series(dti.day_name()))\n",
    "df['day'] = day['correct day']\n",
    "df"
   ]
  },
  {
   "cell_type": "markdown",
   "id": "3d7aaead",
   "metadata": {},
   "source": [
    ">**Students are advised to explore the Pandas `Period` and `PeriodIndex` data structures at their own**"
   ]
  },
  {
   "cell_type": "code",
   "execution_count": null,
   "id": "25d43d56",
   "metadata": {},
   "outputs": [],
   "source": []
  },
  {
   "cell_type": "code",
   "execution_count": null,
   "id": "28297217",
   "metadata": {},
   "outputs": [],
   "source": []
  },
  {
   "cell_type": "code",
   "execution_count": null,
   "id": "f9b11122",
   "metadata": {},
   "outputs": [],
   "source": []
  },
  {
   "cell_type": "code",
   "execution_count": null,
   "id": "2694814e",
   "metadata": {},
   "outputs": [],
   "source": []
  },
  {
   "cell_type": "markdown",
   "id": "39060aab",
   "metadata": {},
   "source": [
    "## B. Creating a Period and Periodindex"
   ]
  },
  {
   "cell_type": "markdown",
   "id": "9452a840",
   "metadata": {},
   "source": [
    "### a. Have an Insight about Period"
   ]
  },
  {
   "cell_type": "code",
   "execution_count": 33,
   "id": "cc6be8b3",
   "metadata": {},
   "outputs": [
    {
     "data": {
      "text/plain": [
       "Period('2021', 'A-DEC')"
      ]
     },
     "execution_count": 33,
     "metadata": {},
     "output_type": "execute_result"
    }
   ],
   "source": [
    "import pandas as pd\n",
    "\n",
    "# let us passed as argument to the Pandas Period function and notice the output\n",
    "# A-DEC shows that 2021 is an annual period and end at December\n",
    "y = pd.Period('2021')\n",
    "y"
   ]
  },
  {
   "cell_type": "code",
   "execution_count": null,
   "id": "552fb833",
   "metadata": {},
   "outputs": [],
   "source": [
    "# you can check different attributes related to this period\n",
    "# for instance check the start time, which is 1st january\n",
    "y.start_time"
   ]
  },
  {
   "cell_type": "code",
   "execution_count": 34,
   "id": "d578ce09",
   "metadata": {},
   "outputs": [
    {
     "data": {
      "text/plain": [
       "Timestamp('2021-12-31 23:59:59.999999999')"
      ]
     },
     "execution_count": 34,
     "metadata": {},
     "output_type": "execute_result"
    }
   ],
   "source": [
    "# check the end time which is obviously 31st december\n",
    "y.end_time"
   ]
  },
  {
   "cell_type": "code",
   "execution_count": 35,
   "id": "e031d495",
   "metadata": {},
   "outputs": [
    {
     "data": {
      "text/plain": [
       "False"
      ]
     },
     "execution_count": 35,
     "metadata": {},
     "output_type": "execute_result"
    }
   ],
   "source": [
    "# check whether it is leap year\n",
    "y.is_leap_year"
   ]
  },
  {
   "cell_type": "code",
   "execution_count": 36,
   "id": "66060548",
   "metadata": {},
   "outputs": [
    {
     "name": "stdout",
     "output_type": "stream",
     "text": [
      "period:  2021-08\n",
      "start time:  2021-08-01 00:00:00\n",
      "end time:  2021-08-31 23:59:59.999999999\n",
      "Next monthly period will be:  2021-09\n"
     ]
    }
   ],
   "source": [
    "# you can also create a monthly period and check its start and end time\n",
    "m = pd.Period('2021-8')\n",
    "print(\"period: \", m)\n",
    "\n",
    "print(\"start time: \",m.start_time)\n",
    "print(\"end time: \",m.end_time)\n",
    "\n",
    "# performing arithmatic operation\n",
    "print(\"Next monthly period will be: \",m+1)\n"
   ]
  },
  {
   "cell_type": "code",
   "execution_count": 37,
   "id": "83ee8c66",
   "metadata": {},
   "outputs": [
    {
     "name": "stdout",
     "output_type": "stream",
     "text": [
      "2016-02-28\n",
      "2016-02-28 00:00:00\n",
      "2016-02-28 23:59:59.999999999\n",
      "2016-02-29\n"
     ]
    }
   ],
   "source": [
    "# you can compute the daily and hourly period as well\n",
    "import pandas as pd\n",
    "d= pd.Period('2016-02-28', freq='D')\n",
    "print(d)\n",
    "\n",
    "print(d.start_time)\n",
    "\n",
    "print(d.end_time)\n",
    "print(d+1)"
   ]
  },
  {
   "cell_type": "code",
   "execution_count": null,
   "id": "1c5c454f",
   "metadata": {},
   "outputs": [],
   "source": []
  },
  {
   "cell_type": "markdown",
   "id": "20b28aa7",
   "metadata": {},
   "source": [
    "### b. Have an Insight about Period Index\n",
    "The above discuused periods can also be used as index in a DataFrame"
   ]
  },
  {
   "cell_type": "code",
   "execution_count": 45,
   "id": "f340bab5",
   "metadata": {},
   "outputs": [
    {
     "data": {
      "text/plain": [
       "PeriodIndex(['2011-01-01', '2011-01-02', '2011-01-03', '2011-01-04',\n",
       "             '2011-01-05', '2011-01-06', '2011-01-07', '2011-01-08',\n",
       "             '2011-01-09', '2011-01-10',\n",
       "             ...\n",
       "             '2016-12-23', '2016-12-24', '2016-12-25', '2016-12-26',\n",
       "             '2016-12-27', '2016-12-28', '2016-12-29', '2016-12-30',\n",
       "             '2016-12-31', '2017-01-01'],\n",
       "            dtype='period[D]', length=2193)"
      ]
     },
     "execution_count": 45,
     "metadata": {},
     "output_type": "execute_result"
    }
   ],
   "source": [
    "# create a quarterly period b/w 2011 to 2017\n",
    "idx = pd.period_range('2011', '2017', freq='d')\n",
    "idx"
   ]
  },
  {
   "cell_type": "code",
   "execution_count": 46,
   "id": "02866b61",
   "metadata": {},
   "outputs": [
    {
     "data": {
      "text/plain": [
       "2011-01-01    46\n",
       "2011-01-02    95\n",
       "2011-01-03    41\n",
       "2011-01-04    43\n",
       "2011-01-05    98\n",
       "              ..\n",
       "2016-12-28    36\n",
       "2016-12-29    73\n",
       "2016-12-30    30\n",
       "2016-12-31    36\n",
       "2017-01-01    10\n",
       "Freq: D, Length: 2193, dtype: int32"
      ]
     },
     "execution_count": 46,
     "metadata": {},
     "output_type": "execute_result"
    }
   ],
   "source": [
    "import numpy as np\n",
    "\n",
    "# set this period as index of random series\n",
    "ps = pd.Series(np.random.randint(10,100,len(idx)), idx)\n",
    "ps"
   ]
  },
  {
   "cell_type": "code",
   "execution_count": 47,
   "id": "c544298b",
   "metadata": {},
   "outputs": [
    {
     "data": {
      "text/plain": [
       "2016-01-01    54\n",
       "2016-01-02    33\n",
       "2016-01-03    91\n",
       "2016-01-04    29\n",
       "2016-01-05    19\n",
       "              ..\n",
       "2016-12-27    15\n",
       "2016-12-28    36\n",
       "2016-12-29    73\n",
       "2016-12-30    30\n",
       "2016-12-31    36\n",
       "Freq: D, Length: 366, dtype: int32"
      ]
     },
     "execution_count": 47,
     "metadata": {},
     "output_type": "execute_result"
    }
   ],
   "source": [
    "# you can partially retrieve data or retrieve data in chunks using these periods\n",
    "ps['2016']"
   ]
  },
  {
   "cell_type": "code",
   "execution_count": null,
   "id": "f98fda1f",
   "metadata": {},
   "outputs": [],
   "source": [
    "ps['2016':'2017']"
   ]
  },
  {
   "cell_type": "code",
   "execution_count": null,
   "id": "d4e2ffcc",
   "metadata": {},
   "outputs": [],
   "source": []
  },
  {
   "cell_type": "markdown",
   "id": "0ebcd2d2",
   "metadata": {},
   "source": [
    "### MINE NOTEs Practice"
   ]
  },
  {
   "cell_type": "code",
   "execution_count": null,
   "id": "9a2450f6",
   "metadata": {},
   "outputs": [],
   "source": [
    "# Create a datetime object to be used for comparison\n",
    "\n",
    "#import pandas as pd\n",
    "#df = pd.read_csv(\"datasets/ufo.csv\")\n",
    "\n",
    "# Use `errors=coerce` to translate the remaining data and keep `NaT` for invalid string\n",
    "#pd.to_datetime(['2017-01-05', 'Jan 6, 2017', 'abc'], errors='coerce')\n",
    "#pd.to_datetime(['2017-01-05', 'Jan 6, 2017', 'abc'], errors='ignore') #it will ignore error\n",
    "#pd.to_datetime(['2017-01-05', 'Jan 6, 2017', 'abc'], errors='raise') #it will raise an error\n",
    "\n",
    "#we want to see all UFOS between 1st march 1995 to 6 march 1995\n",
    "#ts1 = pd.to_datetime('1995/03/1')\n",
    "#ts2 = pd.to_datetime('1995/03/7')  #look here we have to take 7 here not 6 IMPORTANT\n",
    "#df.loc[(df.Time >= ts1) & (df.Time <= ts2), :]\n",
    "\n",
    "#ts1 = df.Time.min()\n",
    "#ts1\n",
    "#df.loc[df.Time == ts1]\n",
    "#df.loc[df.Time.max()] #its giving error , we can not pass directly\n",
    "\n",
    "#td = df.Time.max() - df.Time.min()\n",
    "#print(td)\n",
    "#print(type(td))\n",
    "\n",
    "#import pandas as pd\n",
    "#df = pd.read_csv(\"datasets/cryptodata.csv\")\n",
    "#df\n",
    "\n",
    "#pd.to_datetime(df.loc[0,'Date'], format = '%Y-%m-%d %I-%p').day_name() #It will not give an error, call directly on one record\n",
    "#pd.to_datetime(df.loc[:,'Date'], format = '%Y-%m-%d %I-%p').day_name() #it will give error because am calling on whole series\n",
    "#pd.to_datetime(df.loc[:,'Date'], format = '%Y-%m-%d %I-%p').dt.day_name() #so we have to write .dt here it converts the series in datetimeproperties\n",
    "\n",
    "#df.dayofweek = df['Date'].dt.day_name() #it will give error, it will not create new column\n",
    "#df['dayofweek'] = df['Date'].dt.day_name() #it will create a new column and save values in it\n",
    "\n",
    "#df.loc[(df['Date'] >= '01/01/2020') & (df['Date'] <= '31/01/2020')] #it will show only january 2020 records\n",
    "\n",
    "# Volumn average in July 2021\n",
    "#df.loc[\"2019-07\"].Volume.mean() #IMPORTANT\n",
    "#df.loc[\"2019-07\",'Volume'].mean() #both are same\n",
    "\n",
    "# To get the averae closing value on daily basis, we resample on Daily basis\n",
    "#df.loc[:, 'Close'].resample('D').mean()\n",
    "#df.loc[:, 'Close'].resample('M').min().plot() #it will plot a diagram\n",
    "#df.loc[:, 'Close'].resample('Y').max().plot(kind='bar')\n",
    "#df.loc[:, 'Close'].plot(kind='bar')\n",
    "\n",
    "#DateTime index\n",
    "#dti = pd.date_range(start='2022/1/1', end='2022/1/31', freq='d') #we can give only anyof exactly 3 parameters\n",
    "#dti = pd.date_range(start='2022/1/1', periods =10, freq='d')\n",
    "#dti = pd.date_range(start='2022/1/1', end='2022/1/31', periods =10)\n",
    "#dti = pd.date_range(start='2022/1/1', end='2022/1/31', periods =10, freq='d') #it will give an error\n",
    "#dti\n",
    "#dti = pd.date_range(start='2022/1/1', end='2022/1/31', freq='D') #freq is by default freq='D'\n",
    "#dti = pd.date_range(start='2022/1/1', end='2022/1/31', freq='d') # samll d or capital D are both same\n",
    "# here freq=B mean include the business days and exclude the weekends\n",
    "#dti = pd.date_range(start='2022/1/1', end='2022/1/31', freq='B')\n",
    "\n",
    "# A sample dataset without Datetime\n",
    "#import pandas as pd\n",
    "# this dataframe has no datecolumn\n",
    "#df = pd.read_csv(\"datasets/no_date.csv\")\n",
    "#df\n",
    "#dti = pd.date_range(start='2022/1/1', end='2022/1/20', freq='d')\n",
    "#dti\n",
    "# use the set_index function, and make the above created date ranges, index of your dataframe\n",
    "#df.set_index(dti, inplace=True)\n",
    "#df['correct day'] = list(pd.Series(dti.day_name()))\n",
    "#df\n",
    "#df['day'] = list(pd.Series(dti.day_name()))"
   ]
  },
  {
   "cell_type": "code",
   "execution_count": null,
   "id": "aa99b61c",
   "metadata": {},
   "outputs": [],
   "source": []
  },
  {
   "cell_type": "code",
   "execution_count": null,
   "id": "b2e55b7a",
   "metadata": {},
   "outputs": [],
   "source": []
  }
 ],
 "metadata": {
  "kernelspec": {
   "display_name": "Python 3 (ipykernel)",
   "language": "python",
   "name": "python3"
  },
  "language_info": {
   "codemirror_mode": {
    "name": "ipython",
    "version": 3
   },
   "file_extension": ".py",
   "mimetype": "text/x-python",
   "name": "python",
   "nbconvert_exporter": "python",
   "pygments_lexer": "ipython3",
   "version": "3.11.0"
  }
 },
 "nbformat": 4,
 "nbformat_minor": 5
}
